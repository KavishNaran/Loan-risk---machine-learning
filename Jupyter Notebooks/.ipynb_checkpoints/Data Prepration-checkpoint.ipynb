{
 "cells": [
  {
   "cell_type": "code",
   "execution_count": 21,
   "id": "31f31a14-5803-4105-a0f1-9dc10877bfb5",
   "metadata": {
    "tags": []
   },
   "outputs": [],
   "source": [
    "#Import dependenices\n",
    "import csv\n",
    "import pandas as pd\n",
    "from pathlib import Path\n",
    "from sklearn.ensemble import RandomForestClassifier\n"
   ]
  },
  {
   "cell_type": "code",
   "execution_count": 22,
   "id": "284351b9-0004-4fde-861a-7df3058840c4",
   "metadata": {
    "tags": []
   },
   "outputs": [
    {
     "name": "stdout",
     "output_type": "stream",
     "text": [
      "(80683, 15)\n"
     ]
    },
    {
     "data": {
      "text/html": [
       "<div>\n",
       "<style scoped>\n",
       "    .dataframe tbody tr th:only-of-type {\n",
       "        vertical-align: middle;\n",
       "    }\n",
       "\n",
       "    .dataframe tbody tr th {\n",
       "        vertical-align: top;\n",
       "    }\n",
       "\n",
       "    .dataframe thead th {\n",
       "        text-align: right;\n",
       "    }\n",
       "</style>\n",
       "<table border=\"1\" class=\"dataframe\">\n",
       "  <thead>\n",
       "    <tr style=\"text-align: right;\">\n",
       "      <th></th>\n",
       "      <th>Current loan amount</th>\n",
       "      <th>Credit score</th>\n",
       "      <th>Annual income</th>\n",
       "      <th>Monthly debt</th>\n",
       "      <th>Years of credit history</th>\n",
       "      <th>Number of open accounts</th>\n",
       "      <th>Number of credit problems</th>\n",
       "      <th>Current credit balance</th>\n",
       "      <th>Maximum open credit</th>\n",
       "      <th>Long term</th>\n",
       "      <th>Short term</th>\n",
       "      <th>Home mortgage</th>\n",
       "      <th>Own home</th>\n",
       "      <th>Rent</th>\n",
       "      <th>Bankrupt</th>\n",
       "    </tr>\n",
       "  </thead>\n",
       "  <tbody>\n",
       "    <tr>\n",
       "      <th>0</th>\n",
       "      <td>445412.0</td>\n",
       "      <td>709.0</td>\n",
       "      <td>1167493.0</td>\n",
       "      <td>5214.74</td>\n",
       "      <td>17.2</td>\n",
       "      <td>6.0</td>\n",
       "      <td>1.0</td>\n",
       "      <td>228190.0</td>\n",
       "      <td>416746.0</td>\n",
       "      <td>0</td>\n",
       "      <td>1</td>\n",
       "      <td>1</td>\n",
       "      <td>0</td>\n",
       "      <td>0</td>\n",
       "      <td>0</td>\n",
       "    </tr>\n",
       "    <tr>\n",
       "      <th>1</th>\n",
       "      <td>99999999.0</td>\n",
       "      <td>741.0</td>\n",
       "      <td>2231892.0</td>\n",
       "      <td>29200.53</td>\n",
       "      <td>14.9</td>\n",
       "      <td>18.0</td>\n",
       "      <td>1.0</td>\n",
       "      <td>297996.0</td>\n",
       "      <td>750090.0</td>\n",
       "      <td>0</td>\n",
       "      <td>1</td>\n",
       "      <td>0</td>\n",
       "      <td>1</td>\n",
       "      <td>0</td>\n",
       "      <td>0</td>\n",
       "    </tr>\n",
       "    <tr>\n",
       "      <th>2</th>\n",
       "      <td>347666.0</td>\n",
       "      <td>721.0</td>\n",
       "      <td>806949.0</td>\n",
       "      <td>8741.90</td>\n",
       "      <td>12.0</td>\n",
       "      <td>9.0</td>\n",
       "      <td>0.0</td>\n",
       "      <td>256329.0</td>\n",
       "      <td>386958.0</td>\n",
       "      <td>1</td>\n",
       "      <td>0</td>\n",
       "      <td>0</td>\n",
       "      <td>1</td>\n",
       "      <td>0</td>\n",
       "      <td>0</td>\n",
       "    </tr>\n",
       "    <tr>\n",
       "      <th>3</th>\n",
       "      <td>206602.0</td>\n",
       "      <td>7290.0</td>\n",
       "      <td>896857.0</td>\n",
       "      <td>16367.74</td>\n",
       "      <td>17.3</td>\n",
       "      <td>6.0</td>\n",
       "      <td>0.0</td>\n",
       "      <td>215308.0</td>\n",
       "      <td>272448.0</td>\n",
       "      <td>0</td>\n",
       "      <td>1</td>\n",
       "      <td>1</td>\n",
       "      <td>0</td>\n",
       "      <td>0</td>\n",
       "      <td>0</td>\n",
       "    </tr>\n",
       "    <tr>\n",
       "      <th>4</th>\n",
       "      <td>217646.0</td>\n",
       "      <td>730.0</td>\n",
       "      <td>1184194.0</td>\n",
       "      <td>10855.08</td>\n",
       "      <td>19.6</td>\n",
       "      <td>13.0</td>\n",
       "      <td>1.0</td>\n",
       "      <td>122170.0</td>\n",
       "      <td>272052.0</td>\n",
       "      <td>0</td>\n",
       "      <td>1</td>\n",
       "      <td>1</td>\n",
       "      <td>0</td>\n",
       "      <td>0</td>\n",
       "      <td>0</td>\n",
       "    </tr>\n",
       "  </tbody>\n",
       "</table>\n",
       "</div>"
      ],
      "text/plain": [
       "   Current loan amount  Credit score  Annual income  Monthly debt  \\\n",
       "0             445412.0         709.0      1167493.0       5214.74   \n",
       "1           99999999.0         741.0      2231892.0      29200.53   \n",
       "2             347666.0         721.0       806949.0       8741.90   \n",
       "3             206602.0        7290.0       896857.0      16367.74   \n",
       "4             217646.0         730.0      1184194.0      10855.08   \n",
       "\n",
       "   Years of credit history  Number of open accounts  \\\n",
       "0                     17.2                      6.0   \n",
       "1                     14.9                     18.0   \n",
       "2                     12.0                      9.0   \n",
       "3                     17.3                      6.0   \n",
       "4                     19.6                     13.0   \n",
       "\n",
       "   Number of credit problems  Current credit balance  Maximum open credit  \\\n",
       "0                        1.0                228190.0             416746.0   \n",
       "1                        1.0                297996.0             750090.0   \n",
       "2                        0.0                256329.0             386958.0   \n",
       "3                        0.0                215308.0             272448.0   \n",
       "4                        1.0                122170.0             272052.0   \n",
       "\n",
       "   Long term  Short term  Home mortgage  Own home  Rent  Bankrupt  \n",
       "0          0           1              1         0     0         0  \n",
       "1          0           1              0         1     0         0  \n",
       "2          1           0              0         1     0         0  \n",
       "3          0           1              1         0     0         0  \n",
       "4          0           1              1         0     0         0  "
      ]
     },
     "execution_count": 22,
     "metadata": {},
     "output_type": "execute_result"
    }
   ],
   "source": [
    "# Specify the path to your CSV file\n",
    "csv_file_path = 'Resources/Clean_train.csv'\n",
    "\n",
    "# Read the CSV file into a DataFrame\n",
    "loan_data = pd.read_csv(csv_file_path)\n",
    "\n",
    "#Print size of data set\n",
    "print(loan_data.shape)\n",
    "\n",
    "# Display the DataFrame\n",
    "loan_data.head(5)"
   ]
  },
  {
   "cell_type": "code",
   "execution_count": 23,
   "id": "af620d78-4060-4b37-8469-37a31dd676ed",
   "metadata": {
    "tags": []
   },
   "outputs": [],
   "source": [
    "# Import the module\n",
    "from sklearn.preprocessing import StandardScaler"
   ]
  },
  {
   "cell_type": "code",
   "execution_count": 24,
   "id": "4657e49b-6241-46e2-94fd-ef267822f68a",
   "metadata": {
    "tags": []
   },
   "outputs": [
    {
     "data": {
      "text/plain": [
       "array([[-4.03050203e-01, -2.48996183e-01, -1.95064699e-01, ...,\n",
       "         1.69937754e+00, -1.75311853e-01, -4.60753246e-02],\n",
       "       [ 2.45806717e+00, -2.27301607e-01,  7.89666434e-01, ...,\n",
       "         1.69937754e+00,  7.62938426e-03,  2.27017159e-03],\n",
       "       [-4.05859343e-01, -2.40860717e-01, -5.28622793e-01, ...,\n",
       "        -3.48918343e-01, -1.01567712e-01, -5.03955333e-02],\n",
       "       ...,\n",
       "       [-4.12886935e-01, -2.26623651e-01, -2.10744180e-01, ...,\n",
       "         1.69937754e+00, -4.86222327e-01, -2.85551874e-02],\n",
       "       [-4.00609671e-01, -2.23911829e-01,  3.13797720e-01, ...,\n",
       "        -3.48918343e-01,  2.86024718e-01,  5.53574639e-04],\n",
       "       [ 2.45806717e+00, -2.25945696e-01, -4.09989595e-01, ...,\n",
       "         1.69937754e+00, -6.53827173e-01, -9.33168384e-02]])"
      ]
     },
     "execution_count": 24,
     "metadata": {},
     "output_type": "execute_result"
    }
   ],
   "source": [
    "# Scaling the numeric columns\n",
    "data_scaled = StandardScaler().fit_transform(loan_data[['Current loan amount', 'Credit score', 'Annual income','Monthly debt','Years of credit history','Number of open accounts', 'Number of credit problems','Current credit balance','Maximum open credit']])\n",
    "\n",
    "# Review the scaled data\n",
    "data_scaled"
   ]
  },
  {
   "cell_type": "code",
   "execution_count": 25,
   "id": "959d45fb-e1df-45d8-bf93-bfe1c3598497",
   "metadata": {
    "tags": []
   },
   "outputs": [
    {
     "data": {
      "text/html": [
       "<div>\n",
       "<style scoped>\n",
       "    .dataframe tbody tr th:only-of-type {\n",
       "        vertical-align: middle;\n",
       "    }\n",
       "\n",
       "    .dataframe tbody tr th {\n",
       "        vertical-align: top;\n",
       "    }\n",
       "\n",
       "    .dataframe thead th {\n",
       "        text-align: right;\n",
       "    }\n",
       "</style>\n",
       "<table border=\"1\" class=\"dataframe\">\n",
       "  <thead>\n",
       "    <tr style=\"text-align: right;\">\n",
       "      <th></th>\n",
       "      <th>Current loan amount</th>\n",
       "      <th>Credit score</th>\n",
       "      <th>Annual income</th>\n",
       "      <th>Monthly debt</th>\n",
       "      <th>Years of credit history</th>\n",
       "      <th>Number of open accounts</th>\n",
       "      <th>Number of credit problems</th>\n",
       "      <th>Current credit balance</th>\n",
       "      <th>Maximum open credit</th>\n",
       "      <th>Long term</th>\n",
       "      <th>Short term</th>\n",
       "      <th>Home mortgage</th>\n",
       "      <th>Own home</th>\n",
       "      <th>Rent</th>\n",
       "      <th>Bankrupt</th>\n",
       "    </tr>\n",
       "  </thead>\n",
       "  <tbody>\n",
       "    <tr>\n",
       "      <th>0</th>\n",
       "      <td>-0.403050</td>\n",
       "      <td>-0.248996</td>\n",
       "      <td>-0.195065</td>\n",
       "      <td>-1.088060</td>\n",
       "      <td>-0.139697</td>\n",
       "      <td>-1.023574</td>\n",
       "      <td>1.699378</td>\n",
       "      <td>-0.175312</td>\n",
       "      <td>-0.046075</td>\n",
       "      <td>0</td>\n",
       "      <td>1</td>\n",
       "      <td>1</td>\n",
       "      <td>0</td>\n",
       "      <td>0</td>\n",
       "      <td>0</td>\n",
       "    </tr>\n",
       "    <tr>\n",
       "      <th>1</th>\n",
       "      <td>2.458067</td>\n",
       "      <td>-0.227302</td>\n",
       "      <td>0.789666</td>\n",
       "      <td>0.872983</td>\n",
       "      <td>-0.467973</td>\n",
       "      <td>1.363133</td>\n",
       "      <td>1.699378</td>\n",
       "      <td>0.007629</td>\n",
       "      <td>0.002270</td>\n",
       "      <td>0</td>\n",
       "      <td>1</td>\n",
       "      <td>0</td>\n",
       "      <td>1</td>\n",
       "      <td>0</td>\n",
       "      <td>0</td>\n",
       "    </tr>\n",
       "    <tr>\n",
       "      <th>2</th>\n",
       "      <td>-0.405859</td>\n",
       "      <td>-0.240861</td>\n",
       "      <td>-0.528623</td>\n",
       "      <td>-0.799685</td>\n",
       "      <td>-0.881886</td>\n",
       "      <td>-0.426898</td>\n",
       "      <td>-0.348918</td>\n",
       "      <td>-0.101568</td>\n",
       "      <td>-0.050396</td>\n",
       "      <td>1</td>\n",
       "      <td>0</td>\n",
       "      <td>0</td>\n",
       "      <td>1</td>\n",
       "      <td>0</td>\n",
       "      <td>0</td>\n",
       "    </tr>\n",
       "    <tr>\n",
       "      <th>3</th>\n",
       "      <td>-0.409913</td>\n",
       "      <td>4.212629</td>\n",
       "      <td>-0.445444</td>\n",
       "      <td>-0.176207</td>\n",
       "      <td>-0.125424</td>\n",
       "      <td>-1.023574</td>\n",
       "      <td>-0.348918</td>\n",
       "      <td>-0.209072</td>\n",
       "      <td>-0.067003</td>\n",
       "      <td>0</td>\n",
       "      <td>1</td>\n",
       "      <td>1</td>\n",
       "      <td>0</td>\n",
       "      <td>0</td>\n",
       "      <td>0</td>\n",
       "    </tr>\n",
       "    <tr>\n",
       "      <th>4</th>\n",
       "      <td>-0.409596</td>\n",
       "      <td>-0.234759</td>\n",
       "      <td>-0.179614</td>\n",
       "      <td>-0.626914</td>\n",
       "      <td>0.202852</td>\n",
       "      <td>0.368672</td>\n",
       "      <td>1.699378</td>\n",
       "      <td>-0.453159</td>\n",
       "      <td>-0.067061</td>\n",
       "      <td>0</td>\n",
       "      <td>1</td>\n",
       "      <td>1</td>\n",
       "      <td>0</td>\n",
       "      <td>0</td>\n",
       "      <td>0</td>\n",
       "    </tr>\n",
       "  </tbody>\n",
       "</table>\n",
       "</div>"
      ],
      "text/plain": [
       "   Current loan amount  Credit score  Annual income  Monthly debt  \\\n",
       "0            -0.403050     -0.248996      -0.195065     -1.088060   \n",
       "1             2.458067     -0.227302       0.789666      0.872983   \n",
       "2            -0.405859     -0.240861      -0.528623     -0.799685   \n",
       "3            -0.409913      4.212629      -0.445444     -0.176207   \n",
       "4            -0.409596     -0.234759      -0.179614     -0.626914   \n",
       "\n",
       "   Years of credit history  Number of open accounts  \\\n",
       "0                -0.139697                -1.023574   \n",
       "1                -0.467973                 1.363133   \n",
       "2                -0.881886                -0.426898   \n",
       "3                -0.125424                -1.023574   \n",
       "4                 0.202852                 0.368672   \n",
       "\n",
       "   Number of credit problems  Current credit balance  Maximum open credit  \\\n",
       "0                   1.699378               -0.175312            -0.046075   \n",
       "1                   1.699378                0.007629             0.002270   \n",
       "2                  -0.348918               -0.101568            -0.050396   \n",
       "3                  -0.348918               -0.209072            -0.067003   \n",
       "4                   1.699378               -0.453159            -0.067061   \n",
       "\n",
       "   Long term  Short term  Home mortgage  Own home  Rent  Bankrupt  \n",
       "0          0           1              1         0     0         0  \n",
       "1          0           1              0         1     0         0  \n",
       "2          1           0              0         1     0         0  \n",
       "3          0           1              1         0     0         0  \n",
       "4          0           1              1         0     0         0  "
      ]
     },
     "execution_count": 25,
     "metadata": {},
     "output_type": "execute_result"
    }
   ],
   "source": [
    "# Create a DataFrame of the scaled data\n",
    "data_scaled = pd.DataFrame(data_scaled, columns=['Current loan amount', 'Credit score', 'Annual income','Monthly debt','Years of credit history','Number of open accounts', 'Number of credit problems','Current credit balance','Maximum open credit'])\n",
    "\n",
    "# Create copy of the orginal dataframe\n",
    "loan_data_copy = loan_data.copy()\n",
    "\n",
    "# Replace the original data with the columns of information from the scaled Data\n",
    "loan_data['Current loan amount'] = data_scaled['Current loan amount']\n",
    "loan_data['Credit score'] = data_scaled['Credit score']\n",
    "loan_data['Annual income'] = data_scaled['Annual income']\n",
    "loan_data['Monthly debt'] = data_scaled['Monthly debt']\n",
    "loan_data['Years of credit history'] = data_scaled['Years of credit history']\n",
    "loan_data['Number of open accounts'] = data_scaled['Number of open accounts']\n",
    "loan_data['Number of credit problems'] = data_scaled['Number of credit problems']\n",
    "loan_data['Current credit balance'] = data_scaled['Current credit balance']\n",
    "loan_data['Maximum open credit'] = data_scaled['Maximum open credit']\n",
    "\n",
    "# Review the DataFrame\n",
    "loan_data.head()"
   ]
  },
  {
   "cell_type": "code",
   "execution_count": 26,
   "id": "278d8690-8758-4077-ad9f-5983380f939c",
   "metadata": {
    "tags": []
   },
   "outputs": [],
   "source": [
    "# Export scaled data\n",
    "csv_file_path = 'Resources/Clean_train_scaled.csv'\n",
    "\n",
    "loan_data.to_csv(csv_file_path, index=False)"
   ]
  },
  {
   "cell_type": "markdown",
   "id": "2c319dbf-450d-4082-b84a-c328ec5253ec",
   "metadata": {},
   "source": [
    "# Machine Learning Models"
   ]
  },
  {
   "cell_type": "markdown",
   "id": "6c190fe8-8370-4fcf-95f0-2c0c5bcb778d",
   "metadata": {},
   "source": [
    "### Random Forest Model"
   ]
  },
  {
   "cell_type": "code",
   "execution_count": 27,
   "id": "311aa0d0-a4b5-45b8-8fa5-9e7ee15cdb5c",
   "metadata": {
    "tags": []
   },
   "outputs": [],
   "source": [
    "from pathlib import Path\n",
    "from sklearn import tree"
   ]
  },
  {
   "cell_type": "code",
   "execution_count": 41,
   "id": "b3a26522-8a5d-4a88-b3a0-a3a6506dd8aa",
   "metadata": {
    "tags": []
   },
   "outputs": [
    {
     "name": "stdout",
     "output_type": "stream",
     "text": [
      "(80683, 15)\n"
     ]
    },
    {
     "data": {
      "text/html": [
       "<div>\n",
       "<style scoped>\n",
       "    .dataframe tbody tr th:only-of-type {\n",
       "        vertical-align: middle;\n",
       "    }\n",
       "\n",
       "    .dataframe tbody tr th {\n",
       "        vertical-align: top;\n",
       "    }\n",
       "\n",
       "    .dataframe thead th {\n",
       "        text-align: right;\n",
       "    }\n",
       "</style>\n",
       "<table border=\"1\" class=\"dataframe\">\n",
       "  <thead>\n",
       "    <tr style=\"text-align: right;\">\n",
       "      <th></th>\n",
       "      <th>Current loan amount</th>\n",
       "      <th>Credit score</th>\n",
       "      <th>Annual income</th>\n",
       "      <th>Monthly debt</th>\n",
       "      <th>Years of credit history</th>\n",
       "      <th>Number of open accounts</th>\n",
       "      <th>Number of credit problems</th>\n",
       "      <th>Current credit balance</th>\n",
       "      <th>Maximum open credit</th>\n",
       "      <th>Long term</th>\n",
       "      <th>Short term</th>\n",
       "      <th>Home mortgage</th>\n",
       "      <th>Own home</th>\n",
       "      <th>Rent</th>\n",
       "      <th>Bankrupt</th>\n",
       "    </tr>\n",
       "  </thead>\n",
       "  <tbody>\n",
       "    <tr>\n",
       "      <th>0</th>\n",
       "      <td>-0.403050</td>\n",
       "      <td>-0.248996</td>\n",
       "      <td>-0.195065</td>\n",
       "      <td>-1.088060</td>\n",
       "      <td>-0.139697</td>\n",
       "      <td>-1.023574</td>\n",
       "      <td>1.699378</td>\n",
       "      <td>-0.175312</td>\n",
       "      <td>-0.046075</td>\n",
       "      <td>0</td>\n",
       "      <td>1</td>\n",
       "      <td>1</td>\n",
       "      <td>0</td>\n",
       "      <td>0</td>\n",
       "      <td>0</td>\n",
       "    </tr>\n",
       "    <tr>\n",
       "      <th>1</th>\n",
       "      <td>2.458067</td>\n",
       "      <td>-0.227302</td>\n",
       "      <td>0.789666</td>\n",
       "      <td>0.872983</td>\n",
       "      <td>-0.467973</td>\n",
       "      <td>1.363133</td>\n",
       "      <td>1.699378</td>\n",
       "      <td>0.007629</td>\n",
       "      <td>0.002270</td>\n",
       "      <td>0</td>\n",
       "      <td>1</td>\n",
       "      <td>0</td>\n",
       "      <td>1</td>\n",
       "      <td>0</td>\n",
       "      <td>0</td>\n",
       "    </tr>\n",
       "    <tr>\n",
       "      <th>2</th>\n",
       "      <td>-0.405859</td>\n",
       "      <td>-0.240861</td>\n",
       "      <td>-0.528623</td>\n",
       "      <td>-0.799685</td>\n",
       "      <td>-0.881886</td>\n",
       "      <td>-0.426898</td>\n",
       "      <td>-0.348918</td>\n",
       "      <td>-0.101568</td>\n",
       "      <td>-0.050396</td>\n",
       "      <td>1</td>\n",
       "      <td>0</td>\n",
       "      <td>0</td>\n",
       "      <td>1</td>\n",
       "      <td>0</td>\n",
       "      <td>0</td>\n",
       "    </tr>\n",
       "    <tr>\n",
       "      <th>3</th>\n",
       "      <td>-0.409913</td>\n",
       "      <td>4.212629</td>\n",
       "      <td>-0.445444</td>\n",
       "      <td>-0.176207</td>\n",
       "      <td>-0.125424</td>\n",
       "      <td>-1.023574</td>\n",
       "      <td>-0.348918</td>\n",
       "      <td>-0.209072</td>\n",
       "      <td>-0.067003</td>\n",
       "      <td>0</td>\n",
       "      <td>1</td>\n",
       "      <td>1</td>\n",
       "      <td>0</td>\n",
       "      <td>0</td>\n",
       "      <td>0</td>\n",
       "    </tr>\n",
       "    <tr>\n",
       "      <th>4</th>\n",
       "      <td>-0.409596</td>\n",
       "      <td>-0.234759</td>\n",
       "      <td>-0.179614</td>\n",
       "      <td>-0.626914</td>\n",
       "      <td>0.202852</td>\n",
       "      <td>0.368672</td>\n",
       "      <td>1.699378</td>\n",
       "      <td>-0.453159</td>\n",
       "      <td>-0.067061</td>\n",
       "      <td>0</td>\n",
       "      <td>1</td>\n",
       "      <td>1</td>\n",
       "      <td>0</td>\n",
       "      <td>0</td>\n",
       "      <td>0</td>\n",
       "    </tr>\n",
       "  </tbody>\n",
       "</table>\n",
       "</div>"
      ],
      "text/plain": [
       "   Current loan amount  Credit score  Annual income  Monthly debt  \\\n",
       "0            -0.403050     -0.248996      -0.195065     -1.088060   \n",
       "1             2.458067     -0.227302       0.789666      0.872983   \n",
       "2            -0.405859     -0.240861      -0.528623     -0.799685   \n",
       "3            -0.409913      4.212629      -0.445444     -0.176207   \n",
       "4            -0.409596     -0.234759      -0.179614     -0.626914   \n",
       "\n",
       "   Years of credit history  Number of open accounts  \\\n",
       "0                -0.139697                -1.023574   \n",
       "1                -0.467973                 1.363133   \n",
       "2                -0.881886                -0.426898   \n",
       "3                -0.125424                -1.023574   \n",
       "4                 0.202852                 0.368672   \n",
       "\n",
       "   Number of credit problems  Current credit balance  Maximum open credit  \\\n",
       "0                   1.699378               -0.175312            -0.046075   \n",
       "1                   1.699378                0.007629             0.002270   \n",
       "2                  -0.348918               -0.101568            -0.050396   \n",
       "3                  -0.348918               -0.209072            -0.067003   \n",
       "4                   1.699378               -0.453159            -0.067061   \n",
       "\n",
       "   Long term  Short term  Home mortgage  Own home  Rent  Bankrupt  \n",
       "0          0           1              1         0     0         0  \n",
       "1          0           1              0         1     0         0  \n",
       "2          1           0              0         1     0         0  \n",
       "3          0           1              1         0     0         0  \n",
       "4          0           1              1         0     0         0  "
      ]
     },
     "execution_count": 41,
     "metadata": {},
     "output_type": "execute_result"
    }
   ],
   "source": [
    "# Specify the path to your CSV file\n",
    "csv_file_path = 'Resources/Clean_train_scaled.csv'\n",
    "\n",
    "# Read the CSV file into a DataFrame\n",
    "loan_data_rf = pd.read_csv(csv_file_path)\n",
    "\n",
    "#Print size of data set\n",
    "print(loan_data_rf.shape)\n",
    "\n",
    "# Display the DataFrame\n",
    "loan_data_rf.head(5)"
   ]
  },
  {
   "cell_type": "code",
   "execution_count": 29,
   "id": "01b88805-c91d-4732-8a96-f4395cb0d0b0",
   "metadata": {
    "tags": []
   },
   "outputs": [
    {
     "data": {
      "text/html": [
       "<div>\n",
       "<style scoped>\n",
       "    .dataframe tbody tr th:only-of-type {\n",
       "        vertical-align: middle;\n",
       "    }\n",
       "\n",
       "    .dataframe tbody tr th {\n",
       "        vertical-align: top;\n",
       "    }\n",
       "\n",
       "    .dataframe thead th {\n",
       "        text-align: right;\n",
       "    }\n",
       "</style>\n",
       "<table border=\"1\" class=\"dataframe\">\n",
       "  <thead>\n",
       "    <tr style=\"text-align: right;\">\n",
       "      <th></th>\n",
       "      <th>Current loan amount</th>\n",
       "      <th>Credit score</th>\n",
       "      <th>Annual income</th>\n",
       "      <th>Monthly debt</th>\n",
       "      <th>Years of credit history</th>\n",
       "      <th>Number of open accounts</th>\n",
       "      <th>Number of credit problems</th>\n",
       "      <th>Current credit balance</th>\n",
       "      <th>Maximum open credit</th>\n",
       "      <th>Long term</th>\n",
       "      <th>Short term</th>\n",
       "      <th>Home mortgage</th>\n",
       "      <th>Own home</th>\n",
       "      <th>Rent</th>\n",
       "    </tr>\n",
       "  </thead>\n",
       "  <tbody>\n",
       "    <tr>\n",
       "      <th>0</th>\n",
       "      <td>-0.403050</td>\n",
       "      <td>-0.248996</td>\n",
       "      <td>-0.195065</td>\n",
       "      <td>-1.088060</td>\n",
       "      <td>-0.139697</td>\n",
       "      <td>-1.023574</td>\n",
       "      <td>1.699378</td>\n",
       "      <td>-0.175312</td>\n",
       "      <td>-0.046075</td>\n",
       "      <td>0</td>\n",
       "      <td>1</td>\n",
       "      <td>1</td>\n",
       "      <td>0</td>\n",
       "      <td>0</td>\n",
       "    </tr>\n",
       "    <tr>\n",
       "      <th>1</th>\n",
       "      <td>2.458067</td>\n",
       "      <td>-0.227302</td>\n",
       "      <td>0.789666</td>\n",
       "      <td>0.872983</td>\n",
       "      <td>-0.467973</td>\n",
       "      <td>1.363133</td>\n",
       "      <td>1.699378</td>\n",
       "      <td>0.007629</td>\n",
       "      <td>0.002270</td>\n",
       "      <td>0</td>\n",
       "      <td>1</td>\n",
       "      <td>0</td>\n",
       "      <td>1</td>\n",
       "      <td>0</td>\n",
       "    </tr>\n",
       "    <tr>\n",
       "      <th>2</th>\n",
       "      <td>-0.405859</td>\n",
       "      <td>-0.240861</td>\n",
       "      <td>-0.528623</td>\n",
       "      <td>-0.799685</td>\n",
       "      <td>-0.881886</td>\n",
       "      <td>-0.426898</td>\n",
       "      <td>-0.348918</td>\n",
       "      <td>-0.101568</td>\n",
       "      <td>-0.050396</td>\n",
       "      <td>1</td>\n",
       "      <td>0</td>\n",
       "      <td>0</td>\n",
       "      <td>1</td>\n",
       "      <td>0</td>\n",
       "    </tr>\n",
       "    <tr>\n",
       "      <th>3</th>\n",
       "      <td>-0.409913</td>\n",
       "      <td>4.212629</td>\n",
       "      <td>-0.445444</td>\n",
       "      <td>-0.176207</td>\n",
       "      <td>-0.125424</td>\n",
       "      <td>-1.023574</td>\n",
       "      <td>-0.348918</td>\n",
       "      <td>-0.209072</td>\n",
       "      <td>-0.067003</td>\n",
       "      <td>0</td>\n",
       "      <td>1</td>\n",
       "      <td>1</td>\n",
       "      <td>0</td>\n",
       "      <td>0</td>\n",
       "    </tr>\n",
       "    <tr>\n",
       "      <th>4</th>\n",
       "      <td>-0.409596</td>\n",
       "      <td>-0.234759</td>\n",
       "      <td>-0.179614</td>\n",
       "      <td>-0.626914</td>\n",
       "      <td>0.202852</td>\n",
       "      <td>0.368672</td>\n",
       "      <td>1.699378</td>\n",
       "      <td>-0.453159</td>\n",
       "      <td>-0.067061</td>\n",
       "      <td>0</td>\n",
       "      <td>1</td>\n",
       "      <td>1</td>\n",
       "      <td>0</td>\n",
       "      <td>0</td>\n",
       "    </tr>\n",
       "  </tbody>\n",
       "</table>\n",
       "</div>"
      ],
      "text/plain": [
       "   Current loan amount  Credit score  Annual income  Monthly debt  \\\n",
       "0            -0.403050     -0.248996      -0.195065     -1.088060   \n",
       "1             2.458067     -0.227302       0.789666      0.872983   \n",
       "2            -0.405859     -0.240861      -0.528623     -0.799685   \n",
       "3            -0.409913      4.212629      -0.445444     -0.176207   \n",
       "4            -0.409596     -0.234759      -0.179614     -0.626914   \n",
       "\n",
       "   Years of credit history  Number of open accounts  \\\n",
       "0                -0.139697                -1.023574   \n",
       "1                -0.467973                 1.363133   \n",
       "2                -0.881886                -0.426898   \n",
       "3                -0.125424                -1.023574   \n",
       "4                 0.202852                 0.368672   \n",
       "\n",
       "   Number of credit problems  Current credit balance  Maximum open credit  \\\n",
       "0                   1.699378               -0.175312            -0.046075   \n",
       "1                   1.699378                0.007629             0.002270   \n",
       "2                  -0.348918               -0.101568            -0.050396   \n",
       "3                  -0.348918               -0.209072            -0.067003   \n",
       "4                   1.699378               -0.453159            -0.067061   \n",
       "\n",
       "   Long term  Short term  Home mortgage  Own home  Rent  \n",
       "0          0           1              1         0     0  \n",
       "1          0           1              0         1     0  \n",
       "2          1           0              0         1     0  \n",
       "3          0           1              1         0     0  \n",
       "4          0           1              1         0     0  "
      ]
     },
     "execution_count": 29,
     "metadata": {},
     "output_type": "execute_result"
    }
   ],
   "source": [
    "# Define features set\n",
    "X = loan_data_rf.copy()\n",
    "X.drop(\"Bankrupt\", axis=1, inplace=True)\n",
    "X.head()"
   ]
  },
  {
   "cell_type": "code",
   "execution_count": 30,
   "id": "9b5cbb48-0dcc-4486-bad5-c67b2e00383f",
   "metadata": {
    "tags": []
   },
   "outputs": [
    {
     "data": {
      "text/plain": [
       "array([[0],\n",
       "       [0],\n",
       "       [0],\n",
       "       [0],\n",
       "       [0]])"
      ]
     },
     "execution_count": 30,
     "metadata": {},
     "output_type": "execute_result"
    }
   ],
   "source": [
    "# Define target vector\n",
    "y = loan_data_rf['Bankrupt'].values.reshape(-1, 1)\n",
    "y[:5]"
   ]
  },
  {
   "cell_type": "code",
   "execution_count": 31,
   "id": "a8da4d9f-88a0-472a-a283-b3cce77321f0",
   "metadata": {
    "tags": []
   },
   "outputs": [],
   "source": [
    "# Splitting into Train and Test sets\n",
    "X_train, X_test, y_train, y_test = train_test_split(X, y, random_state=70)"
   ]
  },
  {
   "cell_type": "code",
   "execution_count": 32,
   "id": "11178b15-4149-48b6-9089-2d56d5f0b9fb",
   "metadata": {
    "tags": []
   },
   "outputs": [],
   "source": [
    "# Creating the decision tree classifier instance\n",
    "model = tree.DecisionTreeClassifier()"
   ]
  },
  {
   "cell_type": "code",
   "execution_count": 33,
   "id": "7aec6a96-619c-45c9-bf06-e66246698204",
   "metadata": {
    "tags": []
   },
   "outputs": [],
   "source": [
    "# Fitting the model\n",
    "model = model.fit(X_train, y_train)"
   ]
  },
  {
   "cell_type": "code",
   "execution_count": 34,
   "id": "c0ff8383-e8cd-4bf1-8cec-fc6dcafd2ac8",
   "metadata": {
    "tags": []
   },
   "outputs": [],
   "source": [
    "# Create a random forest classifier\n",
    "rf_model = RandomForestClassifier(n_estimators=600, random_state=70)"
   ]
  },
  {
   "cell_type": "code",
   "execution_count": 35,
   "id": "5c77e190-1c94-46e5-850a-1fcafe3b6dc7",
   "metadata": {
    "tags": []
   },
   "outputs": [
    {
     "name": "stderr",
     "output_type": "stream",
     "text": [
      "/var/folders/6d/3jm96p2d3dzgjq0txjz7k3p40000gn/T/ipykernel_41196/1132036533.py:2: DataConversionWarning: A column-vector y was passed when a 1d array was expected. Please change the shape of y to (n_samples,), for example using ravel().\n",
      "  rf_model = rf_model.fit(X_train, y_train)\n"
     ]
    },
    {
     "data": {
      "text/plain": [
       "array([[0],\n",
       "       [0],\n",
       "       [0],\n",
       "       ...,\n",
       "       [0],\n",
       "       [0],\n",
       "       [0]])"
      ]
     },
     "execution_count": 35,
     "metadata": {},
     "output_type": "execute_result"
    }
   ],
   "source": [
    "# Fitting the model\n",
    "rf_model = rf_model.fit(X_train, y_train)\n",
    "y_train"
   ]
  },
  {
   "cell_type": "code",
   "execution_count": 36,
   "id": "004762e3-27df-421a-90a1-6e6a082dfe45",
   "metadata": {
    "tags": []
   },
   "outputs": [],
   "source": [
    "# Making predictions uisng the testing data\n",
    "predictions = rf_model.predict(X_test)"
   ]
  },
  {
   "cell_type": "code",
   "execution_count": 37,
   "id": "2ad39ae1-eddd-4815-8d00-2532f76c7a3c",
   "metadata": {
    "tags": []
   },
   "outputs": [],
   "source": [
    "# Calculating the confusion matrix\n",
    "cm = confusion_matrix(y_test, predictions)\n",
    "cm_df = pd.DataFrame(\n",
    "    cm, index=[\"Actual 0\", \"Actual 1\"], columns=[\"Predicted 0\", \"Predicted 1\"]\n",
    ")\n",
    "\n",
    "# Calculating the accuracy score\n",
    "acc_score = accuracy_score(y_test, predictions)"
   ]
  },
  {
   "cell_type": "code",
   "execution_count": 38,
   "id": "467b76f4-86a1-4b30-bac4-f3cbb10236a9",
   "metadata": {
    "tags": []
   },
   "outputs": [
    {
     "name": "stdout",
     "output_type": "stream",
     "text": [
      "Confusion Matrix\n"
     ]
    },
    {
     "data": {
      "text/html": [
       "<div>\n",
       "<style scoped>\n",
       "    .dataframe tbody tr th:only-of-type {\n",
       "        vertical-align: middle;\n",
       "    }\n",
       "\n",
       "    .dataframe tbody tr th {\n",
       "        vertical-align: top;\n",
       "    }\n",
       "\n",
       "    .dataframe thead th {\n",
       "        text-align: right;\n",
       "    }\n",
       "</style>\n",
       "<table border=\"1\" class=\"dataframe\">\n",
       "  <thead>\n",
       "    <tr style=\"text-align: right;\">\n",
       "      <th></th>\n",
       "      <th>Predicted 0</th>\n",
       "      <th>Predicted 1</th>\n",
       "    </tr>\n",
       "  </thead>\n",
       "  <tbody>\n",
       "    <tr>\n",
       "      <th>Actual 0</th>\n",
       "      <td>20049</td>\n",
       "      <td>9</td>\n",
       "    </tr>\n",
       "    <tr>\n",
       "      <th>Actual 1</th>\n",
       "      <td>80</td>\n",
       "      <td>33</td>\n",
       "    </tr>\n",
       "  </tbody>\n",
       "</table>\n",
       "</div>"
      ],
      "text/plain": [
       "          Predicted 0  Predicted 1\n",
       "Actual 0        20049            9\n",
       "Actual 1           80           33"
      ]
     },
     "metadata": {},
     "output_type": "display_data"
    },
    {
     "name": "stdout",
     "output_type": "stream",
     "text": [
      "Accuracy Score : 0.9955877249516633\n",
      "Classification Report\n",
      "              precision    recall  f1-score   support\n",
      "\n",
      "           0       1.00      1.00      1.00     20058\n",
      "           1       0.79      0.29      0.43       113\n",
      "\n",
      "    accuracy                           1.00     20171\n",
      "   macro avg       0.89      0.65      0.71     20171\n",
      "weighted avg       0.99      1.00      0.99     20171\n",
      "\n"
     ]
    }
   ],
   "source": [
    "# Displaying results\n",
    "print(\"Confusion Matrix\")\n",
    "display(cm_df)\n",
    "print(f\"Accuracy Score : {acc_score}\")\n",
    "print(\"Classification Report\")\n",
    "print(classification_report(y_test, predictions))"
   ]
  },
  {
   "cell_type": "code",
   "execution_count": 39,
   "id": "e2676f60-96f7-41e5-a03c-20af6f7f5b9c",
   "metadata": {
    "tags": []
   },
   "outputs": [
    {
     "data": {
      "text/plain": [
       "[(0.32614842415262724, 'Number of credit problems'),\n",
       " (0.09557099156445244, 'Current credit balance'),\n",
       " (0.09120019584851465, 'Maximum open credit'),\n",
       " (0.0853447274647293, 'Annual income'),\n",
       " (0.08320089968681836, 'Monthly debt'),\n",
       " (0.07483719346151843, 'Years of credit history'),\n",
       " (0.07468785136234163, 'Credit score'),\n",
       " (0.07263476825961163, 'Current loan amount'),\n",
       " (0.05575137134827188, 'Number of open accounts'),\n",
       " (0.010514137474348095, 'Rent'),\n",
       " (0.010310195926216783, 'Home mortgage'),\n",
       " (0.006773622552426685, 'Own home'),\n",
       " (0.006564919765397144, 'Short term'),\n",
       " (0.0064607011327258166, 'Long term')]"
      ]
     },
     "execution_count": 39,
     "metadata": {},
     "output_type": "execute_result"
    }
   ],
   "source": [
    "# Random Forests in sklearn will automatically calculate feature importance\n",
    "importances = rf_model.feature_importances_\n",
    "# We can sort the features by their importance\n",
    "sorted(zip(rf_model.feature_importances_, X.columns), reverse=True)"
   ]
  },
  {
   "cell_type": "code",
   "execution_count": 40,
   "id": "b6860395-b91d-4682-9cbc-cb5af3138eb0",
   "metadata": {
    "tags": []
   },
   "outputs": [
    {
     "data": {
      "text/plain": [
       "<Axes: title={'center': 'Features Importances'}, ylabel='1'>"
      ]
     },
     "execution_count": 40,
     "metadata": {},
     "output_type": "execute_result"
    },
    {
     "data": {
      "image/png": "[encoded data removed]",
      "text/plain": [
       "<Figure size 640x480 with 1 Axes>"
      ]
     },
     "metadata": {},
     "output_type": "display_data"
    }
   ],
   "source": [
    "# Visualize the features by importance\n",
    "importances_df = pd.DataFrame(sorted(zip(rf_model.feature_importances_, X.columns), reverse=True))\n",
    "importances_df.set_index(importances_df[1], inplace=True)\n",
    "importances_df.drop(columns=1, inplace=True)\n",
    "importances_df.rename(columns={0: 'Feature Importances'}, inplace=True)\n",
    "importances_sorted = importances_df.sort_values(by='Feature Importances')\n",
    "importances_sorted.plot(kind='barh', color='lightgreen', title= 'Features Importances', legend=False)"
   ]
  },
  {
   "cell_type": "markdown",
   "id": "ee8f0fec-7934-4b0b-bd8e-49f565e5eca4",
   "metadata": {},
   "source": [
    "### Neural Network Model"
   ]
  },
  {
   "cell_type": "code",
   "execution_count": null,
   "id": "9fbfca6e-f20e-409e-b7aa-678b0ec671d2",
   "metadata": {},
   "outputs": [],
   "source": []
  },
  {
   "cell_type": "markdown",
   "id": "6b6a2842-431f-4e1a-8a76-d1f3e7859ba6",
   "metadata": {},
   "source": [
    "### Ensemble Model"
   ]
  },
  {
   "cell_type": "code",
   "execution_count": null,
   "id": "98c7f255-db9f-4ef8-86c2-5b143d60dc92",
   "metadata": {},
   "outputs": [],
   "source": [
    "# Step 1: Read the Clean_train_scaled.csv data from the Resources folder into a Pandas DataFrame."
   ]
  },
  {
   "cell_type": "code",
   "execution_count": null,
   "id": "f9946570-9209-4eb5-b1f3-03864c889ebe",
   "metadata": {
    "tags": []
   },
   "outputs": [],
   "source": [
    "# Specify the path to your CSV file\n",
    "csv_file_path = 'Resources/Clean_train_scaled.csv'\n",
    "\n",
    "# Read the CSV file into a DataFrame\n",
    "loan_data = pd.read_csv(csv_file_path)\n",
    "\n",
    "#Print size of data set\n",
    "print(loan_data.shape)\n",
    "\n",
    "# Display the DataFrame\n",
    "loan_data.head(5)"
   ]
  },
  {
   "cell_type": "code",
   "execution_count": null,
   "id": "0381c610-dc25-413a-a73e-3ecbfb579155",
   "metadata": {},
   "outputs": [],
   "source": [
    "# Step 2: Create the labels set (y) from the “Rent” column, and then create the features (X) DataFrame from the remaining columns."
   ]
  },
  {
   "cell_type": "code",
   "execution_count": null,
   "id": "63f01282-71bf-483c-9e67-7d11d008b4d9",
   "metadata": {
    "tags": []
   },
   "outputs": [],
   "source": [
    "# Separate the data into labels and features\n",
    "\n",
    "# Separate the y variable, the labels\n",
    "y = loan_data['Rent']\n",
    "\n",
    "# Separate the X variable, the features\n",
    "X = loan_data.drop(columns=['Rent'])"
   ]
  },
  {
   "cell_type": "code",
   "execution_count": null,
   "id": "3f072661-e89a-4f0c-beb4-5a6f0a84e88e",
   "metadata": {
    "tags": []
   },
   "outputs": [],
   "source": [
    "# Review the y variable Series\n",
    "y.head()"
   ]
  },
  {
   "cell_type": "code",
   "execution_count": null,
   "id": "1076381d-c946-4065-a03d-2eee56e6f439",
   "metadata": {
    "tags": []
   },
   "outputs": [],
   "source": [
    "# Review the X variable DataFrame\n",
    "X.head()"
   ]
  },
  {
   "cell_type": "code",
   "execution_count": null,
   "id": "843a1e8b-aa6b-40be-96ba-5a767a9f6694",
   "metadata": {
    "tags": []
   },
   "outputs": [],
   "source": [
    "# Check the balance of our target values\n",
    "y.value_counts()"
   ]
  },
  {
   "cell_type": "code",
   "execution_count": null,
   "id": "0b441fda-1f7f-46d6-832e-7fccd55409d6",
   "metadata": {},
   "outputs": [],
   "source": [
    "# Step 3: Split the data into training and testing datasets by using train_test_split."
   ]
  },
  {
   "cell_type": "code",
   "execution_count": null,
   "id": "17ed379c-8725-4feb-a160-e7f15a328880",
   "metadata": {
    "tags": []
   },
   "outputs": [],
   "source": [
    "# Import the train_test_learn module\n",
    "from sklearn.model_selection import train_test_split\n",
    "\n",
    "# Split the data using train_test_split\n",
    "# Assign a random_state of 1 to the function\n",
    "X_train, X_test, y_train, y_test = train_test_split(X, y, random_state=1)"
   ]
  },
  {
   "cell_type": "code",
   "execution_count": null,
   "id": "310d42ad-1c56-4a40-9283-e32daac64420",
   "metadata": {},
   "outputs": [],
   "source": [
    "# Create a Logistic Regression Model with the Original Data\n",
    "# Step 1:Fit a logistic regression model by using the training data (X_train and y_train)."
   ]
  },
  {
   "cell_type": "code",
   "execution_count": null,
   "id": "616fef2e-921d-406d-a13f-e81bd124548e",
   "metadata": {
    "tags": []
   },
   "outputs": [],
   "source": [
    "# Import the LogisticRegression module from SKLearn\n",
    "from sklearn.linear_model import LogisticRegression\n",
    "\n",
    "# Instantiate the Logistic Regression model\n",
    "# Assign a random_state parameter of 1 to the model\n",
    "logistic_regression_model = LogisticRegression(solver='lbfgs', random_state=1)\n",
    "\n",
    "# Fit the model using training data\n",
    "lr_model = logistic_regression_model.fit(X_train, y_train)"
   ]
  },
  {
   "cell_type": "code",
   "execution_count": null,
   "id": "b4192dac-ca5b-4698-ba65-16f51d3f0e54",
   "metadata": {},
   "outputs": [],
   "source": [
    "# Step 2: Save the predictions on the testing data labels by using the testing feature data (X_test) and the fitted model."
   ]
  },
  {
   "cell_type": "code",
   "execution_count": null,
   "id": "b784782b-f14a-450b-bdb3-6515dca38d36",
   "metadata": {
    "tags": []
   },
   "outputs": [],
   "source": [
    "# Make a prediction using the testing data\n",
    "LR_predictions = lr_model.predict(X_test)"
   ]
  },
  {
   "cell_type": "code",
   "execution_count": null,
   "id": "871ddea2-1ca0-4e87-9384-4a5a0f105013",
   "metadata": {
    "tags": []
   },
   "outputs": [],
   "source": [
    "# Make a prediction using the testing data\n",
    "test_predictions = logistic_regression_model.predict(X_test)\n",
    "pd.DataFrame({'Predictions': test_predictions, 'Actual': y_test})"
   ]
  },
  {
   "cell_type": "code",
   "execution_count": null,
   "id": "4166f641-2107-4a75-a084-ac7a5c88c327",
   "metadata": {
    "tags": []
   },
   "outputs": [],
   "source": [
    "# Step 3: Evaluate the model’s performance by doing the following:\n",
    "# 1. Generate Confusion Matrix\n",
    "# 2. Print Classification report"
   ]
  },
  {
   "cell_type": "code",
   "execution_count": null,
   "id": "618f08b2-af5a-419b-8137-5a13bef59c54",
   "metadata": {
    "tags": []
   },
   "outputs": [],
   "source": [
    "# Generate a confusion matrix for the model\n",
    "cf_test_matrix = confusion_matrix(y_test, test_predictions)\n",
    "cf_test_matrix "
   ]
  },
  {
   "cell_type": "code",
   "execution_count": null,
   "id": "e39f43b2-e902-4003-b597-fa299878d5ce",
   "metadata": {
    "tags": []
   },
   "outputs": [],
   "source": [
    "cm_imbalanced = confusion_matrix(y_test, LR_predictions)\n",
    "cm_imbalanced_df = pd.DataFrame(cm_imbalanced, \n",
    "                                index = ['Actual Healthy Loans (low-risk)', \n",
    "                                'Actual Non-Healthy Loans (high-risk)'], \n",
    "                                columns = ['Predicted Healthy Loans (low-risk)', 'Predicted Non-Healthy Loans (high-risk)']\n",
    "                              )\n",
    "cm_imbalanced_df"
   ]
  },
  {
   "cell_type": "code",
   "execution_count": null,
   "id": "139e5c8e-7ac3-43c4-b006-690e604814eb",
   "metadata": {
    "tags": []
   },
   "outputs": [],
   "source": [
    "# Print the classification report for the model\n",
    "testing_report = classification_report(y_test, test_predictions)\n",
    "print(testing_report)"
   ]
  },
  {
   "cell_type": "code",
   "execution_count": null,
   "id": "ea7bad9f-b34c-4726-988b-957a4ed6058e",
   "metadata": {},
   "outputs": [],
   "source": [
    "# My balanced accuracy score is an impressive 100%!  It takes into account both sensitivity (true positive rate) and specificity \n",
    "#(true negative rate) to measure the performance of my model, especially when dealing with imbalanced datasets. With 46,682 rejected\n",
    "# loans and only 34,001 accepted ones. It’s important to have metric that considers this imbalance.\n",
    "\n",
    "# And guess what? My model’s accuracy score is a whopping 100% That means it correctly predicted 100% of all loans in the dataset.That’s \n",
    "# pretty incredible right?\n",
    "\n",
    "# Looking at the confusion matrix my model did a great job by accepting 11,770 healthy loans and rejecting 8,401 high-risk loans accurately.\n",
    "# They were no mistakes like rejecting healthy loans or accepting high-risk loans. Overall, the model is doing a fantastic job.\n",
    "\n",
    "# Precision and recall are also important measures. My model has a precision score of 100% for default loans and perfect 100% for healthy \n",
    "# loans. This shows how well my prediction matched reality. And when it comes to recall which looks at how well reality matched the \n",
    "# predictions my model scored 100% for default loans and 100% for healthy loans.\n",
    "\n",
    "# Finally, the F1 score. It’s the weighted average of precision and recall scores, and it is the great way to evaluate the overall \n",
    "# performance of my model. F1 score is 100% for default loans 100% for healthy loans."
   ]
  },
  {
   "cell_type": "code",
   "execution_count": null,
   "id": "5f2faf3c-5568-40df-bd78-395c7f9a4d1e",
   "metadata": {
    "tags": []
   },
   "outputs": [],
   "source": [
    "# Import the RandomOverSampler module form imbalanced-learn\n",
    "from imblearn.over_sampling import RandomOverSampler"
   ]
  },
  {
   "cell_type": "code",
   "execution_count": null,
   "id": "1a057006-6da7-48ae-b84f-6ba455cc9382",
   "metadata": {
    "tags": []
   },
   "outputs": [],
   "source": [
    "# Instantiate the random oversampler model\n",
    "# # Assign a random_state parameter of 1 to the model\n",
    "ROS_model = RandomOverSampler(random_state = 1)"
   ]
  },
  {
   "cell_type": "code",
   "execution_count": null,
   "id": "f3573201-6aaf-41c2-a692-56b5983aab89",
   "metadata": {
    "tags": []
   },
   "outputs": [],
   "source": [
    "# Fit the original training data to the random_oversampler model\n",
    "X_oversampled, y_oversampled = ROS_model.fit_resample(X_train, y_train)"
   ]
  },
  {
   "cell_type": "code",
   "execution_count": null,
   "id": "e3c8fee5-451e-4ca0-a64d-2757a27980ae",
   "metadata": {
    "tags": []
   },
   "outputs": [],
   "source": [
    "# Count the distinct values of the resampled labels data\n",
    "y_oversampled.value_counts()"
   ]
  },
  {
   "cell_type": "code",
   "execution_count": null,
   "id": "68bf3fdf-e3da-44e1-a5de-62e336255480",
   "metadata": {
    "tags": []
   },
   "outputs": [],
   "source": [
    "# Instantiate the Logistic Regression model\n",
    "# Assign a random_state parameter of 1 to the model\n",
    "LR_oversampled_model = LogisticRegression(random_state = 1)"
   ]
  },
  {
   "cell_type": "code",
   "execution_count": null,
   "id": "8a99a8a7-d211-4f1c-8917-b002d6868fdc",
   "metadata": {
    "tags": []
   },
   "outputs": [],
   "source": [
    "# Fit the model using the resampled training data\n",
    "LR_oversampled_model.fit(X_oversampled, y_oversampled)"
   ]
  },
  {
   "cell_type": "code",
   "execution_count": null,
   "id": "2d43dcc2-694c-4993-b3d0-4d37e3ad8569",
   "metadata": {
    "tags": []
   },
   "outputs": [],
   "source": [
    "# Make a prediction using the testing data\n",
    "LR_oversampled_pred = LR_oversampled_model.predict(X_test)"
   ]
  },
  {
   "cell_type": "code",
   "execution_count": null,
   "id": "67dea170-5da8-481f-a3cd-0629c5e46221",
   "metadata": {
    "tags": []
   },
   "outputs": [],
   "source": [
    "# Print the balanced_accuracy score of the model \n",
    "balanced_accuracy_score(y_test, LR_oversampled_pred)"
   ]
  },
  {
   "cell_type": "code",
   "execution_count": null,
   "id": "b680bea3-8ce3-4780-9b27-b4adc1138df3",
   "metadata": {
    "tags": []
   },
   "outputs": [],
   "source": [
    "# Generate a confusion matrix for the model\n",
    "cm_oversampled = confusion_matrix(y_test, LR_oversampled_pred)\n",
    "cm_oversampled_df = pd.DataFrame(cm_oversampled, \n",
    "                                index = ['Actual Healthy Loans (low-risk)', \n",
    "                                'Actual Non-Healthy Loans (high-risk)'], \n",
    "                                columns = ['Predicted Healthy Loans (low-risk)', 'Predicted Non-Healthy Loans (high-risk)']\n",
    "                              )\n",
    "cm_oversampled_df"
   ]
  },
  {
   "cell_type": "code",
   "execution_count": null,
   "id": "bddcf44f-6ff0-4483-a0bf-8da82098f8df",
   "metadata": {},
   "outputs": [],
   "source": [
    "'''\n",
    "-- Out of the 11,770 loan status's that are healthy, the model predicted 11,770 as \n",
    "   healthy correctly. \n",
    "\n",
    "-- Out of the 8,401 loan status's that are non-healthy (high-risk), the model \n",
    "   predicted 8,401 as non-healthy correctly. '''"
   ]
  },
  {
   "cell_type": "code",
   "execution_count": null,
   "id": "7f0c5193-6a17-45e7-a33d-74be56cb8d38",
   "metadata": {
    "tags": []
   },
   "outputs": [],
   "source": [
    "# Print the classification report for the model\n",
    "print(classification_report(y_test, LR_oversampled_pred))"
   ]
  },
  {
   "cell_type": "code",
   "execution_count": null,
   "id": "455dfcd9-89c8-4699-be9a-1109f8318155",
   "metadata": {
    "tags": []
   },
   "outputs": [],
   "source": [
    "# Resample the training data with the BalancedRandomForestClassifier\n",
    "from imblearn.ensemble import BalancedRandomForestClassifier\n",
    "\n",
    "rf_model = BalancedRandomForestClassifier(n_estimators=100, random_state=1)\n",
    "\n",
    "# Fitting the model\n",
    "rf_model = rf_model.fit(X_train, y_train)"
   ]
  },
  {
   "cell_type": "code",
   "execution_count": null,
   "id": "fb47cf78-6b49-40d4-ab53-ec39062fb8d5",
   "metadata": {
    "tags": []
   },
   "outputs": [],
   "source": [
    "# Calculated the balanced accuracy score\n",
    "from sklearn.metrics import accuracy_score\n",
    "y_pred = rf_model.predict(X_test)\n",
    "acc_score = accuracy_score(y_test, y_pred)\n",
    "print(acc_score)"
   ]
  },
  {
   "cell_type": "code",
   "execution_count": null,
   "id": "61937660-44c1-403f-b62c-96716e4607f4",
   "metadata": {
    "tags": []
   },
   "outputs": [],
   "source": [
    "# Display the confusion matrix\n",
    "from sklearn.metrics import confusion_matrix, classification_report\n",
    "\n",
    "matrix = confusion_matrix(y_test, y_pred)\n",
    "cm_df = pd.DataFrame(\n",
    "    matrix, index=[\"Actual High-Risk\", \"Actual Low-Risk\"], columns=[\"Predicted High_Risk\", \"Prediceted Low_Risk\"])\n",
    "cm_df"
   ]
  },
  {
   "cell_type": "code",
   "execution_count": null,
   "id": "b6ec7719-a648-4e28-909b-99282ab62d61",
   "metadata": {
    "tags": []
   },
   "outputs": [],
   "source": [
    "# Print the imbalanced classification report\n",
    "from imblearn.metrics import classification_report_imbalanced\n",
    "print(classification_report_imbalanced(y_test, y_pred))"
   ]
  },
  {
   "cell_type": "code",
   "execution_count": null,
   "id": "878c17cd-b638-44d8-8eb0-196c443b3ba0",
   "metadata": {
    "tags": []
   },
   "outputs": [],
   "source": [
    "# List the features sorted in descending order by feature importance\n",
    "sorted(zip(rf_model.feature_importances_, X.columns), reverse=True)"
   ]
  },
  {
   "cell_type": "code",
   "execution_count": null,
   "id": "41d09624-2a24-4d89-8e33-c2b38a81bf42",
   "metadata": {},
   "outputs": [],
   "source": [
    "#Easy Ensemble AdaBoost Classifier"
   ]
  },
  {
   "cell_type": "code",
   "execution_count": null,
   "id": "07726bda-8c10-4b90-a9ad-9162cb7eeb91",
   "metadata": {
    "tags": []
   },
   "outputs": [],
   "source": [
    "# Train the EasyEnsembleClassifier\n",
    "from imblearn.ensemble import EasyEnsembleClassifier\n",
    "\n",
    "eec = EasyEnsembleClassifier(n_estimators=100, random_state=1)\n",
    "eec.fit(X_train, y_train)"
   ]
  },
  {
   "cell_type": "code",
   "execution_count": null,
   "id": "308c8a67-5d7a-44f1-b38d-6b9323effbf9",
   "metadata": {
    "tags": []
   },
   "outputs": [],
   "source": [
    "# Calculated the balanced accuracy score\n",
    "from sklearn.metrics import accuracy_score\n",
    "y_pred = eec.predict(X_test)\n",
    "acc_score2 = accuracy_score(y_test, y_pred)\n",
    "print(acc_score2)"
   ]
  },
  {
   "cell_type": "code",
   "execution_count": null,
   "id": "d9153b41-af3d-4eaa-afcb-bd7ff90a9d7a",
   "metadata": {
    "tags": []
   },
   "outputs": [],
   "source": [
    "# Display the confusion matrix\n",
    "from sklearn.metrics import confusion_matrix, classification_report\n",
    "\n",
    "cm_df = pd.DataFrame(\n",
    "    matrix, index=[\"Actual High-Risk\", \"Actual Low-Risk\"], columns=[\"Predicted High_Risk\", \"Prediceted Low_Risk\"])\n",
    "cm_df"
   ]
  },
  {
   "cell_type": "code",
   "execution_count": null,
   "id": "d8278223-c5d7-4646-a646-ffc5587cdcd1",
   "metadata": {
    "tags": []
   },
   "outputs": [],
   "source": [
    "# Print the imbalanced classification report\n",
    "from imblearn.metrics import classification_report_imbalanced\n",
    "\n",
    "print(classification_report_imbalanced(y_test, y_pred))"
   ]
  }
 ],
 "metadata": {
  "kernelspec": {
   "display_name": "Python 3 (ipykernel)",
   "language": "python",
   "name": "python3"
  },
  "language_info": {
   "codemirror_mode": {
    "name": "ipython",
    "version": 3
   },
   "file_extension": ".py",
   "mimetype": "text/x-python",
   "name": "python",
   "nbconvert_exporter": "python",
   "pygments_lexer": "ipython3",
   "version": "3.11.3"
  }
 },
 "nbformat": 4,
 "nbformat_minor": 5
}
