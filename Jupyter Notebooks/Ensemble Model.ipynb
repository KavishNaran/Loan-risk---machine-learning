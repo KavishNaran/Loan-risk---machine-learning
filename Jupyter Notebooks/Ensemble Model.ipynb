{
 "cells": [
  {
   "cell_type": "code",
   "execution_count": 8,
   "id": "31f31a14-5803-4105-a0f1-9dc10877bfb5",
   "metadata": {
    "tags": []
   },
   "outputs": [],
   "source": [
    "#Import dependenices\n",
    "import csv\n",
    "import pandas as pd\n",
    "from pathlib import Path\n",
    "import hvplot.pandas\n",
    "import matplotlib.pyplot as plt\n",
    "import seaborn as sns\n",
    "import tensorflow as tf\n",
    "import tensorflow as tfm\n",
    "from sklearn.metrics import confusion_matrix, accuracy_score,classification_report\n",
    "from imblearn.metrics import classification_report_imbalanced\n",
    "from sklearn.metrics import balanced_accuracy_score\n",
    "from sklearn.model_selection import train_test_split\n",
    "from sklearn.metrics import accuracy_score\n",
    "from sklearn.ensemble import RandomForestClassifier\n",
    "from sklearn.preprocessing import StandardScaler\n",
    "%matplotlib inline"
   ]
  },
  {
   "cell_type": "code",
   "execution_count": 3,
   "id": "284351b9-0004-4fde-861a-7df3058840c4",
   "metadata": {
    "tags": []
   },
   "outputs": [
    {
     "name": "stdout",
     "output_type": "stream",
     "text": [
      "(80683, 15)\n"
     ]
    },
    {
     "data": {
      "text/html": [
       "<div>\n",
       "<style scoped>\n",
       "    .dataframe tbody tr th:only-of-type {\n",
       "        vertical-align: middle;\n",
       "    }\n",
       "\n",
       "    .dataframe tbody tr th {\n",
       "        vertical-align: top;\n",
       "    }\n",
       "\n",
       "    .dataframe thead th {\n",
       "        text-align: right;\n",
       "    }\n",
       "</style>\n",
       "<table border=\"1\" class=\"dataframe\">\n",
       "  <thead>\n",
       "    <tr style=\"text-align: right;\">\n",
       "      <th></th>\n",
       "      <th>Current loan amount</th>\n",
       "      <th>Credit score</th>\n",
       "      <th>Annual income</th>\n",
       "      <th>Monthly debt</th>\n",
       "      <th>Years of credit history</th>\n",
       "      <th>Number of open accounts</th>\n",
       "      <th>Number of credit problems</th>\n",
       "      <th>Current credit balance</th>\n",
       "      <th>Maximum open credit</th>\n",
       "      <th>Long term</th>\n",
       "      <th>Short term</th>\n",
       "      <th>Home mortgage</th>\n",
       "      <th>Own home</th>\n",
       "      <th>Rent</th>\n",
       "      <th>Bankrupt</th>\n",
       "    </tr>\n",
       "  </thead>\n",
       "  <tbody>\n",
       "    <tr>\n",
       "      <th>0</th>\n",
       "      <td>-0.403050</td>\n",
       "      <td>-0.248996</td>\n",
       "      <td>-0.195065</td>\n",
       "      <td>-1.088060</td>\n",
       "      <td>-0.139697</td>\n",
       "      <td>-1.023574</td>\n",
       "      <td>1.699378</td>\n",
       "      <td>-0.175312</td>\n",
       "      <td>-0.046075</td>\n",
       "      <td>0</td>\n",
       "      <td>1</td>\n",
       "      <td>1</td>\n",
       "      <td>0</td>\n",
       "      <td>0</td>\n",
       "      <td>0</td>\n",
       "    </tr>\n",
       "    <tr>\n",
       "      <th>1</th>\n",
       "      <td>2.458067</td>\n",
       "      <td>-0.227302</td>\n",
       "      <td>0.789666</td>\n",
       "      <td>0.872983</td>\n",
       "      <td>-0.467973</td>\n",
       "      <td>1.363133</td>\n",
       "      <td>1.699378</td>\n",
       "      <td>0.007629</td>\n",
       "      <td>0.002270</td>\n",
       "      <td>0</td>\n",
       "      <td>1</td>\n",
       "      <td>0</td>\n",
       "      <td>1</td>\n",
       "      <td>0</td>\n",
       "      <td>0</td>\n",
       "    </tr>\n",
       "    <tr>\n",
       "      <th>2</th>\n",
       "      <td>-0.405859</td>\n",
       "      <td>-0.240861</td>\n",
       "      <td>-0.528623</td>\n",
       "      <td>-0.799685</td>\n",
       "      <td>-0.881886</td>\n",
       "      <td>-0.426898</td>\n",
       "      <td>-0.348918</td>\n",
       "      <td>-0.101568</td>\n",
       "      <td>-0.050396</td>\n",
       "      <td>1</td>\n",
       "      <td>0</td>\n",
       "      <td>0</td>\n",
       "      <td>1</td>\n",
       "      <td>0</td>\n",
       "      <td>0</td>\n",
       "    </tr>\n",
       "    <tr>\n",
       "      <th>3</th>\n",
       "      <td>-0.409913</td>\n",
       "      <td>4.212629</td>\n",
       "      <td>-0.445444</td>\n",
       "      <td>-0.176207</td>\n",
       "      <td>-0.125424</td>\n",
       "      <td>-1.023574</td>\n",
       "      <td>-0.348918</td>\n",
       "      <td>-0.209072</td>\n",
       "      <td>-0.067003</td>\n",
       "      <td>0</td>\n",
       "      <td>1</td>\n",
       "      <td>1</td>\n",
       "      <td>0</td>\n",
       "      <td>0</td>\n",
       "      <td>0</td>\n",
       "    </tr>\n",
       "    <tr>\n",
       "      <th>4</th>\n",
       "      <td>-0.409596</td>\n",
       "      <td>-0.234759</td>\n",
       "      <td>-0.179614</td>\n",
       "      <td>-0.626914</td>\n",
       "      <td>0.202852</td>\n",
       "      <td>0.368672</td>\n",
       "      <td>1.699378</td>\n",
       "      <td>-0.453159</td>\n",
       "      <td>-0.067061</td>\n",
       "      <td>0</td>\n",
       "      <td>1</td>\n",
       "      <td>1</td>\n",
       "      <td>0</td>\n",
       "      <td>0</td>\n",
       "      <td>0</td>\n",
       "    </tr>\n",
       "  </tbody>\n",
       "</table>\n",
       "</div>"
      ],
      "text/plain": [
       "   Current loan amount  Credit score  Annual income  Monthly debt  \\\n",
       "0            -0.403050     -0.248996      -0.195065     -1.088060   \n",
       "1             2.458067     -0.227302       0.789666      0.872983   \n",
       "2            -0.405859     -0.240861      -0.528623     -0.799685   \n",
       "3            -0.409913      4.212629      -0.445444     -0.176207   \n",
       "4            -0.409596     -0.234759      -0.179614     -0.626914   \n",
       "\n",
       "   Years of credit history  Number of open accounts  \\\n",
       "0                -0.139697                -1.023574   \n",
       "1                -0.467973                 1.363133   \n",
       "2                -0.881886                -0.426898   \n",
       "3                -0.125424                -1.023574   \n",
       "4                 0.202852                 0.368672   \n",
       "\n",
       "   Number of credit problems  Current credit balance  Maximum open credit  \\\n",
       "0                   1.699378               -0.175312            -0.046075   \n",
       "1                   1.699378                0.007629             0.002270   \n",
       "2                  -0.348918               -0.101568            -0.050396   \n",
       "3                  -0.348918               -0.209072            -0.067003   \n",
       "4                   1.699378               -0.453159            -0.067061   \n",
       "\n",
       "   Long term  Short term  Home mortgage  Own home  Rent  Bankrupt  \n",
       "0          0           1              1         0     0         0  \n",
       "1          0           1              0         1     0         0  \n",
       "2          1           0              0         1     0         0  \n",
       "3          0           1              1         0     0         0  \n",
       "4          0           1              1         0     0         0  "
      ]
     },
     "execution_count": 3,
     "metadata": {},
     "output_type": "execute_result"
    }
   ],
   "source": [
    "# Specify the path to your CSV file\n",
    "csv_file_path = 'Resources/Clean_train_scaled.csv'\n",
    "\n",
    "# Read the CSV file into a DataFrame\n",
    "loan_data = pd.read_csv(csv_file_path)\n",
    "\n",
    "#Print size of data set\n",
    "print(loan_data.shape)\n",
    "\n",
    "# Display the DataFrame\n",
    "loan_data.head(5)"
   ]
  },
  {
   "cell_type": "markdown",
   "id": "2c319dbf-450d-4082-b84a-c328ec5253ec",
   "metadata": {},
   "source": [
    "# Machine Learning Models"
   ]
  },
  {
   "cell_type": "markdown",
   "id": "6b6a2842-431f-4e1a-8a76-d1f3e7859ba6",
   "metadata": {},
   "source": [
    "### Ensemble Model"
   ]
  },
  {
   "cell_type": "code",
   "execution_count": null,
   "id": "98c7f255-db9f-4ef8-86c2-5b143d60dc92",
   "metadata": {},
   "outputs": [],
   "source": [
    "# Step 1: Read the Clean_train_scaled.csv data from the Resources folder into a Pandas DataFrame."
   ]
  },
  {
   "cell_type": "code",
   "execution_count": 18,
   "id": "f9946570-9209-4eb5-b1f3-03864c889ebe",
   "metadata": {
    "tags": []
   },
   "outputs": [
    {
     "name": "stdout",
     "output_type": "stream",
     "text": [
      "(80683, 15)\n"
     ]
    },
    {
     "data": {
      "text/html": [
       "<div>\n",
       "<style scoped>\n",
       "    .dataframe tbody tr th:only-of-type {\n",
       "        vertical-align: middle;\n",
       "    }\n",
       "\n",
       "    .dataframe tbody tr th {\n",
       "        vertical-align: top;\n",
       "    }\n",
       "\n",
       "    .dataframe thead th {\n",
       "        text-align: right;\n",
       "    }\n",
       "</style>\n",
       "<table border=\"1\" class=\"dataframe\">\n",
       "  <thead>\n",
       "    <tr style=\"text-align: right;\">\n",
       "      <th></th>\n",
       "      <th>Current loan amount</th>\n",
       "      <th>Credit score</th>\n",
       "      <th>Annual income</th>\n",
       "      <th>Monthly debt</th>\n",
       "      <th>Years of credit history</th>\n",
       "      <th>Number of open accounts</th>\n",
       "      <th>Number of credit problems</th>\n",
       "      <th>Current credit balance</th>\n",
       "      <th>Maximum open credit</th>\n",
       "      <th>Long term</th>\n",
       "      <th>Short term</th>\n",
       "      <th>Home mortgage</th>\n",
       "      <th>Own home</th>\n",
       "      <th>Rent</th>\n",
       "      <th>Bankrupt</th>\n",
       "    </tr>\n",
       "  </thead>\n",
       "  <tbody>\n",
       "    <tr>\n",
       "      <th>0</th>\n",
       "      <td>-0.403050</td>\n",
       "      <td>-0.248996</td>\n",
       "      <td>-0.195065</td>\n",
       "      <td>-1.088060</td>\n",
       "      <td>-0.139697</td>\n",
       "      <td>-1.023574</td>\n",
       "      <td>1.699378</td>\n",
       "      <td>-0.175312</td>\n",
       "      <td>-0.046075</td>\n",
       "      <td>0</td>\n",
       "      <td>1</td>\n",
       "      <td>1</td>\n",
       "      <td>0</td>\n",
       "      <td>0</td>\n",
       "      <td>0</td>\n",
       "    </tr>\n",
       "    <tr>\n",
       "      <th>1</th>\n",
       "      <td>2.458067</td>\n",
       "      <td>-0.227302</td>\n",
       "      <td>0.789666</td>\n",
       "      <td>0.872983</td>\n",
       "      <td>-0.467973</td>\n",
       "      <td>1.363133</td>\n",
       "      <td>1.699378</td>\n",
       "      <td>0.007629</td>\n",
       "      <td>0.002270</td>\n",
       "      <td>0</td>\n",
       "      <td>1</td>\n",
       "      <td>0</td>\n",
       "      <td>1</td>\n",
       "      <td>0</td>\n",
       "      <td>0</td>\n",
       "    </tr>\n",
       "    <tr>\n",
       "      <th>2</th>\n",
       "      <td>-0.405859</td>\n",
       "      <td>-0.240861</td>\n",
       "      <td>-0.528623</td>\n",
       "      <td>-0.799685</td>\n",
       "      <td>-0.881886</td>\n",
       "      <td>-0.426898</td>\n",
       "      <td>-0.348918</td>\n",
       "      <td>-0.101568</td>\n",
       "      <td>-0.050396</td>\n",
       "      <td>1</td>\n",
       "      <td>0</td>\n",
       "      <td>0</td>\n",
       "      <td>1</td>\n",
       "      <td>0</td>\n",
       "      <td>0</td>\n",
       "    </tr>\n",
       "    <tr>\n",
       "      <th>3</th>\n",
       "      <td>-0.409913</td>\n",
       "      <td>4.212629</td>\n",
       "      <td>-0.445444</td>\n",
       "      <td>-0.176207</td>\n",
       "      <td>-0.125424</td>\n",
       "      <td>-1.023574</td>\n",
       "      <td>-0.348918</td>\n",
       "      <td>-0.209072</td>\n",
       "      <td>-0.067003</td>\n",
       "      <td>0</td>\n",
       "      <td>1</td>\n",
       "      <td>1</td>\n",
       "      <td>0</td>\n",
       "      <td>0</td>\n",
       "      <td>0</td>\n",
       "    </tr>\n",
       "    <tr>\n",
       "      <th>4</th>\n",
       "      <td>-0.409596</td>\n",
       "      <td>-0.234759</td>\n",
       "      <td>-0.179614</td>\n",
       "      <td>-0.626914</td>\n",
       "      <td>0.202852</td>\n",
       "      <td>0.368672</td>\n",
       "      <td>1.699378</td>\n",
       "      <td>-0.453159</td>\n",
       "      <td>-0.067061</td>\n",
       "      <td>0</td>\n",
       "      <td>1</td>\n",
       "      <td>1</td>\n",
       "      <td>0</td>\n",
       "      <td>0</td>\n",
       "      <td>0</td>\n",
       "    </tr>\n",
       "  </tbody>\n",
       "</table>\n",
       "</div>"
      ],
      "text/plain": [
       "   Current loan amount  Credit score  Annual income  Monthly debt  \\\n",
       "0            -0.403050     -0.248996      -0.195065     -1.088060   \n",
       "1             2.458067     -0.227302       0.789666      0.872983   \n",
       "2            -0.405859     -0.240861      -0.528623     -0.799685   \n",
       "3            -0.409913      4.212629      -0.445444     -0.176207   \n",
       "4            -0.409596     -0.234759      -0.179614     -0.626914   \n",
       "\n",
       "   Years of credit history  Number of open accounts  \\\n",
       "0                -0.139697                -1.023574   \n",
       "1                -0.467973                 1.363133   \n",
       "2                -0.881886                -0.426898   \n",
       "3                -0.125424                -1.023574   \n",
       "4                 0.202852                 0.368672   \n",
       "\n",
       "   Number of credit problems  Current credit balance  Maximum open credit  \\\n",
       "0                   1.699378               -0.175312            -0.046075   \n",
       "1                   1.699378                0.007629             0.002270   \n",
       "2                  -0.348918               -0.101568            -0.050396   \n",
       "3                  -0.348918               -0.209072            -0.067003   \n",
       "4                   1.699378               -0.453159            -0.067061   \n",
       "\n",
       "   Long term  Short term  Home mortgage  Own home  Rent  Bankrupt  \n",
       "0          0           1              1         0     0         0  \n",
       "1          0           1              0         1     0         0  \n",
       "2          1           0              0         1     0         0  \n",
       "3          0           1              1         0     0         0  \n",
       "4          0           1              1         0     0         0  "
      ]
     },
     "execution_count": 18,
     "metadata": {},
     "output_type": "execute_result"
    }
   ],
   "source": [
    "# Specify the path to your CSV file\n",
    "csv_file_path = 'Resources/Clean_train_scaled.csv'\n",
    "\n",
    "# Read the CSV file into a DataFrame\n",
    "loan_data = pd.read_csv(csv_file_path)\n",
    "\n",
    "#Print size of data set\n",
    "print(loan_data.shape)\n",
    "\n",
    "# Display the DataFrame\n",
    "loan_data.head(5)"
   ]
  },
  {
   "cell_type": "code",
   "execution_count": null,
   "id": "0381c610-dc25-413a-a73e-3ecbfb579155",
   "metadata": {},
   "outputs": [],
   "source": [
    "# Step 2: Create the labels set (y) from the “Rent” column, and then create the features (X) DataFrame from the remaining columns."
   ]
  },
  {
   "cell_type": "code",
   "execution_count": 19,
   "id": "63f01282-71bf-483c-9e67-7d11d008b4d9",
   "metadata": {
    "tags": []
   },
   "outputs": [],
   "source": [
    "# Separate the data into labels and features\n",
    "\n",
    "# Separate the y variable, the labels\n",
    "y = loan_data['Bankrupt']\n",
    "\n",
    "# Separate the X variable, the features\n",
    "X = loan_data.drop(columns=['Bankrupt'])"
   ]
  },
  {
   "cell_type": "code",
   "execution_count": 20,
   "id": "3f072661-e89a-4f0c-beb4-5a6f0a84e88e",
   "metadata": {
    "tags": []
   },
   "outputs": [
    {
     "data": {
      "text/plain": [
       "0    0\n",
       "1    0\n",
       "2    0\n",
       "3    0\n",
       "4    0\n",
       "Name: Bankrupt, dtype: int64"
      ]
     },
     "execution_count": 20,
     "metadata": {},
     "output_type": "execute_result"
    }
   ],
   "source": [
    "# Review the y variable Series\n",
    "y.head()"
   ]
  },
  {
   "cell_type": "code",
   "execution_count": 21,
   "id": "1076381d-c946-4065-a03d-2eee56e6f439",
   "metadata": {
    "tags": []
   },
   "outputs": [
    {
     "data": {
      "text/html": [
       "<div>\n",
       "<style scoped>\n",
       "    .dataframe tbody tr th:only-of-type {\n",
       "        vertical-align: middle;\n",
       "    }\n",
       "\n",
       "    .dataframe tbody tr th {\n",
       "        vertical-align: top;\n",
       "    }\n",
       "\n",
       "    .dataframe thead th {\n",
       "        text-align: right;\n",
       "    }\n",
       "</style>\n",
       "<table border=\"1\" class=\"dataframe\">\n",
       "  <thead>\n",
       "    <tr style=\"text-align: right;\">\n",
       "      <th></th>\n",
       "      <th>Current loan amount</th>\n",
       "      <th>Credit score</th>\n",
       "      <th>Annual income</th>\n",
       "      <th>Monthly debt</th>\n",
       "      <th>Years of credit history</th>\n",
       "      <th>Number of open accounts</th>\n",
       "      <th>Number of credit problems</th>\n",
       "      <th>Current credit balance</th>\n",
       "      <th>Maximum open credit</th>\n",
       "      <th>Long term</th>\n",
       "      <th>Short term</th>\n",
       "      <th>Home mortgage</th>\n",
       "      <th>Own home</th>\n",
       "      <th>Rent</th>\n",
       "    </tr>\n",
       "  </thead>\n",
       "  <tbody>\n",
       "    <tr>\n",
       "      <th>0</th>\n",
       "      <td>-0.403050</td>\n",
       "      <td>-0.248996</td>\n",
       "      <td>-0.195065</td>\n",
       "      <td>-1.088060</td>\n",
       "      <td>-0.139697</td>\n",
       "      <td>-1.023574</td>\n",
       "      <td>1.699378</td>\n",
       "      <td>-0.175312</td>\n",
       "      <td>-0.046075</td>\n",
       "      <td>0</td>\n",
       "      <td>1</td>\n",
       "      <td>1</td>\n",
       "      <td>0</td>\n",
       "      <td>0</td>\n",
       "    </tr>\n",
       "    <tr>\n",
       "      <th>1</th>\n",
       "      <td>2.458067</td>\n",
       "      <td>-0.227302</td>\n",
       "      <td>0.789666</td>\n",
       "      <td>0.872983</td>\n",
       "      <td>-0.467973</td>\n",
       "      <td>1.363133</td>\n",
       "      <td>1.699378</td>\n",
       "      <td>0.007629</td>\n",
       "      <td>0.002270</td>\n",
       "      <td>0</td>\n",
       "      <td>1</td>\n",
       "      <td>0</td>\n",
       "      <td>1</td>\n",
       "      <td>0</td>\n",
       "    </tr>\n",
       "    <tr>\n",
       "      <th>2</th>\n",
       "      <td>-0.405859</td>\n",
       "      <td>-0.240861</td>\n",
       "      <td>-0.528623</td>\n",
       "      <td>-0.799685</td>\n",
       "      <td>-0.881886</td>\n",
       "      <td>-0.426898</td>\n",
       "      <td>-0.348918</td>\n",
       "      <td>-0.101568</td>\n",
       "      <td>-0.050396</td>\n",
       "      <td>1</td>\n",
       "      <td>0</td>\n",
       "      <td>0</td>\n",
       "      <td>1</td>\n",
       "      <td>0</td>\n",
       "    </tr>\n",
       "    <tr>\n",
       "      <th>3</th>\n",
       "      <td>-0.409913</td>\n",
       "      <td>4.212629</td>\n",
       "      <td>-0.445444</td>\n",
       "      <td>-0.176207</td>\n",
       "      <td>-0.125424</td>\n",
       "      <td>-1.023574</td>\n",
       "      <td>-0.348918</td>\n",
       "      <td>-0.209072</td>\n",
       "      <td>-0.067003</td>\n",
       "      <td>0</td>\n",
       "      <td>1</td>\n",
       "      <td>1</td>\n",
       "      <td>0</td>\n",
       "      <td>0</td>\n",
       "    </tr>\n",
       "    <tr>\n",
       "      <th>4</th>\n",
       "      <td>-0.409596</td>\n",
       "      <td>-0.234759</td>\n",
       "      <td>-0.179614</td>\n",
       "      <td>-0.626914</td>\n",
       "      <td>0.202852</td>\n",
       "      <td>0.368672</td>\n",
       "      <td>1.699378</td>\n",
       "      <td>-0.453159</td>\n",
       "      <td>-0.067061</td>\n",
       "      <td>0</td>\n",
       "      <td>1</td>\n",
       "      <td>1</td>\n",
       "      <td>0</td>\n",
       "      <td>0</td>\n",
       "    </tr>\n",
       "  </tbody>\n",
       "</table>\n",
       "</div>"
      ],
      "text/plain": [
       "   Current loan amount  Credit score  Annual income  Monthly debt  \\\n",
       "0            -0.403050     -0.248996      -0.195065     -1.088060   \n",
       "1             2.458067     -0.227302       0.789666      0.872983   \n",
       "2            -0.405859     -0.240861      -0.528623     -0.799685   \n",
       "3            -0.409913      4.212629      -0.445444     -0.176207   \n",
       "4            -0.409596     -0.234759      -0.179614     -0.626914   \n",
       "\n",
       "   Years of credit history  Number of open accounts  \\\n",
       "0                -0.139697                -1.023574   \n",
       "1                -0.467973                 1.363133   \n",
       "2                -0.881886                -0.426898   \n",
       "3                -0.125424                -1.023574   \n",
       "4                 0.202852                 0.368672   \n",
       "\n",
       "   Number of credit problems  Current credit balance  Maximum open credit  \\\n",
       "0                   1.699378               -0.175312            -0.046075   \n",
       "1                   1.699378                0.007629             0.002270   \n",
       "2                  -0.348918               -0.101568            -0.050396   \n",
       "3                  -0.348918               -0.209072            -0.067003   \n",
       "4                   1.699378               -0.453159            -0.067061   \n",
       "\n",
       "   Long term  Short term  Home mortgage  Own home  Rent  \n",
       "0          0           1              1         0     0  \n",
       "1          0           1              0         1     0  \n",
       "2          1           0              0         1     0  \n",
       "3          0           1              1         0     0  \n",
       "4          0           1              1         0     0  "
      ]
     },
     "execution_count": 21,
     "metadata": {},
     "output_type": "execute_result"
    }
   ],
   "source": [
    "# Review the X variable DataFrame\n",
    "X.head()"
   ]
  },
  {
   "cell_type": "code",
   "execution_count": 22,
   "id": "843a1e8b-aa6b-40be-96ba-5a767a9f6694",
   "metadata": {
    "tags": []
   },
   "outputs": [
    {
     "data": {
      "text/plain": [
       "Bankrupt\n",
       "0    80240\n",
       "1      443\n",
       "Name: count, dtype: int64"
      ]
     },
     "execution_count": 22,
     "metadata": {},
     "output_type": "execute_result"
    }
   ],
   "source": [
    "# Check the balance of our target values\n",
    "y.value_counts()"
   ]
  },
  {
   "cell_type": "code",
   "execution_count": null,
   "id": "0b441fda-1f7f-46d6-832e-7fccd55409d6",
   "metadata": {},
   "outputs": [],
   "source": [
    "# Step 3: Split the data into training and testing datasets by using train_test_split."
   ]
  },
  {
   "cell_type": "code",
   "execution_count": 23,
   "id": "17ed379c-8725-4feb-a160-e7f15a328880",
   "metadata": {
    "tags": []
   },
   "outputs": [],
   "source": [
    "# Import the train_test_learn module\n",
    "from sklearn.model_selection import train_test_split\n",
    "\n",
    "# Split the data using train_test_split\n",
    "# Assign a random_state of 1 to the function\n",
    "X_train, X_test, y_train, y_test = train_test_split(X, y, random_state=1)"
   ]
  },
  {
   "cell_type": "code",
   "execution_count": null,
   "id": "310d42ad-1c56-4a40-9283-e32daac64420",
   "metadata": {},
   "outputs": [],
   "source": [
    "# Create a Logistic Regression Model with the Original Data\n",
    "# Step 1:Fit a logistic regression model by using the training data (X_train and y_train)."
   ]
  },
  {
   "cell_type": "code",
   "execution_count": 24,
   "id": "616fef2e-921d-406d-a13f-e81bd124548e",
   "metadata": {
    "tags": []
   },
   "outputs": [],
   "source": [
    "# Import the LogisticRegression module from SKLearn\n",
    "from sklearn.linear_model import LogisticRegression\n",
    "\n",
    "# Instantiate the Logistic Regression model\n",
    "# Assign a random_state parameter of 1 to the model\n",
    "logistic_regression_model = LogisticRegression(solver='lbfgs', random_state=1)\n",
    "\n",
    "# Fit the model using training data\n",
    "lr_model = logistic_regression_model.fit(X_train, y_train)"
   ]
  },
  {
   "cell_type": "code",
   "execution_count": null,
   "id": "b4192dac-ca5b-4698-ba65-16f51d3f0e54",
   "metadata": {},
   "outputs": [],
   "source": [
    "# Step 2: Save the predictions on the testing data labels by using the testing feature data (X_test) and the fitted model."
   ]
  },
  {
   "cell_type": "code",
   "execution_count": 25,
   "id": "b784782b-f14a-450b-bdb3-6515dca38d36",
   "metadata": {
    "tags": []
   },
   "outputs": [],
   "source": [
    "# Make a prediction using the testing data\n",
    "LR_predictions = lr_model.predict(X_test)"
   ]
  },
  {
   "cell_type": "code",
   "execution_count": 26,
   "id": "871ddea2-1ca0-4e87-9384-4a5a0f105013",
   "metadata": {
    "tags": []
   },
   "outputs": [
    {
     "data": {
      "text/html": [
       "<div>\n",
       "<style scoped>\n",
       "    .dataframe tbody tr th:only-of-type {\n",
       "        vertical-align: middle;\n",
       "    }\n",
       "\n",
       "    .dataframe tbody tr th {\n",
       "        vertical-align: top;\n",
       "    }\n",
       "\n",
       "    .dataframe thead th {\n",
       "        text-align: right;\n",
       "    }\n",
       "</style>\n",
       "<table border=\"1\" class=\"dataframe\">\n",
       "  <thead>\n",
       "    <tr style=\"text-align: right;\">\n",
       "      <th></th>\n",
       "      <th>Predictions</th>\n",
       "      <th>Actual</th>\n",
       "    </tr>\n",
       "  </thead>\n",
       "  <tbody>\n",
       "    <tr>\n",
       "      <th>15935</th>\n",
       "      <td>0</td>\n",
       "      <td>0</td>\n",
       "    </tr>\n",
       "    <tr>\n",
       "      <th>57347</th>\n",
       "      <td>0</td>\n",
       "      <td>0</td>\n",
       "    </tr>\n",
       "    <tr>\n",
       "      <th>48961</th>\n",
       "      <td>0</td>\n",
       "      <td>0</td>\n",
       "    </tr>\n",
       "    <tr>\n",
       "      <th>14717</th>\n",
       "      <td>0</td>\n",
       "      <td>0</td>\n",
       "    </tr>\n",
       "    <tr>\n",
       "      <th>15551</th>\n",
       "      <td>0</td>\n",
       "      <td>0</td>\n",
       "    </tr>\n",
       "    <tr>\n",
       "      <th>...</th>\n",
       "      <td>...</td>\n",
       "      <td>...</td>\n",
       "    </tr>\n",
       "    <tr>\n",
       "      <th>33849</th>\n",
       "      <td>0</td>\n",
       "      <td>0</td>\n",
       "    </tr>\n",
       "    <tr>\n",
       "      <th>9311</th>\n",
       "      <td>0</td>\n",
       "      <td>0</td>\n",
       "    </tr>\n",
       "    <tr>\n",
       "      <th>42846</th>\n",
       "      <td>0</td>\n",
       "      <td>0</td>\n",
       "    </tr>\n",
       "    <tr>\n",
       "      <th>25742</th>\n",
       "      <td>0</td>\n",
       "      <td>0</td>\n",
       "    </tr>\n",
       "    <tr>\n",
       "      <th>48175</th>\n",
       "      <td>0</td>\n",
       "      <td>0</td>\n",
       "    </tr>\n",
       "  </tbody>\n",
       "</table>\n",
       "<p>20171 rows × 2 columns</p>\n",
       "</div>"
      ],
      "text/plain": [
       "       Predictions  Actual\n",
       "15935            0       0\n",
       "57347            0       0\n",
       "48961            0       0\n",
       "14717            0       0\n",
       "15551            0       0\n",
       "...            ...     ...\n",
       "33849            0       0\n",
       "9311             0       0\n",
       "42846            0       0\n",
       "25742            0       0\n",
       "48175            0       0\n",
       "\n",
       "[20171 rows x 2 columns]"
      ]
     },
     "execution_count": 26,
     "metadata": {},
     "output_type": "execute_result"
    }
   ],
   "source": [
    "# Make a prediction using the testing data\n",
    "test_predictions = logistic_regression_model.predict(X_test)\n",
    "pd.DataFrame({'Predictions': test_predictions, 'Actual': y_test})"
   ]
  },
  {
   "cell_type": "code",
   "execution_count": null,
   "id": "4166f641-2107-4a75-a084-ac7a5c88c327",
   "metadata": {
    "tags": []
   },
   "outputs": [],
   "source": [
    "# Step 3: Evaluate the model’s performance by doing the following:\n",
    "# 1. Generate Confusion Matrix\n",
    "# 2. Print Classification report"
   ]
  },
  {
   "cell_type": "code",
   "execution_count": 27,
   "id": "618f08b2-af5a-419b-8137-5a13bef59c54",
   "metadata": {
    "tags": []
   },
   "outputs": [
    {
     "data": {
      "text/plain": [
       "array([[20045,    30],\n",
       "       [   86,    10]], dtype=int64)"
      ]
     },
     "execution_count": 27,
     "metadata": {},
     "output_type": "execute_result"
    }
   ],
   "source": [
    "# Generate a confusion matrix for the model\n",
    "cf_test_matrix = confusion_matrix(y_test, test_predictions)\n",
    "cf_test_matrix "
   ]
  },
  {
   "cell_type": "code",
   "execution_count": 28,
   "id": "e39f43b2-e902-4003-b597-fa299878d5ce",
   "metadata": {
    "tags": []
   },
   "outputs": [
    {
     "data": {
      "text/html": [
       "<div>\n",
       "<style scoped>\n",
       "    .dataframe tbody tr th:only-of-type {\n",
       "        vertical-align: middle;\n",
       "    }\n",
       "\n",
       "    .dataframe tbody tr th {\n",
       "        vertical-align: top;\n",
       "    }\n",
       "\n",
       "    .dataframe thead th {\n",
       "        text-align: right;\n",
       "    }\n",
       "</style>\n",
       "<table border=\"1\" class=\"dataframe\">\n",
       "  <thead>\n",
       "    <tr style=\"text-align: right;\">\n",
       "      <th></th>\n",
       "      <th>Predicted Healthy Loans (low-risk)</th>\n",
       "      <th>Predicted Non-Healthy Loans (high-risk)</th>\n",
       "    </tr>\n",
       "  </thead>\n",
       "  <tbody>\n",
       "    <tr>\n",
       "      <th>Actual Healthy Loans (low-risk)</th>\n",
       "      <td>20045</td>\n",
       "      <td>30</td>\n",
       "    </tr>\n",
       "    <tr>\n",
       "      <th>Actual Non-Healthy Loans (high-risk)</th>\n",
       "      <td>86</td>\n",
       "      <td>10</td>\n",
       "    </tr>\n",
       "  </tbody>\n",
       "</table>\n",
       "</div>"
      ],
      "text/plain": [
       "                                      Predicted Healthy Loans (low-risk)  \\\n",
       "Actual Healthy Loans (low-risk)                                    20045   \n",
       "Actual Non-Healthy Loans (high-risk)                                  86   \n",
       "\n",
       "                                      Predicted Non-Healthy Loans (high-risk)  \n",
       "Actual Healthy Loans (low-risk)                                            30  \n",
       "Actual Non-Healthy Loans (high-risk)                                       10  "
      ]
     },
     "execution_count": 28,
     "metadata": {},
     "output_type": "execute_result"
    }
   ],
   "source": [
    "cm_imbalanced = confusion_matrix(y_test, LR_predictions)\n",
    "cm_imbalanced_df = pd.DataFrame(cm_imbalanced, \n",
    "                                index = ['Actual Healthy Loans (low-risk)', \n",
    "                                'Actual Non-Healthy Loans (high-risk)'], \n",
    "                                columns = ['Predicted Healthy Loans (low-risk)', 'Predicted Non-Healthy Loans (high-risk)']\n",
    "                              )\n",
    "cm_imbalanced_df"
   ]
  },
  {
   "cell_type": "code",
   "execution_count": 29,
   "id": "139e5c8e-7ac3-43c4-b006-690e604814eb",
   "metadata": {
    "tags": []
   },
   "outputs": [
    {
     "name": "stdout",
     "output_type": "stream",
     "text": [
      "              precision    recall  f1-score   support\n",
      "\n",
      "           0       1.00      1.00      1.00     20075\n",
      "           1       0.25      0.10      0.15        96\n",
      "\n",
      "    accuracy                           0.99     20171\n",
      "   macro avg       0.62      0.55      0.57     20171\n",
      "weighted avg       0.99      0.99      0.99     20171\n",
      "\n"
     ]
    }
   ],
   "source": [
    "# Print the classification report for the model\n",
    "testing_report = classification_report(y_test, test_predictions)\n",
    "print(testing_report)"
   ]
  },
  {
   "cell_type": "code",
   "execution_count": null,
   "id": "ea7bad9f-b34c-4726-988b-957a4ed6058e",
   "metadata": {},
   "outputs": [],
   "source": [
    "# My balanced accuracy score is 55%!  It takes into account both sensitivity (true positive rate) and specificity \n",
    "#(true negative rate) to measure the performance of my model, especially when dealing with imbalanced datasets. With 80,240 rejected\n",
    "loans and only 443 accepted ones. It’s important to have metric that considers this imbalance.\n",
    "\n",
    "# And guess what? My model’s accuracy score is a whopping 99% That means it correctly predicted 99% of all loans in the dataset.That’s \n",
    "# pretty incredible right?\n",
    "\n",
    "Looking at the confusion matrix my model did a great job by accepting 20,045 healthy loans and rejecting 10 high-risk loans accurately.\n",
    "However, they were a few cases where it made some mistakes like rejecting 30 healthy loans and accepting 86 high-risk loans. But \n",
    "overall, it seems like my model is doing a fantastic job.\n",
    "\n",
    "# Precision and recall are also important measures. My model has a precision score of 25% for default loans and perfect 100% for healthy \n",
    "loans. This shows how well my prediction matched reality. And when it comes to recall which looks at how well reality matched the \n",
    "predictions my model scored 10% for default loans and 100% for healthy loans.\n",
    "\n",
    "# Finally, the F1 score. It’s the weighted average of precision and recall scores, and it is the great way to evaluate the overall \n",
    "# performance of my model. F1 score is 15% for default loans 100% for healthy loans."
   ]
  },
  {
   "cell_type": "code",
   "execution_count": 30,
   "id": "5f2faf3c-5568-40df-bd78-395c7f9a4d1e",
   "metadata": {
    "tags": []
   },
   "outputs": [],
   "source": [
    "# Import the RandomOverSampler module form imbalanced-learn\n",
    "from imblearn.over_sampling import RandomOverSampler"
   ]
  },
  {
   "cell_type": "code",
   "execution_count": 31,
   "id": "1a057006-6da7-48ae-b84f-6ba455cc9382",
   "metadata": {
    "tags": []
   },
   "outputs": [],
   "source": [
    "# Instantiate the random oversampler model\n",
    "# # Assign a random_state parameter of 1 to the model\n",
    "ROS_model = RandomOverSampler(random_state = 1)"
   ]
  },
  {
   "cell_type": "code",
   "execution_count": 32,
   "id": "f3573201-6aaf-41c2-a692-56b5983aab89",
   "metadata": {
    "tags": []
   },
   "outputs": [],
   "source": [
    "# Fit the original training data to the random_oversampler model\n",
    "X_oversampled, y_oversampled = ROS_model.fit_resample(X_train, y_train)"
   ]
  },
  {
   "cell_type": "code",
   "execution_count": 33,
   "id": "e3c8fee5-451e-4ca0-a64d-2757a27980ae",
   "metadata": {
    "tags": []
   },
   "outputs": [
    {
     "data": {
      "text/plain": [
       "Bankrupt\n",
       "1    60165\n",
       "0    60165\n",
       "Name: count, dtype: int64"
      ]
     },
     "execution_count": 33,
     "metadata": {},
     "output_type": "execute_result"
    }
   ],
   "source": [
    "# Count the distinct values of the resampled labels data\n",
    "y_oversampled.value_counts()"
   ]
  },
  {
   "cell_type": "code",
   "execution_count": 34,
   "id": "68bf3fdf-e3da-44e1-a5de-62e336255480",
   "metadata": {
    "tags": []
   },
   "outputs": [],
   "source": [
    "# Instantiate the Logistic Regression model\n",
    "# Assign a random_state parameter of 1 to the model\n",
    "LR_oversampled_model = LogisticRegression(random_state = 1)"
   ]
  },
  {
   "cell_type": "code",
   "execution_count": 35,
   "id": "8a99a8a7-d211-4f1c-8917-b002d6868fdc",
   "metadata": {
    "tags": []
   },
   "outputs": [
    {
     "data": {
      "text/html": [
       "<style>#sk-container-id-1 {color: black;}#sk-container-id-1 pre{padding: 0;}#sk-container-id-1 div.sk-toggleable {background-color: white;}#sk-container-id-1 label.sk-toggleable__label {cursor: pointer;display: block;width: 100%;margin-bottom: 0;padding: 0.3em;box-sizing: border-box;text-align: center;}#sk-container-id-1 label.sk-toggleable__label-arrow:before {content: \"▸\";float: left;margin-right: 0.25em;color: #696969;}#sk-container-id-1 label.sk-toggleable__label-arrow:hover:before {color: black;}#sk-container-id-1 div.sk-estimator:hover label.sk-toggleable__label-arrow:before {color: black;}#sk-container-id-1 div.sk-toggleable__content {max-height: 0;max-width: 0;overflow: hidden;text-align: left;background-color: #f0f8ff;}#sk-container-id-1 div.sk-toggleable__content pre {margin: 0.2em;color: black;border-radius: 0.25em;background-color: #f0f8ff;}#sk-container-id-1 input.sk-toggleable__control:checked~div.sk-toggleable__content {max-height: 200px;max-width: 100%;overflow: auto;}#sk-container-id-1 input.sk-toggleable__control:checked~label.sk-toggleable__label-arrow:before {content: \"▾\";}#sk-container-id-1 div.sk-estimator input.sk-toggleable__control:checked~label.sk-toggleable__label {background-color: #d4ebff;}#sk-container-id-1 div.sk-label input.sk-toggleable__control:checked~label.sk-toggleable__label {background-color: #d4ebff;}#sk-container-id-1 input.sk-hidden--visually {border: 0;clip: rect(1px 1px 1px 1px);clip: rect(1px, 1px, 1px, 1px);height: 1px;margin: -1px;overflow: hidden;padding: 0;position: absolute;width: 1px;}#sk-container-id-1 div.sk-estimator {font-family: monospace;background-color: #f0f8ff;border: 1px dotted black;border-radius: 0.25em;box-sizing: border-box;margin-bottom: 0.5em;}#sk-container-id-1 div.sk-estimator:hover {background-color: #d4ebff;}#sk-container-id-1 div.sk-parallel-item::after {content: \"\";width: 100%;border-bottom: 1px solid gray;flex-grow: 1;}#sk-container-id-1 div.sk-label:hover label.sk-toggleable__label {background-color: #d4ebff;}#sk-container-id-1 div.sk-serial::before {content: \"\";position: absolute;border-left: 1px solid gray;box-sizing: border-box;top: 0;bottom: 0;left: 50%;z-index: 0;}#sk-container-id-1 div.sk-serial {display: flex;flex-direction: column;align-items: center;background-color: white;padding-right: 0.2em;padding-left: 0.2em;position: relative;}#sk-container-id-1 div.sk-item {position: relative;z-index: 1;}#sk-container-id-1 div.sk-parallel {display: flex;align-items: stretch;justify-content: center;background-color: white;position: relative;}#sk-container-id-1 div.sk-item::before, #sk-container-id-1 div.sk-parallel-item::before {content: \"\";position: absolute;border-left: 1px solid gray;box-sizing: border-box;top: 0;bottom: 0;left: 50%;z-index: -1;}#sk-container-id-1 div.sk-parallel-item {display: flex;flex-direction: column;z-index: 1;position: relative;background-color: white;}#sk-container-id-1 div.sk-parallel-item:first-child::after {align-self: flex-end;width: 50%;}#sk-container-id-1 div.sk-parallel-item:last-child::after {align-self: flex-start;width: 50%;}#sk-container-id-1 div.sk-parallel-item:only-child::after {width: 0;}#sk-container-id-1 div.sk-dashed-wrapped {border: 1px dashed gray;margin: 0 0.4em 0.5em 0.4em;box-sizing: border-box;padding-bottom: 0.4em;background-color: white;}#sk-container-id-1 div.sk-label label {font-family: monospace;font-weight: bold;display: inline-block;line-height: 1.2em;}#sk-container-id-1 div.sk-label-container {text-align: center;}#sk-container-id-1 div.sk-container {/* jupyter's `normalize.less` sets `[hidden] { display: none; }` but bootstrap.min.css set `[hidden] { display: none !important; }` so we also need the `!important` here to be able to override the default hidden behavior on the sphinx rendered scikit-learn.org. See: https://github.com/scikit-learn/scikit-learn/issues/21755 */display: inline-block !important;position: relative;}#sk-container-id-1 div.sk-text-repr-fallback {display: none;}</style><div id=\"sk-container-id-1\" class=\"sk-top-container\"><div class=\"sk-text-repr-fallback\"><pre>LogisticRegression(random_state=1)</pre><b>In a Jupyter environment, please rerun this cell to show the HTML representation or trust the notebook. <br />On GitHub, the HTML representation is unable to render, please try loading this page with nbviewer.org.</b></div><div class=\"sk-container\" hidden><div class=\"sk-item\"><div class=\"sk-estimator sk-toggleable\"><input class=\"sk-toggleable__control sk-hidden--visually\" id=\"sk-estimator-id-1\" type=\"checkbox\" checked><label for=\"sk-estimator-id-1\" class=\"sk-toggleable__label sk-toggleable__label-arrow\">LogisticRegression</label><div class=\"sk-toggleable__content\"><pre>LogisticRegression(random_state=1)</pre></div></div></div></div></div>"
      ],
      "text/plain": [
       "LogisticRegression(random_state=1)"
      ]
     },
     "execution_count": 35,
     "metadata": {},
     "output_type": "execute_result"
    }
   ],
   "source": [
    "# Fit the model using the resampled training data\n",
    "LR_oversampled_model.fit(X_oversampled, y_oversampled)"
   ]
  },
  {
   "cell_type": "code",
   "execution_count": 36,
   "id": "2d43dcc2-694c-4993-b3d0-4d37e3ad8569",
   "metadata": {
    "tags": []
   },
   "outputs": [],
   "source": [
    "# Make a prediction using the testing data\n",
    "LR_oversampled_pred = LR_oversampled_model.predict(X_test)"
   ]
  },
  {
   "cell_type": "code",
   "execution_count": 37,
   "id": "67dea170-5da8-481f-a3cd-0629c5e46221",
   "metadata": {
    "tags": []
   },
   "outputs": [
    {
     "data": {
      "text/plain": [
       "0.9937982565379826"
      ]
     },
     "execution_count": 37,
     "metadata": {},
     "output_type": "execute_result"
    }
   ],
   "source": [
    "# Print the balanced_accuracy score of the model \n",
    "balanced_accuracy_score(y_test, LR_oversampled_pred)"
   ]
  },
  {
   "cell_type": "code",
   "execution_count": 38,
   "id": "b680bea3-8ce3-4780-9b27-b4adc1138df3",
   "metadata": {
    "tags": []
   },
   "outputs": [
    {
     "data": {
      "text/html": [
       "<div>\n",
       "<style scoped>\n",
       "    .dataframe tbody tr th:only-of-type {\n",
       "        vertical-align: middle;\n",
       "    }\n",
       "\n",
       "    .dataframe tbody tr th {\n",
       "        vertical-align: top;\n",
       "    }\n",
       "\n",
       "    .dataframe thead th {\n",
       "        text-align: right;\n",
       "    }\n",
       "</style>\n",
       "<table border=\"1\" class=\"dataframe\">\n",
       "  <thead>\n",
       "    <tr style=\"text-align: right;\">\n",
       "      <th></th>\n",
       "      <th>Predicted Healthy Loans (low-risk)</th>\n",
       "      <th>Predicted Non-Healthy Loans (high-risk)</th>\n",
       "    </tr>\n",
       "  </thead>\n",
       "  <tbody>\n",
       "    <tr>\n",
       "      <th>Actual Healthy Loans (low-risk)</th>\n",
       "      <td>19826</td>\n",
       "      <td>249</td>\n",
       "    </tr>\n",
       "    <tr>\n",
       "      <th>Actual Non-Healthy Loans (high-risk)</th>\n",
       "      <td>0</td>\n",
       "      <td>96</td>\n",
       "    </tr>\n",
       "  </tbody>\n",
       "</table>\n",
       "</div>"
      ],
      "text/plain": [
       "                                      Predicted Healthy Loans (low-risk)  \\\n",
       "Actual Healthy Loans (low-risk)                                    19826   \n",
       "Actual Non-Healthy Loans (high-risk)                                   0   \n",
       "\n",
       "                                      Predicted Non-Healthy Loans (high-risk)  \n",
       "Actual Healthy Loans (low-risk)                                           249  \n",
       "Actual Non-Healthy Loans (high-risk)                                       96  "
      ]
     },
     "execution_count": 38,
     "metadata": {},
     "output_type": "execute_result"
    }
   ],
   "source": [
    "# Generate a confusion matrix for the model\n",
    "cm_oversampled = confusion_matrix(y_test, LR_oversampled_pred)\n",
    "cm_oversampled_df = pd.DataFrame(cm_oversampled, \n",
    "                                index = ['Actual Healthy Loans (low-risk)', \n",
    "                                'Actual Non-Healthy Loans (high-risk)'], \n",
    "                                columns = ['Predicted Healthy Loans (low-risk)', 'Predicted Non-Healthy Loans (high-risk)']\n",
    "                              )\n",
    "cm_oversampled_df"
   ]
  },
  {
   "cell_type": "code",
   "execution_count": null,
   "id": "bddcf44f-6ff0-4483-a0bf-8da82098f8df",
   "metadata": {},
   "outputs": [],
   "source": [
    "'''\n",
    "-- There were 19,286 loan status's that are healthy, and 96 high risk non healthy loans which were predicted correctly. \n",
    "\n",
    "-- 249 loan status's that are non-healthy (low-risk), the model \n",
    "   predicted predicted wrongly. '''"
   ]
  },
  {
   "cell_type": "code",
   "execution_count": 39,
   "id": "7f0c5193-6a17-45e7-a33d-74be56cb8d38",
   "metadata": {
    "tags": []
   },
   "outputs": [
    {
     "name": "stdout",
     "output_type": "stream",
     "text": [
      "              precision    recall  f1-score   support\n",
      "\n",
      "           0       1.00      0.99      0.99     20075\n",
      "           1       0.28      1.00      0.44        96\n",
      "\n",
      "    accuracy                           0.99     20171\n",
      "   macro avg       0.64      0.99      0.71     20171\n",
      "weighted avg       1.00      0.99      0.99     20171\n",
      "\n"
     ]
    }
   ],
   "source": [
    "# Print the classification report for the model\n",
    "print(classification_report(y_test, LR_oversampled_pred))"
   ]
  },
  {
   "cell_type": "code",
   "execution_count": 40,
   "id": "455dfcd9-89c8-4699-be9a-1109f8318155",
   "metadata": {
    "tags": []
   },
   "outputs": [
    {
     "name": "stderr",
     "output_type": "stream",
     "text": [
      "C:\\Users\\wambu\\anaconda3\\envs\\PythonData\\Lib\\site-packages\\imblearn\\ensemble\\_forest.py:546: FutureWarning: The default of `sampling_strategy` will change from `'auto'` to `'all'` in version 0.13. This change will follow the implementation proposed in the original paper. Set to `'all'` to silence this warning and adopt the future behaviour.\n",
      "  warn(\n",
      "C:\\Users\\wambu\\anaconda3\\envs\\PythonData\\Lib\\site-packages\\imblearn\\ensemble\\_forest.py:558: FutureWarning: The default of `replacement` will change from `False` to `True` in version 0.13. This change will follow the implementation proposed in the original paper. Set to `True` to silence this warning and adopt the future behaviour.\n",
      "  warn(\n"
     ]
    }
   ],
   "source": [
    "# Resample the training data with the BalancedRandomForestClassifier\n",
    "from imblearn.ensemble import BalancedRandomForestClassifier\n",
    "\n",
    "rf_model = BalancedRandomForestClassifier(n_estimators=100, random_state=1)\n",
    "\n",
    "# Fitting the model\n",
    "rf_model = rf_model.fit(X_train, y_train)"
   ]
  },
  {
   "cell_type": "code",
   "execution_count": 41,
   "id": "fb47cf78-6b49-40d4-ab53-ec39062fb8d5",
   "metadata": {
    "tags": []
   },
   "outputs": [
    {
     "name": "stdout",
     "output_type": "stream",
     "text": [
      "0.9876059689653462\n"
     ]
    }
   ],
   "source": [
    "# Calculated the balanced accuracy score\n",
    "from sklearn.metrics import accuracy_score\n",
    "y_pred = rf_model.predict(X_test)\n",
    "acc_score = accuracy_score(y_test, y_pred)\n",
    "print(acc_score)"
   ]
  },
  {
   "cell_type": "code",
   "execution_count": 42,
   "id": "61937660-44c1-403f-b62c-96716e4607f4",
   "metadata": {
    "tags": []
   },
   "outputs": [
    {
     "data": {
      "text/html": [
       "<div>\n",
       "<style scoped>\n",
       "    .dataframe tbody tr th:only-of-type {\n",
       "        vertical-align: middle;\n",
       "    }\n",
       "\n",
       "    .dataframe tbody tr th {\n",
       "        vertical-align: top;\n",
       "    }\n",
       "\n",
       "    .dataframe thead th {\n",
       "        text-align: right;\n",
       "    }\n",
       "</style>\n",
       "<table border=\"1\" class=\"dataframe\">\n",
       "  <thead>\n",
       "    <tr style=\"text-align: right;\">\n",
       "      <th></th>\n",
       "      <th>Predicted High_Risk</th>\n",
       "      <th>Prediceted Low_Risk</th>\n",
       "    </tr>\n",
       "  </thead>\n",
       "  <tbody>\n",
       "    <tr>\n",
       "      <th>Actual High-Risk</th>\n",
       "      <td>19825</td>\n",
       "      <td>250</td>\n",
       "    </tr>\n",
       "    <tr>\n",
       "      <th>Actual Low-Risk</th>\n",
       "      <td>0</td>\n",
       "      <td>96</td>\n",
       "    </tr>\n",
       "  </tbody>\n",
       "</table>\n",
       "</div>"
      ],
      "text/plain": [
       "                  Predicted High_Risk  Prediceted Low_Risk\n",
       "Actual High-Risk                19825                  250\n",
       "Actual Low-Risk                     0                   96"
      ]
     },
     "execution_count": 42,
     "metadata": {},
     "output_type": "execute_result"
    }
   ],
   "source": [
    "# Display the confusion matrix\n",
    "from sklearn.metrics import confusion_matrix, classification_report\n",
    "\n",
    "matrix = confusion_matrix(y_test, y_pred)\n",
    "cm_df = pd.DataFrame(\n",
    "    matrix, index=[\"Actual High-Risk\", \"Actual Low-Risk\"], columns=[\"Predicted High_Risk\", \"Prediceted Low_Risk\"])\n",
    "cm_df"
   ]
  },
  {
   "cell_type": "code",
   "execution_count": 43,
   "id": "b6ec7719-a648-4e28-909b-99282ab62d61",
   "metadata": {
    "tags": []
   },
   "outputs": [
    {
     "name": "stdout",
     "output_type": "stream",
     "text": [
      "                   pre       rec       spe        f1       geo       iba       sup\n",
      "\n",
      "          0       1.00      0.99      1.00      0.99      0.99      0.99     20075\n",
      "          1       0.28      1.00      0.99      0.43      0.99      0.99        96\n",
      "\n",
      "avg / total       1.00      0.99      1.00      0.99      0.99      0.99     20171\n",
      "\n"
     ]
    }
   ],
   "source": [
    "# Print the imbalanced classification report\n",
    "from imblearn.metrics import classification_report_imbalanced\n",
    "print(classification_report_imbalanced(y_test, y_pred))"
   ]
  },
  {
   "cell_type": "code",
   "execution_count": 44,
   "id": "878c17cd-b638-44d8-8eb0-196c443b3ba0",
   "metadata": {
    "tags": []
   },
   "outputs": [
    {
     "data": {
      "text/plain": [
       "[(0.6843864465355326, 'Number of credit problems'),\n",
       " (0.09780563646684479, 'Current credit balance'),\n",
       " (0.055093146001218125, 'Maximum open credit'),\n",
       " (0.03322548124601038, 'Years of credit history'),\n",
       " (0.02694324593050533, 'Monthly debt'),\n",
       " (0.026634700496333614, 'Credit score'),\n",
       " (0.02409310535734401, 'Current loan amount'),\n",
       " (0.02111395118225479, 'Annual income'),\n",
       " (0.016586406977235544, 'Number of open accounts'),\n",
       " (0.004496899318547471, 'Home mortgage'),\n",
       " (0.002571967488757595, 'Short term'),\n",
       " (0.0024227738661023795, 'Rent'),\n",
       " (0.0023578990736024402, 'Own home'),\n",
       " (0.0022683400597110722, 'Long term')]"
      ]
     },
     "execution_count": 44,
     "metadata": {},
     "output_type": "execute_result"
    }
   ],
   "source": [
    "# List the features sorted in descending order by feature importance\n",
    "sorted(zip(rf_model.feature_importances_, X.columns), reverse=True)"
   ]
  },
  {
   "cell_type": "code",
   "execution_count": null,
   "id": "41d09624-2a24-4d89-8e33-c2b38a81bf42",
   "metadata": {},
   "outputs": [],
   "source": [
    "#Easy Ensemble AdaBoost Classifier"
   ]
  },
  {
   "cell_type": "code",
   "execution_count": 45,
   "id": "07726bda-8c10-4b90-a9ad-9162cb7eeb91",
   "metadata": {
    "tags": []
   },
   "outputs": [
    {
     "data": {
      "text/html": [
       "<style>#sk-container-id-2 {color: black;}#sk-container-id-2 pre{padding: 0;}#sk-container-id-2 div.sk-toggleable {background-color: white;}#sk-container-id-2 label.sk-toggleable__label {cursor: pointer;display: block;width: 100%;margin-bottom: 0;padding: 0.3em;box-sizing: border-box;text-align: center;}#sk-container-id-2 label.sk-toggleable__label-arrow:before {content: \"▸\";float: left;margin-right: 0.25em;color: #696969;}#sk-container-id-2 label.sk-toggleable__label-arrow:hover:before {color: black;}#sk-container-id-2 div.sk-estimator:hover label.sk-toggleable__label-arrow:before {color: black;}#sk-container-id-2 div.sk-toggleable__content {max-height: 0;max-width: 0;overflow: hidden;text-align: left;background-color: #f0f8ff;}#sk-container-id-2 div.sk-toggleable__content pre {margin: 0.2em;color: black;border-radius: 0.25em;background-color: #f0f8ff;}#sk-container-id-2 input.sk-toggleable__control:checked~div.sk-toggleable__content {max-height: 200px;max-width: 100%;overflow: auto;}#sk-container-id-2 input.sk-toggleable__control:checked~label.sk-toggleable__label-arrow:before {content: \"▾\";}#sk-container-id-2 div.sk-estimator input.sk-toggleable__control:checked~label.sk-toggleable__label {background-color: #d4ebff;}#sk-container-id-2 div.sk-label input.sk-toggleable__control:checked~label.sk-toggleable__label {background-color: #d4ebff;}#sk-container-id-2 input.sk-hidden--visually {border: 0;clip: rect(1px 1px 1px 1px);clip: rect(1px, 1px, 1px, 1px);height: 1px;margin: -1px;overflow: hidden;padding: 0;position: absolute;width: 1px;}#sk-container-id-2 div.sk-estimator {font-family: monospace;background-color: #f0f8ff;border: 1px dotted black;border-radius: 0.25em;box-sizing: border-box;margin-bottom: 0.5em;}#sk-container-id-2 div.sk-estimator:hover {background-color: #d4ebff;}#sk-container-id-2 div.sk-parallel-item::after {content: \"\";width: 100%;border-bottom: 1px solid gray;flex-grow: 1;}#sk-container-id-2 div.sk-label:hover label.sk-toggleable__label {background-color: #d4ebff;}#sk-container-id-2 div.sk-serial::before {content: \"\";position: absolute;border-left: 1px solid gray;box-sizing: border-box;top: 0;bottom: 0;left: 50%;z-index: 0;}#sk-container-id-2 div.sk-serial {display: flex;flex-direction: column;align-items: center;background-color: white;padding-right: 0.2em;padding-left: 0.2em;position: relative;}#sk-container-id-2 div.sk-item {position: relative;z-index: 1;}#sk-container-id-2 div.sk-parallel {display: flex;align-items: stretch;justify-content: center;background-color: white;position: relative;}#sk-container-id-2 div.sk-item::before, #sk-container-id-2 div.sk-parallel-item::before {content: \"\";position: absolute;border-left: 1px solid gray;box-sizing: border-box;top: 0;bottom: 0;left: 50%;z-index: -1;}#sk-container-id-2 div.sk-parallel-item {display: flex;flex-direction: column;z-index: 1;position: relative;background-color: white;}#sk-container-id-2 div.sk-parallel-item:first-child::after {align-self: flex-end;width: 50%;}#sk-container-id-2 div.sk-parallel-item:last-child::after {align-self: flex-start;width: 50%;}#sk-container-id-2 div.sk-parallel-item:only-child::after {width: 0;}#sk-container-id-2 div.sk-dashed-wrapped {border: 1px dashed gray;margin: 0 0.4em 0.5em 0.4em;box-sizing: border-box;padding-bottom: 0.4em;background-color: white;}#sk-container-id-2 div.sk-label label {font-family: monospace;font-weight: bold;display: inline-block;line-height: 1.2em;}#sk-container-id-2 div.sk-label-container {text-align: center;}#sk-container-id-2 div.sk-container {/* jupyter's `normalize.less` sets `[hidden] { display: none; }` but bootstrap.min.css set `[hidden] { display: none !important; }` so we also need the `!important` here to be able to override the default hidden behavior on the sphinx rendered scikit-learn.org. See: https://github.com/scikit-learn/scikit-learn/issues/21755 */display: inline-block !important;position: relative;}#sk-container-id-2 div.sk-text-repr-fallback {display: none;}</style><div id=\"sk-container-id-2\" class=\"sk-top-container\"><div class=\"sk-text-repr-fallback\"><pre>EasyEnsembleClassifier(n_estimators=100, random_state=1)</pre><b>In a Jupyter environment, please rerun this cell to show the HTML representation or trust the notebook. <br />On GitHub, the HTML representation is unable to render, please try loading this page with nbviewer.org.</b></div><div class=\"sk-container\" hidden><div class=\"sk-item\"><div class=\"sk-estimator sk-toggleable\"><input class=\"sk-toggleable__control sk-hidden--visually\" id=\"sk-estimator-id-2\" type=\"checkbox\" checked><label for=\"sk-estimator-id-2\" class=\"sk-toggleable__label sk-toggleable__label-arrow\">EasyEnsembleClassifier</label><div class=\"sk-toggleable__content\"><pre>EasyEnsembleClassifier(n_estimators=100, random_state=1)</pre></div></div></div></div></div>"
      ],
      "text/plain": [
       "EasyEnsembleClassifier(n_estimators=100, random_state=1)"
      ]
     },
     "execution_count": 45,
     "metadata": {},
     "output_type": "execute_result"
    }
   ],
   "source": [
    "# Train the EasyEnsembleClassifier\n",
    "from imblearn.ensemble import EasyEnsembleClassifier\n",
    "\n",
    "eec = EasyEnsembleClassifier(n_estimators=100, random_state=1)\n",
    "eec.fit(X_train, y_train)"
   ]
  },
  {
   "cell_type": "code",
   "execution_count": 46,
   "id": "308c8a67-5d7a-44f1-b38d-6b9323effbf9",
   "metadata": {
    "tags": []
   },
   "outputs": [
    {
     "name": "stdout",
     "output_type": "stream",
     "text": [
      "0.9876059689653462\n"
     ]
    }
   ],
   "source": [
    "# Calculated the balanced accuracy score\n",
    "from sklearn.metrics import accuracy_score\n",
    "y_pred = eec.predict(X_test)\n",
    "acc_score2 = accuracy_score(y_test, y_pred)\n",
    "print(acc_score2)"
   ]
  },
  {
   "cell_type": "code",
   "execution_count": 47,
   "id": "d9153b41-af3d-4eaa-afcb-bd7ff90a9d7a",
   "metadata": {
    "tags": []
   },
   "outputs": [
    {
     "data": {
      "text/html": [
       "<div>\n",
       "<style scoped>\n",
       "    .dataframe tbody tr th:only-of-type {\n",
       "        vertical-align: middle;\n",
       "    }\n",
       "\n",
       "    .dataframe tbody tr th {\n",
       "        vertical-align: top;\n",
       "    }\n",
       "\n",
       "    .dataframe thead th {\n",
       "        text-align: right;\n",
       "    }\n",
       "</style>\n",
       "<table border=\"1\" class=\"dataframe\">\n",
       "  <thead>\n",
       "    <tr style=\"text-align: right;\">\n",
       "      <th></th>\n",
       "      <th>Predicted High_Risk</th>\n",
       "      <th>Prediceted Low_Risk</th>\n",
       "    </tr>\n",
       "  </thead>\n",
       "  <tbody>\n",
       "    <tr>\n",
       "      <th>Actual High-Risk</th>\n",
       "      <td>19825</td>\n",
       "      <td>250</td>\n",
       "    </tr>\n",
       "    <tr>\n",
       "      <th>Actual Low-Risk</th>\n",
       "      <td>0</td>\n",
       "      <td>96</td>\n",
       "    </tr>\n",
       "  </tbody>\n",
       "</table>\n",
       "</div>"
      ],
      "text/plain": [
       "                  Predicted High_Risk  Prediceted Low_Risk\n",
       "Actual High-Risk                19825                  250\n",
       "Actual Low-Risk                     0                   96"
      ]
     },
     "execution_count": 47,
     "metadata": {},
     "output_type": "execute_result"
    }
   ],
   "source": [
    "# Display the confusion matrix\n",
    "from sklearn.metrics import confusion_matrix, classification_report\n",
    "\n",
    "cm_df = pd.DataFrame(\n",
    "    matrix, index=[\"Actual High-Risk\", \"Actual Low-Risk\"], columns=[\"Predicted High_Risk\", \"Prediceted Low_Risk\"])\n",
    "cm_df"
   ]
  },
  {
   "cell_type": "code",
   "execution_count": 48,
   "id": "d8278223-c5d7-4646-a646-ffc5587cdcd1",
   "metadata": {
    "tags": []
   },
   "outputs": [
    {
     "name": "stdout",
     "output_type": "stream",
     "text": [
      "                   pre       rec       spe        f1       geo       iba       sup\n",
      "\n",
      "          0       1.00      0.99      1.00      0.99      0.99      0.99     20075\n",
      "          1       0.28      1.00      0.99      0.43      0.99      0.99        96\n",
      "\n",
      "avg / total       1.00      0.99      1.00      0.99      0.99      0.99     20171\n",
      "\n"
     ]
    }
   ],
   "source": [
    "# Print the imbalanced classification report\n",
    "from imblearn.metrics import classification_report_imbalanced\n",
    "\n",
    "print(classification_report_imbalanced(y_test, y_pred))"
   ]
  },
  {
   "cell_type": "code",
   "execution_count": 54,
   "id": "ddbd09c3-98b5-44bd-ad3d-adfca433505f",
   "metadata": {
    "tags": []
   },
   "outputs": [],
   "source": [
    "import seaborn as sns\n",
    "\n",
    "sns.set_style('darkgrid')"
   ]
  },
  {
   "cell_type": "code",
   "execution_count": 55,
   "id": "35344be2-9b9f-4bdf-8424-d3f03eb49dd5",
   "metadata": {
    "tags": []
   },
   "outputs": [],
   "source": [
    "# Correlation between features"
   ]
  },
  {
   "cell_type": "code",
   "execution_count": 56,
   "id": "5146e339-763e-4eda-8a79-75ed529d88a8",
   "metadata": {
    "tags": []
   },
   "outputs": [
    {
     "data": {
      "image/png": "[encoded data removed]",
      "text/plain": [
       "<Figure size 1500x900 with 2 Axes>"
      ]
     },
     "metadata": {},
     "output_type": "display_data"
    }
   ],
   "source": [
    "plt.figure(figsize=(15,9))\n",
    "sns.heatmap(loan_data.corr(), annot = True, cmap='YlGnBu')\n",
    "plt.show()"
   ]
  },
  {
   "cell_type": "code",
   "execution_count": null,
   "id": "448b0c46-7280-411d-809c-77259e6c3b03",
   "metadata": {},
   "outputs": [],
   "source": []
  }
 ],
 "metadata": {
  "kernelspec": {
   "display_name": "Python 3 (ipykernel)",
   "language": "python",
   "name": "python3"
  },
  "language_info": {
   "codemirror_mode": {
    "name": "ipython",
    "version": 3
   },
   "file_extension": ".py",
   "mimetype": "text/x-python",
   "name": "python",
   "nbconvert_exporter": "python",
   "pygments_lexer": "ipython3",
   "version": "3.11.4"
  }
 },
 "nbformat": 4,
 "nbformat_minor": 5
}
