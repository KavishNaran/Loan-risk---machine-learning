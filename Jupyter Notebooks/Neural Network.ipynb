{
 "cells": [
  {
   "cell_type": "code",
   "execution_count": 1,
   "id": "0089602f-88f4-4333-9a4a-dd8975b0a944",
   "metadata": {
    "tags": []
   },
   "outputs": [
    {
     "name": "stdout",
     "output_type": "stream",
     "text": [
      "WARNING:tensorflow:From C:\\Users\\wala2\\anaconda3\\Lib\\site-packages\\keras\\src\\losses.py:2976: The name tf.losses.sparse_softmax_cross_entropy is deprecated. Please use tf.compat.v1.losses.sparse_softmax_cross_entropy instead.\n",
      "\n"
     ]
    }
   ],
   "source": [
    "#Import dependenices\n",
    "import csv\n",
    "import pandas as pd\n",
    "import matplotlib.pyplot as plt\n",
    "from pathlib import Path\n",
    "import tensorflow as tf\n",
    "import keras_tuner as kt\n",
    "from sklearn.metrics import confusion_matrix, accuracy_score,classification_report\n",
    "from sklearn.model_selection import train_test_split"
   ]
  },
  {
   "cell_type": "markdown",
   "id": "63e1ce44-3644-405d-8e0c-2d04c2c09557",
   "metadata": {},
   "source": [
    "# Split the Data into Training and Testing Sets"
   ]
  },
  {
   "cell_type": "code",
   "execution_count": 2,
   "id": "5df99949-815f-4dc9-b50c-dbeb2ff373c6",
   "metadata": {
    "tags": []
   },
   "outputs": [
    {
     "data": {
      "text/html": [
       "<div>\n",
       "<style scoped>\n",
       "    .dataframe tbody tr th:only-of-type {\n",
       "        vertical-align: middle;\n",
       "    }\n",
       "\n",
       "    .dataframe tbody tr th {\n",
       "        vertical-align: top;\n",
       "    }\n",
       "\n",
       "    .dataframe thead th {\n",
       "        text-align: right;\n",
       "    }\n",
       "</style>\n",
       "<table border=\"1\" class=\"dataframe\">\n",
       "  <thead>\n",
       "    <tr style=\"text-align: right;\">\n",
       "      <th></th>\n",
       "      <th>Current loan amount</th>\n",
       "      <th>Credit score</th>\n",
       "      <th>Annual income</th>\n",
       "      <th>Monthly debt</th>\n",
       "      <th>Years of credit history</th>\n",
       "      <th>Number of open accounts</th>\n",
       "      <th>Number of credit problems</th>\n",
       "      <th>Current credit balance</th>\n",
       "      <th>Maximum open credit</th>\n",
       "      <th>Long term</th>\n",
       "      <th>Short term</th>\n",
       "      <th>Home mortgage</th>\n",
       "      <th>Own home</th>\n",
       "      <th>Rent</th>\n",
       "      <th>Bankrupt</th>\n",
       "    </tr>\n",
       "  </thead>\n",
       "  <tbody>\n",
       "    <tr>\n",
       "      <th>0</th>\n",
       "      <td>-0.396710</td>\n",
       "      <td>-0.224366</td>\n",
       "      <td>0.810185</td>\n",
       "      <td>1.930978</td>\n",
       "      <td>0.519773</td>\n",
       "      <td>-0.416087</td>\n",
       "      <td>-0.332426</td>\n",
       "      <td>0.868213</td>\n",
       "      <td>0.402694</td>\n",
       "      <td>0</td>\n",
       "      <td>1</td>\n",
       "      <td>1</td>\n",
       "      <td>0</td>\n",
       "      <td>0</td>\n",
       "      <td>0</td>\n",
       "    </tr>\n",
       "    <tr>\n",
       "      <th>1</th>\n",
       "      <td>-0.406640</td>\n",
       "      <td>-0.233156</td>\n",
       "      <td>0.631936</td>\n",
       "      <td>1.489873</td>\n",
       "      <td>0.174878</td>\n",
       "      <td>-0.016795</td>\n",
       "      <td>-0.332426</td>\n",
       "      <td>1.019424</td>\n",
       "      <td>0.247734</td>\n",
       "      <td>0</td>\n",
       "      <td>1</td>\n",
       "      <td>1</td>\n",
       "      <td>0</td>\n",
       "      <td>0</td>\n",
       "      <td>0</td>\n",
       "    </tr>\n",
       "    <tr>\n",
       "      <th>2</th>\n",
       "      <td>-0.409901</td>\n",
       "      <td>-0.250059</td>\n",
       "      <td>-0.573923</td>\n",
       "      <td>-0.826455</td>\n",
       "      <td>-0.816695</td>\n",
       "      <td>-0.216441</td>\n",
       "      <td>-0.332426</td>\n",
       "      <td>-0.661535</td>\n",
       "      <td>-0.270115</td>\n",
       "      <td>0</td>\n",
       "      <td>1</td>\n",
       "      <td>0</td>\n",
       "      <td>0</td>\n",
       "      <td>1</td>\n",
       "      <td>0</td>\n",
       "    </tr>\n",
       "    <tr>\n",
       "      <th>3</th>\n",
       "      <td>-0.409245</td>\n",
       "      <td>-0.237888</td>\n",
       "      <td>-0.678656</td>\n",
       "      <td>-0.138913</td>\n",
       "      <td>-0.241870</td>\n",
       "      <td>0.981434</td>\n",
       "      <td>1.676190</td>\n",
       "      <td>-0.351042</td>\n",
       "      <td>-0.126429</td>\n",
       "      <td>0</td>\n",
       "      <td>1</td>\n",
       "      <td>0</td>\n",
       "      <td>0</td>\n",
       "      <td>1</td>\n",
       "      <td>1</td>\n",
       "    </tr>\n",
       "    <tr>\n",
       "      <th>4</th>\n",
       "      <td>-0.405046</td>\n",
       "      <td>-0.226394</td>\n",
       "      <td>0.450102</td>\n",
       "      <td>1.724058</td>\n",
       "      <td>1.123338</td>\n",
       "      <td>0.582142</td>\n",
       "      <td>-0.332426</td>\n",
       "      <td>0.180813</td>\n",
       "      <td>-0.189855</td>\n",
       "      <td>0</td>\n",
       "      <td>1</td>\n",
       "      <td>1</td>\n",
       "      <td>0</td>\n",
       "      <td>0</td>\n",
       "      <td>0</td>\n",
       "    </tr>\n",
       "  </tbody>\n",
       "</table>\n",
       "</div>"
      ],
      "text/plain": [
       "   Current loan amount  Credit score  Annual income  Monthly debt  \\\n",
       "0            -0.396710     -0.224366       0.810185      1.930978   \n",
       "1            -0.406640     -0.233156       0.631936      1.489873   \n",
       "2            -0.409901     -0.250059      -0.573923     -0.826455   \n",
       "3            -0.409245     -0.237888      -0.678656     -0.138913   \n",
       "4            -0.405046     -0.226394       0.450102      1.724058   \n",
       "\n",
       "   Years of credit history  Number of open accounts  \\\n",
       "0                 0.519773                -0.416087   \n",
       "1                 0.174878                -0.016795   \n",
       "2                -0.816695                -0.216441   \n",
       "3                -0.241870                 0.981434   \n",
       "4                 1.123338                 0.582142   \n",
       "\n",
       "   Number of credit problems  Current credit balance  Maximum open credit  \\\n",
       "0                  -0.332426                0.868213             0.402694   \n",
       "1                  -0.332426                1.019424             0.247734   \n",
       "2                  -0.332426               -0.661535            -0.270115   \n",
       "3                   1.676190               -0.351042            -0.126429   \n",
       "4                  -0.332426                0.180813            -0.189855   \n",
       "\n",
       "   Long term  Short term  Home mortgage  Own home  Rent  Bankrupt  \n",
       "0          0           1              1         0     0         0  \n",
       "1          0           1              1         0     0         0  \n",
       "2          0           1              0         0     1         0  \n",
       "3          0           1              0         0     1         1  \n",
       "4          0           1              1         0     0         0  "
      ]
     },
     "execution_count": 2,
     "metadata": {},
     "output_type": "execute_result"
    }
   ],
   "source": [
    "# Specify the path to your CSV file\n",
    "loan_path = '../Resources/Clean_test_scaled.csv'\n",
    "\n",
    "# Read the CSV file into a DataFrame\n",
    "loan_df = pd.read_csv(loan_path)\n",
    "\n",
    "# Display the DataFrame\n",
    "loan_df.head(5)\n"
   ]
  },
  {
   "cell_type": "code",
   "execution_count": 3,
   "id": "3dea38a5-2468-4c59-a8fb-78eb7d21f401",
   "metadata": {
    "tags": []
   },
   "outputs": [
    {
     "data": {
      "text/plain": [
       "(8000, 15)"
      ]
     },
     "execution_count": 3,
     "metadata": {},
     "output_type": "execute_result"
    }
   ],
   "source": [
    "loan_df.shape"
   ]
  },
  {
   "cell_type": "code",
   "execution_count": 4,
   "id": "4237aa4f-5d39-43bd-90af-9330225aa86e",
   "metadata": {
    "tags": []
   },
   "outputs": [],
   "source": [
    "# Remove target from features data\n",
    "y = loan_df.Bankrupt.values\n",
    "X = loan_df.drop(columns='Bankrupt').values\n"
   ]
  },
  {
   "cell_type": "code",
   "execution_count": 5,
   "id": "59ea2649-b3ca-4bf2-bb45-5dfb83166b2c",
   "metadata": {},
   "outputs": [],
   "source": [
    "# Split training/test datasets\n",
    "X_train, X_test, y_train, y_test = train_test_split(X, y, random_state=78, stratify=y)\n"
   ]
  },
  {
   "cell_type": "markdown",
   "id": "b0c703bb-aedf-40f7-a39d-67ee3667aa8b",
   "metadata": {},
   "source": [
    "# Create a Neural Network Model"
   ]
  },
  {
   "cell_type": "code",
   "execution_count": 6,
   "id": "c67e6bed-5ca4-4efa-86a0-5bb024ba7e60",
   "metadata": {
    "tags": []
   },
   "outputs": [
    {
     "name": "stdout",
     "output_type": "stream",
     "text": [
      "WARNING:tensorflow:From C:\\Users\\wala2\\anaconda3\\Lib\\site-packages\\keras\\src\\backend.py:873: The name tf.get_default_graph is deprecated. Please use tf.compat.v1.get_default_graph instead.\n",
      "\n",
      "Model: \"sequential\"\n",
      "_________________________________________________________________\n",
      " Layer (type)                Output Shape              Param #   \n",
      "=================================================================\n",
      " dense (Dense)               (None, 1)                 15        \n",
      "                                                                 \n",
      " dense_1 (Dense)             (None, 1)                 2         \n",
      "                                                                 \n",
      "=================================================================\n",
      "Total params: 17 (68.00 Byte)\n",
      "Trainable params: 17 (68.00 Byte)\n",
      "Non-trainable params: 0 (0.00 Byte)\n",
      "_________________________________________________________________\n"
     ]
    }
   ],
   "source": [
    "# Create the Keras Sequential model\n",
    "nn_model = tf.keras.models.Sequential()\n",
    "\n",
    "# Add our first Dense layer, including the input layer\n",
    "nn_model.add(tf.keras.layers.Dense(units=1, activation=\"relu\", input_dim=14))\n",
    "\n",
    "# Add the output layer that uses a probability activation function\n",
    "nn_model.add(tf.keras.layers.Dense(units=1, activation=\"sigmoid\"))\n",
    "\n",
    "# Check the structure of the Sequential model\n",
    "nn_model.summary()"
   ]
  },
  {
   "cell_type": "code",
   "execution_count": 7,
   "id": "571d04ee-24e3-45c0-b156-ef8efc2003d6",
   "metadata": {
    "tags": []
   },
   "outputs": [
    {
     "name": "stdout",
     "output_type": "stream",
     "text": [
      "WARNING:tensorflow:From C:\\Users\\wala2\\anaconda3\\Lib\\site-packages\\keras\\src\\optimizers\\__init__.py:309: The name tf.train.Optimizer is deprecated. Please use tf.compat.v1.train.Optimizer instead.\n",
      "\n"
     ]
    }
   ],
   "source": [
    "# Compile the Sequential model together and customise metrics\n",
    "nn_model.compile(loss=\"binary_crossentropy\", optimizer=\"adam\", metrics=[\"accuracy\"])"
   ]
  },
  {
   "cell_type": "code",
   "execution_count": 8,
   "id": "3088fd40-17f0-4ecc-ab1d-b7521afaa966",
   "metadata": {
    "tags": []
   },
   "outputs": [
    {
     "name": "stdout",
     "output_type": "stream",
     "text": [
      "Epoch 1/50\n",
      "WARNING:tensorflow:From C:\\Users\\wala2\\anaconda3\\Lib\\site-packages\\keras\\src\\utils\\tf_utils.py:492: The name tf.ragged.RaggedTensorValue is deprecated. Please use tf.compat.v1.ragged.RaggedTensorValue instead.\n",
      "\n",
      "WARNING:tensorflow:From C:\\Users\\wala2\\anaconda3\\Lib\\site-packages\\keras\\src\\engine\\base_layer_utils.py:384: The name tf.executing_eagerly_outside_functions is deprecated. Please use tf.compat.v1.executing_eagerly_outside_functions instead.\n",
      "\n",
      "188/188 [==============================] - 8s 8ms/step - loss: 0.6609 - accuracy: 0.8905\n",
      "Epoch 2/50\n",
      "188/188 [==============================] - 2s 8ms/step - loss: 0.5991 - accuracy: 0.8917\n",
      "Epoch 3/50\n",
      "188/188 [==============================] - 2s 8ms/step - loss: 0.5484 - accuracy: 0.8917\n",
      "Epoch 4/50\n",
      "188/188 [==============================] - 2s 9ms/step - loss: 0.5069 - accuracy: 0.8917\n",
      "Epoch 5/50\n",
      "188/188 [==============================] - 2s 9ms/step - loss: 0.4733 - accuracy: 0.8917\n",
      "Epoch 6/50\n",
      "188/188 [==============================] - 2s 9ms/step - loss: 0.4460 - accuracy: 0.8917\n",
      "Epoch 7/50\n",
      "188/188 [==============================] - 1s 8ms/step - loss: 0.4240 - accuracy: 0.8917\n",
      "Epoch 8/50\n",
      "188/188 [==============================] - 2s 9ms/step - loss: 0.4062 - accuracy: 0.8917\n",
      "Epoch 9/50\n",
      "188/188 [==============================] - 1s 8ms/step - loss: 0.3921 - accuracy: 0.8917\n",
      "Epoch 10/50\n",
      "188/188 [==============================] - 2s 9ms/step - loss: 0.3808 - accuracy: 0.8917\n",
      "Epoch 11/50\n",
      "188/188 [==============================] - 2s 8ms/step - loss: 0.3719 - accuracy: 0.8917\n",
      "Epoch 12/50\n",
      "188/188 [==============================] - 2s 8ms/step - loss: 0.3648 - accuracy: 0.8917\n",
      "Epoch 13/50\n",
      "188/188 [==============================] - 2s 8ms/step - loss: 0.3593 - accuracy: 0.8917\n",
      "Epoch 14/50\n",
      "188/188 [==============================] - 2s 8ms/step - loss: 0.3551 - accuracy: 0.8917\n",
      "Epoch 15/50\n",
      "188/188 [==============================] - 2s 8ms/step - loss: 0.3519 - accuracy: 0.8917\n",
      "Epoch 16/50\n",
      "188/188 [==============================] - 2s 8ms/step - loss: 0.3494 - accuracy: 0.8917\n",
      "Epoch 17/50\n",
      "188/188 [==============================] - 2s 8ms/step - loss: 0.3475 - accuracy: 0.8917\n",
      "Epoch 18/50\n",
      "188/188 [==============================] - 2s 8ms/step - loss: 0.3462 - accuracy: 0.8917\n",
      "Epoch 19/50\n",
      "188/188 [==============================] - 1s 8ms/step - loss: 0.3452 - accuracy: 0.8917\n",
      "Epoch 20/50\n",
      "188/188 [==============================] - 1s 8ms/step - loss: 0.3445 - accuracy: 0.8917\n",
      "Epoch 21/50\n",
      "188/188 [==============================] - 2s 8ms/step - loss: 0.3440 - accuracy: 0.8917\n",
      "Epoch 22/50\n",
      "188/188 [==============================] - 2s 8ms/step - loss: 0.3437 - accuracy: 0.8917\n",
      "Epoch 23/50\n",
      "188/188 [==============================] - 2s 8ms/step - loss: 0.3434 - accuracy: 0.8917\n",
      "Epoch 24/50\n",
      "188/188 [==============================] - 2s 9ms/step - loss: 0.3433 - accuracy: 0.8917\n",
      "Epoch 25/50\n",
      "188/188 [==============================] - 2s 8ms/step - loss: 0.3432 - accuracy: 0.8917\n",
      "Epoch 26/50\n",
      "188/188 [==============================] - 2s 8ms/step - loss: 0.3431 - accuracy: 0.8917\n",
      "Epoch 27/50\n",
      "188/188 [==============================] - 2s 8ms/step - loss: 0.3431 - accuracy: 0.8917\n",
      "Epoch 28/50\n",
      "188/188 [==============================] - 2s 8ms/step - loss: 0.3431 - accuracy: 0.8917\n",
      "Epoch 29/50\n",
      "188/188 [==============================] - 2s 9ms/step - loss: 0.3431 - accuracy: 0.8917\n",
      "Epoch 30/50\n",
      "188/188 [==============================] - 2s 9ms/step - loss: 0.3430 - accuracy: 0.8917\n",
      "Epoch 31/50\n",
      "188/188 [==============================] - 2s 8ms/step - loss: 0.3430 - accuracy: 0.8917\n",
      "Epoch 32/50\n",
      "188/188 [==============================] - 2s 9ms/step - loss: 0.3430 - accuracy: 0.8917\n",
      "Epoch 33/50\n",
      "188/188 [==============================] - 1s 8ms/step - loss: 0.3430 - accuracy: 0.8917\n",
      "Epoch 34/50\n",
      "188/188 [==============================] - 2s 8ms/step - loss: 0.3430 - accuracy: 0.8917\n",
      "Epoch 35/50\n",
      "188/188 [==============================] - 2s 9ms/step - loss: 0.3430 - accuracy: 0.8917\n",
      "Epoch 36/50\n",
      "188/188 [==============================] - 2s 8ms/step - loss: 0.3430 - accuracy: 0.8917\n",
      "Epoch 37/50\n",
      "188/188 [==============================] - 2s 8ms/step - loss: 0.3430 - accuracy: 0.8917\n",
      "Epoch 38/50\n",
      "188/188 [==============================] - 2s 8ms/step - loss: 0.3431 - accuracy: 0.8917\n",
      "Epoch 39/50\n",
      "188/188 [==============================] - 1s 8ms/step - loss: 0.3430 - accuracy: 0.8917\n",
      "Epoch 40/50\n",
      "188/188 [==============================] - 2s 8ms/step - loss: 0.3430 - accuracy: 0.8917\n",
      "Epoch 41/50\n",
      "188/188 [==============================] - 2s 8ms/step - loss: 0.3430 - accuracy: 0.8917\n",
      "Epoch 42/50\n",
      "188/188 [==============================] - 2s 8ms/step - loss: 0.3430 - accuracy: 0.8917\n",
      "Epoch 43/50\n",
      "188/188 [==============================] - 2s 8ms/step - loss: 0.3430 - accuracy: 0.8917\n",
      "Epoch 44/50\n",
      "188/188 [==============================] - 2s 8ms/step - loss: 0.3430 - accuracy: 0.8917\n",
      "Epoch 45/50\n",
      "188/188 [==============================] - 2s 8ms/step - loss: 0.3430 - accuracy: 0.8917\n",
      "Epoch 46/50\n",
      "188/188 [==============================] - 2s 8ms/step - loss: 0.3430 - accuracy: 0.8917\n",
      "Epoch 47/50\n",
      "188/188 [==============================] - 2s 8ms/step - loss: 0.3430 - accuracy: 0.8917\n",
      "Epoch 48/50\n",
      "188/188 [==============================] - 2s 9ms/step - loss: 0.3430 - accuracy: 0.8917\n",
      "Epoch 49/50\n",
      "188/188 [==============================] - 2s 8ms/step - loss: 0.3430 - accuracy: 0.8917\n",
      "Epoch 50/50\n",
      "188/188 [==============================] - 1s 8ms/step - loss: 0.3430 - accuracy: 0.8917\n"
     ]
    }
   ],
   "source": [
    "\n",
    "# Fit the model to the training data\n",
    "fit_model = nn_model.fit(X_train, y_train, epochs=50)"
   ]
  },
  {
   "cell_type": "markdown",
   "id": "cb828187-e28a-421a-b756-35d45c6149ac",
   "metadata": {},
   "source": [
    "# Auto Optimisation"
   ]
  },
  {
   "cell_type": "code",
   "execution_count": 9,
   "id": "7436bf86-8741-4b9e-968a-3dcb799a4600",
   "metadata": {
    "tags": []
   },
   "outputs": [],
   "source": [
    "# Create a method that creates a new Sequential model with hyperparameter options\n",
    "def create_model(hp):\n",
    "    nn_model = tf.keras.models.Sequential()\n",
    "\n",
    "    # Allow kerastuner to decide which activation function to use in hidden layers\n",
    "    activation = hp.Choice('activation',['relu','tanh','sigmoid'])\n",
    "    \n",
    "    # Allow kerastuner to decide number of neurons in first layer\n",
    "    nn_model.add(tf.keras.layers.Dense(units=hp.Int('first_units',\n",
    "        min_value=1,\n",
    "        max_value=10,\n",
    "        step=2), activation=activation, input_dim=14))\n",
    "\n",
    "    # Allow kerastuner to decide number of hidden layers and neurons in hidden layers\n",
    "    for i in range(hp.Int('num_layers', 1, 10)):\n",
    "        nn_model.add(tf.keras.layers.Dense(units=hp.Int('units_' + str(i),\n",
    "            min_value=5,\n",
    "            max_value=50,\n",
    "            step=5),\n",
    "            activation=activation))\n",
    "    \n",
    "    nn_model.add(tf.keras.layers.Dense(units=1, activation=\"sigmoid\"))\n",
    "\n",
    "    # Compile the model\n",
    "    nn_model.compile(loss=\"binary_crossentropy\", optimizer='adam', metrics=[\"accuracy\"])\n",
    "    \n",
    "    return nn_model"
   ]
  },
  {
   "cell_type": "code",
   "execution_count": 10,
   "id": "97d7b0d1-fd84-40d4-bfb9-603f36b39a72",
   "metadata": {
    "tags": []
   },
   "outputs": [
    {
     "name": "stdout",
     "output_type": "stream",
     "text": [
      "Reloading Tuner from .\\untitled_project\\tuner0.json\n"
     ]
    }
   ],
   "source": [
    "\n",
    "tuner = kt.Hyperband(\n",
    "    create_model,\n",
    "    objective=\"val_accuracy\",\n",
    "    max_epochs=30,\n",
    "    hyperband_iterations=2) \n",
    "\n",
    "# Run the kerastuner search for best hyperparameters\n",
    "tuner.search(X_train,y_train,epochs=30,validation_data=(X_test,y_test))"
   ]
  },
  {
   "cell_type": "code",
   "execution_count": 11,
   "id": "0e3b2893-64dc-4b73-84b3-296a63bd0a70",
   "metadata": {
    "tags": []
   },
   "outputs": [
    {
     "data": {
      "text/plain": [
       "{'activation': 'tanh',\n",
       " 'first_units': 1,\n",
       " 'num_layers': 3,\n",
       " 'units_0': 40,\n",
       " 'units_1': 45,\n",
       " 'units_2': 10,\n",
       " 'units_3': 45,\n",
       " 'units_4': 15,\n",
       " 'units_5': 45,\n",
       " 'units_6': 10,\n",
       " 'units_7': 50,\n",
       " 'tuner/epochs': 2,\n",
       " 'tuner/initial_epoch': 0,\n",
       " 'tuner/bracket': 3,\n",
       " 'tuner/round': 0}"
      ]
     },
     "execution_count": 11,
     "metadata": {},
     "output_type": "execute_result"
    }
   ],
   "source": [
    "\n",
    "# Get best model hyperparameters\n",
    "best_hyper = tuner.get_best_hyperparameters(1)[0]\n",
    "best_hyper.values"
   ]
  },
  {
   "cell_type": "code",
   "execution_count": 12,
   "id": "494f3a04-7577-453f-8cc1-aad630639d23",
   "metadata": {
    "tags": []
   },
   "outputs": [
    {
     "name": "stdout",
     "output_type": "stream",
     "text": [
      "63/63 - 2s - loss: nan - accuracy: 0.8915 - 2s/epoch - 33ms/step\n",
      "Loss: nan, Accuracy: 0.8914999961853027\n"
     ]
    }
   ],
   "source": [
    "# Evaluate best model against full test data\n",
    "best_model = tuner.get_best_models(1)[0]\n",
    "model_loss, model_accuracy = best_model.evaluate(X_test,y_test,verbose=2)\n",
    "print(f\"Loss: {model_loss}, Accuracy: {model_accuracy}\")"
   ]
  },
  {
   "cell_type": "code",
   "execution_count": null,
   "id": "133426ab-5948-4865-bcf1-1c7cbfd3a7d3",
   "metadata": {},
   "outputs": [],
   "source": []
  }
 ],
 "metadata": {
  "kernelspec": {
   "display_name": "Python 3 (ipykernel)",
   "language": "python",
   "name": "python3"
  },
  "language_info": {
   "codemirror_mode": {
    "name": "ipython",
    "version": 3
   },
   "file_extension": ".py",
   "mimetype": "text/x-python",
   "name": "python",
   "nbconvert_exporter": "python",
   "pygments_lexer": "ipython3",
   "version": "3.11.3"
  }
 },
 "nbformat": 4,
 "nbformat_minor": 5
}
