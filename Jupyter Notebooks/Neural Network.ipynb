{
 "cells": [
  {
   "cell_type": "code",
   "execution_count": 1,
   "id": "0089602f-88f4-4333-9a4a-dd8975b0a944",
   "metadata": {
    "tags": []
   },
   "outputs": [
    {
     "name": "stdout",
     "output_type": "stream",
     "text": [
      "WARNING:tensorflow:From C:\\Users\\wala2\\anaconda3\\Lib\\site-packages\\keras\\src\\losses.py:2976: The name tf.losses.sparse_softmax_cross_entropy is deprecated. Please use tf.compat.v1.losses.sparse_softmax_cross_entropy instead.\n",
      "\n"
     ]
    }
   ],
   "source": [
    "#Import dependenices\n",
    "import csv\n",
    "import pandas as pd\n",
    "import matplotlib.pyplot as plt\n",
    "from pathlib import Path\n",
    "import tensorflow as tf\n",
    "import keras_tuner as kt\n",
    "from sklearn.metrics import confusion_matrix, accuracy_score,classification_report\n",
    "from sklearn.model_selection import train_test_split"
   ]
  },
  {
   "cell_type": "markdown",
   "id": "63e1ce44-3644-405d-8e0c-2d04c2c09557",
   "metadata": {},
   "source": [
    "# Split the Data into Training and Testing Sets"
   ]
  },
  {
   "cell_type": "code",
   "execution_count": 2,
   "id": "5df99949-815f-4dc9-b50c-dbeb2ff373c6",
   "metadata": {
    "tags": []
   },
   "outputs": [
    {
     "data": {
      "text/html": [
       "<div>\n",
       "<style scoped>\n",
       "    .dataframe tbody tr th:only-of-type {\n",
       "        vertical-align: middle;\n",
       "    }\n",
       "\n",
       "    .dataframe tbody tr th {\n",
       "        vertical-align: top;\n",
       "    }\n",
       "\n",
       "    .dataframe thead th {\n",
       "        text-align: right;\n",
       "    }\n",
       "</style>\n",
       "<table border=\"1\" class=\"dataframe\">\n",
       "  <thead>\n",
       "    <tr style=\"text-align: right;\">\n",
       "      <th></th>\n",
       "      <th>Current loan amount</th>\n",
       "      <th>Credit score</th>\n",
       "      <th>Annual income</th>\n",
       "      <th>Monthly debt</th>\n",
       "      <th>Years of credit history</th>\n",
       "      <th>Number of open accounts</th>\n",
       "      <th>Number of credit problems</th>\n",
       "      <th>Current credit balance</th>\n",
       "      <th>Maximum open credit</th>\n",
       "      <th>Long term</th>\n",
       "      <th>Short term</th>\n",
       "      <th>Home mortgage</th>\n",
       "      <th>Own home</th>\n",
       "      <th>Rent</th>\n",
       "      <th>Bankrupt</th>\n",
       "    </tr>\n",
       "  </thead>\n",
       "  <tbody>\n",
       "    <tr>\n",
       "      <th>0</th>\n",
       "      <td>-0.403050</td>\n",
       "      <td>-0.248996</td>\n",
       "      <td>-0.195065</td>\n",
       "      <td>-1.088060</td>\n",
       "      <td>-0.139697</td>\n",
       "      <td>-1.023574</td>\n",
       "      <td>1.699378</td>\n",
       "      <td>-0.175312</td>\n",
       "      <td>-0.046075</td>\n",
       "      <td>0</td>\n",
       "      <td>1</td>\n",
       "      <td>1</td>\n",
       "      <td>0</td>\n",
       "      <td>0</td>\n",
       "      <td>1</td>\n",
       "    </tr>\n",
       "    <tr>\n",
       "      <th>1</th>\n",
       "      <td>-0.405859</td>\n",
       "      <td>-0.240861</td>\n",
       "      <td>-0.528623</td>\n",
       "      <td>-0.799685</td>\n",
       "      <td>-0.881886</td>\n",
       "      <td>-0.426898</td>\n",
       "      <td>-0.348918</td>\n",
       "      <td>-0.101568</td>\n",
       "      <td>-0.050396</td>\n",
       "      <td>0</td>\n",
       "      <td>1</td>\n",
       "      <td>0</td>\n",
       "      <td>1</td>\n",
       "      <td>0</td>\n",
       "      <td>0</td>\n",
       "    </tr>\n",
       "    <tr>\n",
       "      <th>2</th>\n",
       "      <td>-0.409913</td>\n",
       "      <td>4.212629</td>\n",
       "      <td>-0.445444</td>\n",
       "      <td>-0.176207</td>\n",
       "      <td>-0.125424</td>\n",
       "      <td>-1.023574</td>\n",
       "      <td>-0.348918</td>\n",
       "      <td>-0.209072</td>\n",
       "      <td>-0.067003</td>\n",
       "      <td>1</td>\n",
       "      <td>0</td>\n",
       "      <td>0</td>\n",
       "      <td>1</td>\n",
       "      <td>0</td>\n",
       "      <td>0</td>\n",
       "    </tr>\n",
       "    <tr>\n",
       "      <th>3</th>\n",
       "      <td>-0.400080</td>\n",
       "      <td>-0.270013</td>\n",
       "      <td>1.092393</td>\n",
       "      <td>0.011228</td>\n",
       "      <td>0.631038</td>\n",
       "      <td>-1.421359</td>\n",
       "      <td>-0.348918</td>\n",
       "      <td>0.372367</td>\n",
       "      <td>-0.026019</td>\n",
       "      <td>0</td>\n",
       "      <td>1</td>\n",
       "      <td>1</td>\n",
       "      <td>0</td>\n",
       "      <td>0</td>\n",
       "      <td>0</td>\n",
       "    </tr>\n",
       "    <tr>\n",
       "      <th>4</th>\n",
       "      <td>-0.409645</td>\n",
       "      <td>-0.228658</td>\n",
       "      <td>0.070678</td>\n",
       "      <td>1.696882</td>\n",
       "      <td>-0.610702</td>\n",
       "      <td>1.760918</td>\n",
       "      <td>-0.348918</td>\n",
       "      <td>0.981391</td>\n",
       "      <td>0.041627</td>\n",
       "      <td>0</td>\n",
       "      <td>1</td>\n",
       "      <td>1</td>\n",
       "      <td>0</td>\n",
       "      <td>0</td>\n",
       "      <td>1</td>\n",
       "    </tr>\n",
       "  </tbody>\n",
       "</table>\n",
       "</div>"
      ],
      "text/plain": [
       "   Current loan amount  Credit score  Annual income  Monthly debt  \\\n",
       "0            -0.403050     -0.248996      -0.195065     -1.088060   \n",
       "1            -0.405859     -0.240861      -0.528623     -0.799685   \n",
       "2            -0.409913      4.212629      -0.445444     -0.176207   \n",
       "3            -0.400080     -0.270013       1.092393      0.011228   \n",
       "4            -0.409645     -0.228658       0.070678      1.696882   \n",
       "\n",
       "   Years of credit history  Number of open accounts  \\\n",
       "0                -0.139697                -1.023574   \n",
       "1                -0.881886                -0.426898   \n",
       "2                -0.125424                -1.023574   \n",
       "3                 0.631038                -1.421359   \n",
       "4                -0.610702                 1.760918   \n",
       "\n",
       "   Number of credit problems  Current credit balance  Maximum open credit  \\\n",
       "0                   1.699378               -0.175312            -0.046075   \n",
       "1                  -0.348918               -0.101568            -0.050396   \n",
       "2                  -0.348918               -0.209072            -0.067003   \n",
       "3                  -0.348918                0.372367            -0.026019   \n",
       "4                  -0.348918                0.981391             0.041627   \n",
       "\n",
       "   Long term  Short term  Home mortgage  Own home  Rent  Bankrupt  \n",
       "0          0           1              1         0     0         1  \n",
       "1          0           1              0         1     0         0  \n",
       "2          1           0              0         1     0         0  \n",
       "3          0           1              1         0     0         0  \n",
       "4          0           1              1         0     0         1  "
      ]
     },
     "execution_count": 2,
     "metadata": {},
     "output_type": "execute_result"
    }
   ],
   "source": [
    "# Specify the path to your CSV file\n",
    "loan_path = '../Resources/Clean_train_scaled.csv'\n",
    "\n",
    "# Read the CSV file into a DataFrame\n",
    "loan_df = pd.read_csv(loan_path)\n",
    "\n",
    "# Display the DataFrame\n",
    "loan_df.head(5)\n"
   ]
  },
  {
   "cell_type": "code",
   "execution_count": 3,
   "id": "3dea38a5-2468-4c59-a8fb-78eb7d21f401",
   "metadata": {
    "tags": []
   },
   "outputs": [
    {
     "data": {
      "text/plain": [
       "(65072, 15)"
      ]
     },
     "execution_count": 3,
     "metadata": {},
     "output_type": "execute_result"
    }
   ],
   "source": [
    "loan_df.shape"
   ]
  },
  {
   "cell_type": "code",
   "execution_count": 4,
   "id": "4237aa4f-5d39-43bd-90af-9330225aa86e",
   "metadata": {
    "tags": []
   },
   "outputs": [],
   "source": [
    "# Remove target from features data\n",
    "y = loan_df.Bankrupt.values\n",
    "X = loan_df.drop(columns='Bankrupt').values\n"
   ]
  },
  {
   "cell_type": "code",
   "execution_count": 5,
   "id": "59ea2649-b3ca-4bf2-bb45-5dfb83166b2c",
   "metadata": {},
   "outputs": [],
   "source": [
    "# Split training/test datasets\n",
    "X_train, X_test, y_train, y_test = train_test_split(X, y, random_state=78, stratify=y)\n"
   ]
  },
  {
   "cell_type": "markdown",
   "id": "b0c703bb-aedf-40f7-a39d-67ee3667aa8b",
   "metadata": {},
   "source": [
    "# Create a Neural Network Model"
   ]
  },
  {
   "cell_type": "code",
   "execution_count": 6,
   "id": "c67e6bed-5ca4-4efa-86a0-5bb024ba7e60",
   "metadata": {
    "tags": []
   },
   "outputs": [
    {
     "name": "stdout",
     "output_type": "stream",
     "text": [
      "WARNING:tensorflow:From C:\\Users\\wala2\\anaconda3\\Lib\\site-packages\\keras\\src\\backend.py:873: The name tf.get_default_graph is deprecated. Please use tf.compat.v1.get_default_graph instead.\n",
      "\n",
      "Model: \"sequential\"\n",
      "_________________________________________________________________\n",
      " Layer (type)                Output Shape              Param #   \n",
      "=================================================================\n",
      " dense (Dense)               (None, 1)                 15        \n",
      "                                                                 \n",
      " dense_1 (Dense)             (None, 1)                 2         \n",
      "                                                                 \n",
      "=================================================================\n",
      "Total params: 17 (68.00 Byte)\n",
      "Trainable params: 17 (68.00 Byte)\n",
      "Non-trainable params: 0 (0.00 Byte)\n",
      "_________________________________________________________________\n"
     ]
    }
   ],
   "source": [
    "# Create the Keras Sequential model\n",
    "nn_model = tf.keras.models.Sequential()\n",
    "\n",
    "# Add our first Dense layer, including the input layer\n",
    "nn_model.add(tf.keras.layers.Dense(units=1, activation=\"relu\", input_dim=14))\n",
    "\n",
    "# Add the output layer that uses a probability activation function\n",
    "nn_model.add(tf.keras.layers.Dense(units=1, activation=\"sigmoid\"))\n",
    "\n",
    "# Check the structure of the Sequential model\n",
    "nn_model.summary()"
   ]
  },
  {
   "cell_type": "code",
   "execution_count": 7,
   "id": "571d04ee-24e3-45c0-b156-ef8efc2003d6",
   "metadata": {
    "tags": []
   },
   "outputs": [
    {
     "name": "stdout",
     "output_type": "stream",
     "text": [
      "WARNING:tensorflow:From C:\\Users\\wala2\\anaconda3\\Lib\\site-packages\\keras\\src\\optimizers\\__init__.py:309: The name tf.train.Optimizer is deprecated. Please use tf.compat.v1.train.Optimizer instead.\n",
      "\n"
     ]
    }
   ],
   "source": [
    "# Compile the Sequential model together and customise metrics\n",
    "nn_model.compile(loss=\"binary_crossentropy\", optimizer=\"adam\", metrics=[\"accuracy\"])"
   ]
  },
  {
   "cell_type": "code",
   "execution_count": 8,
   "id": "3088fd40-17f0-4ecc-ab1d-b7521afaa966",
   "metadata": {
    "tags": []
   },
   "outputs": [
    {
     "name": "stdout",
     "output_type": "stream",
     "text": [
      "Epoch 1/50\n",
      "WARNING:tensorflow:From C:\\Users\\wala2\\anaconda3\\Lib\\site-packages\\keras\\src\\utils\\tf_utils.py:492: The name tf.ragged.RaggedTensorValue is deprecated. Please use tf.compat.v1.ragged.RaggedTensorValue instead.\n",
      "\n",
      "WARNING:tensorflow:From C:\\Users\\wala2\\anaconda3\\Lib\\site-packages\\keras\\src\\engine\\base_layer_utils.py:384: The name tf.executing_eagerly_outside_functions is deprecated. Please use tf.compat.v1.executing_eagerly_outside_functions instead.\n",
      "\n",
      "1526/1526 [==============================] - 12s 6ms/step - loss: 0.4093 - accuracy: 0.8885\n",
      "Epoch 2/50\n",
      "1526/1526 [==============================] - 9s 6ms/step - loss: 0.3516 - accuracy: 0.8885\n",
      "Epoch 3/50\n",
      "1526/1526 [==============================] - 9s 6ms/step - loss: 0.3494 - accuracy: 0.8885\n",
      "Epoch 4/50\n",
      "1526/1526 [==============================] - 9s 6ms/step - loss: 0.3491 - accuracy: 0.8885\n",
      "Epoch 5/50\n",
      "1526/1526 [==============================] - 9s 6ms/step - loss: 0.3491 - accuracy: 0.8885\n",
      "Epoch 6/50\n",
      "1526/1526 [==============================] - 9s 6ms/step - loss: 0.3490 - accuracy: 0.8885\n",
      "Epoch 7/50\n",
      "1526/1526 [==============================] - 11s 7ms/step - loss: 0.3491 - accuracy: 0.8885\n",
      "Epoch 8/50\n",
      "1526/1526 [==============================] - 11s 7ms/step - loss: 0.3490 - accuracy: 0.8885\n",
      "Epoch 9/50\n",
      "1526/1526 [==============================] - 11s 7ms/step - loss: 0.3490 - accuracy: 0.8885\n",
      "Epoch 10/50\n",
      "1526/1526 [==============================] - 11s 7ms/step - loss: 0.3490 - accuracy: 0.8885\n",
      "Epoch 11/50\n",
      "1526/1526 [==============================] - 11s 7ms/step - loss: 0.3490 - accuracy: 0.8885\n",
      "Epoch 12/50\n",
      "1526/1526 [==============================] - 11s 7ms/step - loss: 0.3490 - accuracy: 0.8885\n",
      "Epoch 13/50\n",
      "1526/1526 [==============================] - 11s 7ms/step - loss: 0.3490 - accuracy: 0.8885\n",
      "Epoch 14/50\n",
      "1526/1526 [==============================] - 12s 8ms/step - loss: 0.3490 - accuracy: 0.8885\n",
      "Epoch 15/50\n",
      "1526/1526 [==============================] - 11s 7ms/step - loss: 0.3490 - accuracy: 0.8885\n",
      "Epoch 16/50\n",
      "1526/1526 [==============================] - 11s 7ms/step - loss: 0.3490 - accuracy: 0.8885\n",
      "Epoch 17/50\n",
      "1526/1526 [==============================] - 11s 7ms/step - loss: 0.3490 - accuracy: 0.8885\n",
      "Epoch 18/50\n",
      "1526/1526 [==============================] - 12s 8ms/step - loss: 0.3490 - accuracy: 0.8885\n",
      "Epoch 19/50\n",
      "1526/1526 [==============================] - 11s 7ms/step - loss: 0.3490 - accuracy: 0.8885\n",
      "Epoch 20/50\n",
      "1526/1526 [==============================] - 12s 8ms/step - loss: 0.3490 - accuracy: 0.8885\n",
      "Epoch 21/50\n",
      "1526/1526 [==============================] - 11s 7ms/step - loss: 0.3490 - accuracy: 0.8885\n",
      "Epoch 22/50\n",
      "1526/1526 [==============================] - 11s 7ms/step - loss: 0.3490 - accuracy: 0.8885\n",
      "Epoch 23/50\n",
      "1526/1526 [==============================] - 11s 7ms/step - loss: 0.3490 - accuracy: 0.8885\n",
      "Epoch 24/50\n",
      "1526/1526 [==============================] - 11s 7ms/step - loss: 0.3490 - accuracy: 0.8885\n",
      "Epoch 25/50\n",
      "1526/1526 [==============================] - 11s 7ms/step - loss: 0.3490 - accuracy: 0.8885\n",
      "Epoch 26/50\n",
      "1526/1526 [==============================] - 12s 8ms/step - loss: 0.3490 - accuracy: 0.8885\n",
      "Epoch 27/50\n",
      "1526/1526 [==============================] - 11s 7ms/step - loss: 0.3490 - accuracy: 0.8885\n",
      "Epoch 28/50\n",
      "1526/1526 [==============================] - 11s 7ms/step - loss: 0.3490 - accuracy: 0.8885\n",
      "Epoch 29/50\n",
      "1526/1526 [==============================] - 11s 7ms/step - loss: 0.3490 - accuracy: 0.8885\n",
      "Epoch 30/50\n",
      "1526/1526 [==============================] - 11s 7ms/step - loss: 0.3490 - accuracy: 0.8885\n",
      "Epoch 31/50\n",
      "1526/1526 [==============================] - 11s 7ms/step - loss: 0.3490 - accuracy: 0.8885\n",
      "Epoch 32/50\n",
      "1526/1526 [==============================] - 12s 8ms/step - loss: 0.3490 - accuracy: 0.8885\n",
      "Epoch 33/50\n",
      "1526/1526 [==============================] - 11s 7ms/step - loss: 0.3490 - accuracy: 0.8885\n",
      "Epoch 34/50\n",
      "1526/1526 [==============================] - 11s 7ms/step - loss: 0.3490 - accuracy: 0.8885\n",
      "Epoch 35/50\n",
      "1526/1526 [==============================] - 12s 8ms/step - loss: 0.3490 - accuracy: 0.8885\n",
      "Epoch 36/50\n",
      "1526/1526 [==============================] - 11s 7ms/step - loss: 0.3490 - accuracy: 0.8885\n",
      "Epoch 37/50\n",
      "1526/1526 [==============================] - 11s 7ms/step - loss: 0.3490 - accuracy: 0.8885\n",
      "Epoch 38/50\n",
      "1526/1526 [==============================] - 11s 8ms/step - loss: 0.3491 - accuracy: 0.8885\n",
      "Epoch 39/50\n",
      "1526/1526 [==============================] - 11s 8ms/step - loss: 0.3489 - accuracy: 0.8885\n",
      "Epoch 40/50\n",
      "1526/1526 [==============================] - 11s 7ms/step - loss: 0.3490 - accuracy: 0.8885\n",
      "Epoch 41/50\n",
      "1526/1526 [==============================] - 11s 7ms/step - loss: 0.3490 - accuracy: 0.8885\n",
      "Epoch 42/50\n",
      "1526/1526 [==============================] - 11s 7ms/step - loss: 0.3488 - accuracy: 0.8885\n",
      "Epoch 43/50\n",
      "1526/1526 [==============================] - 11s 7ms/step - loss: 0.3490 - accuracy: 0.8885\n",
      "Epoch 44/50\n",
      "1526/1526 [==============================] - 11s 7ms/step - loss: 0.3489 - accuracy: 0.8885\n",
      "Epoch 45/50\n",
      "1526/1526 [==============================] - 12s 8ms/step - loss: 0.3490 - accuracy: 0.8885\n",
      "Epoch 46/50\n",
      "1526/1526 [==============================] - 11s 7ms/step - loss: 0.3490 - accuracy: 0.8885\n",
      "Epoch 47/50\n",
      "1526/1526 [==============================] - 11s 7ms/step - loss: 0.3490 - accuracy: 0.8885\n",
      "Epoch 48/50\n",
      "1526/1526 [==============================] - 11s 7ms/step - loss: 0.3490 - accuracy: 0.8885\n",
      "Epoch 49/50\n",
      "1526/1526 [==============================] - 11s 7ms/step - loss: 0.3490 - accuracy: 0.8885\n",
      "Epoch 50/50\n",
      "1526/1526 [==============================] - 12s 8ms/step - loss: 0.3490 - accuracy: 0.8885\n"
     ]
    }
   ],
   "source": [
    "# Fit the model to the training data\n",
    "fit_model = nn_model.fit(X_train, y_train, epochs=50)"
   ]
  },
  {
   "cell_type": "code",
   "execution_count": 9,
   "id": "81c0547c-1339-41c5-ba72-48e4a421fc38",
   "metadata": {},
   "outputs": [
    {
     "name": "stdout",
     "output_type": "stream",
     "text": [
      "509/509 - 3s - loss: 0.3502 - accuracy: 0.8885 - 3s/epoch - 6ms/step\n",
      "Loss: 0.35024070739746094, Accuracy: 0.88849276304245\n"
     ]
    }
   ],
   "source": [
    "model_loss, model_accuracy = nn_model.evaluate(X_test,y_test,verbose=2)\n",
    "print(f\"Loss: {model_loss}, Accuracy: {model_accuracy}\")"
   ]
  },
  {
   "cell_type": "code",
   "execution_count": 10,
   "id": "1398bf4d-d198-4062-b6ca-9e9f6984d59c",
   "metadata": {},
   "outputs": [
    {
     "name": "stdout",
     "output_type": "stream",
     "text": [
      "509/509 [==============================] - 3s 5ms/step\n"
     ]
    }
   ],
   "source": [
    "# Making predictions uisng the testing data\n",
    "predictions =(nn_model.predict(X_test) > 0.5).astype(\"int32\")\n",
    "# Calculating the confusion matrix\n",
    "cm = confusion_matrix(y_test, predictions)\n",
    "cm_df = pd.DataFrame(\n",
    "    cm, index=[\"Actual 0\", \"Actual 1\"], columns=[\"Predicted 0\", \"Predicted 1\"]\n",
    ")\n",
    "\n",
    "# Calculating the accuracy score\n",
    "acc_score3 = accuracy_score(y_test, predictions)"
   ]
  },
  {
   "cell_type": "code",
   "execution_count": 11,
   "id": "a6696595-11e2-4337-aab3-e70128a737db",
   "metadata": {},
   "outputs": [
    {
     "name": "stdout",
     "output_type": "stream",
     "text": [
      "Confusion Matrix\n"
     ]
    },
    {
     "data": {
      "text/html": [
       "<div>\n",
       "<style scoped>\n",
       "    .dataframe tbody tr th:only-of-type {\n",
       "        vertical-align: middle;\n",
       "    }\n",
       "\n",
       "    .dataframe tbody tr th {\n",
       "        vertical-align: top;\n",
       "    }\n",
       "\n",
       "    .dataframe thead th {\n",
       "        text-align: right;\n",
       "    }\n",
       "</style>\n",
       "<table border=\"1\" class=\"dataframe\">\n",
       "  <thead>\n",
       "    <tr style=\"text-align: right;\">\n",
       "      <th></th>\n",
       "      <th>Predicted 0</th>\n",
       "      <th>Predicted 1</th>\n",
       "    </tr>\n",
       "  </thead>\n",
       "  <tbody>\n",
       "    <tr>\n",
       "      <th>Actual 0</th>\n",
       "      <td>14454</td>\n",
       "      <td>0</td>\n",
       "    </tr>\n",
       "    <tr>\n",
       "      <th>Actual 1</th>\n",
       "      <td>1814</td>\n",
       "      <td>0</td>\n",
       "    </tr>\n",
       "  </tbody>\n",
       "</table>\n",
       "</div>"
      ],
      "text/plain": [
       "          Predicted 0  Predicted 1\n",
       "Actual 0        14454            0\n",
       "Actual 1         1814            0"
      ]
     },
     "metadata": {},
     "output_type": "display_data"
    },
    {
     "name": "stdout",
     "output_type": "stream",
     "text": [
      "Accuracy Score : 0.8884927464961888\n",
      "Classification Report\n",
      "              precision    recall  f1-score   support\n",
      "\n",
      "           0       0.89      1.00      0.94     14454\n",
      "           1       0.00      0.00      0.00      1814\n",
      "\n",
      "    accuracy                           0.89     16268\n",
      "   macro avg       0.44      0.50      0.47     16268\n",
      "weighted avg       0.79      0.89      0.84     16268\n",
      "\n"
     ]
    },
    {
     "name": "stderr",
     "output_type": "stream",
     "text": [
      "C:\\Users\\wala2\\anaconda3\\Lib\\site-packages\\sklearn\\metrics\\_classification.py:1471: UndefinedMetricWarning: Precision and F-score are ill-defined and being set to 0.0 in labels with no predicted samples. Use `zero_division` parameter to control this behavior.\n",
      "  _warn_prf(average, modifier, msg_start, len(result))\n",
      "C:\\Users\\wala2\\anaconda3\\Lib\\site-packages\\sklearn\\metrics\\_classification.py:1471: UndefinedMetricWarning: Precision and F-score are ill-defined and being set to 0.0 in labels with no predicted samples. Use `zero_division` parameter to control this behavior.\n",
      "  _warn_prf(average, modifier, msg_start, len(result))\n",
      "C:\\Users\\wala2\\anaconda3\\Lib\\site-packages\\sklearn\\metrics\\_classification.py:1471: UndefinedMetricWarning: Precision and F-score are ill-defined and being set to 0.0 in labels with no predicted samples. Use `zero_division` parameter to control this behavior.\n",
      "  _warn_prf(average, modifier, msg_start, len(result))\n"
     ]
    }
   ],
   "source": [
    "# Displaying results\n",
    "print(\"Confusion Matrix\")\n",
    "display(cm_df)\n",
    "print(f\"Accuracy Score : {acc_score3}\")\n",
    "print(\"Classification Report\")\n",
    "print(classification_report(y_test, predictions))"
   ]
  },
  {
   "cell_type": "markdown",
   "id": "cb828187-e28a-421a-b756-35d45c6149ac",
   "metadata": {},
   "source": [
    "# Auto Optimisation"
   ]
  },
  {
   "cell_type": "code",
   "execution_count": 12,
   "id": "7436bf86-8741-4b9e-968a-3dcb799a4600",
   "metadata": {
    "tags": []
   },
   "outputs": [],
   "source": [
    "# Create a method that creates a new Sequential model with hyperparameter options\n",
    "def create_model(hp):\n",
    "    nn_model = tf.keras.models.Sequential()\n",
    "\n",
    "    # Allow kerastuner to decide which activation function to use in hidden layers\n",
    "    activation = hp.Choice('activation',['relu','tanh','sigmoid'])\n",
    "    \n",
    "    # Allow kerastuner to decide number of neurons in first layer\n",
    "    nn_model.add(tf.keras.layers.Dense(units=hp.Int('first_units',\n",
    "        min_value=1,\n",
    "        max_value=10,\n",
    "        step=2), activation=activation, input_dim=14))\n",
    "\n",
    "    # Allow kerastuner to decide number of hidden layers and neurons in hidden layers\n",
    "    for i in range(hp.Int('num_layers', 1, 10)):\n",
    "        nn_model.add(tf.keras.layers.Dense(units=hp.Int('units_' + str(i),\n",
    "            min_value=5,\n",
    "            max_value=50,\n",
    "            step=5),\n",
    "            activation=activation))\n",
    "    \n",
    "    nn_model.add(tf.keras.layers.Dense(units=1, activation=\"sigmoid\"))\n",
    "\n",
    "    # Compile the model\n",
    "    nn_model.compile(loss=\"binary_crossentropy\", optimizer='adam', metrics=[\"accuracy\"])\n",
    "    \n",
    "    return nn_model"
   ]
  },
  {
   "cell_type": "code",
   "execution_count": 13,
   "id": "97d7b0d1-fd84-40d4-bfb9-603f36b39a72",
   "metadata": {
    "tags": []
   },
   "outputs": [
    {
     "name": "stdout",
     "output_type": "stream",
     "text": [
      "Trial 180 Complete [00h 07m 54s]\n",
      "val_accuracy: 0.88849276304245\n",
      "\n",
      "Best val_accuracy So Far: 0.88849276304245\n",
      "Total elapsed time: 05h 25m 37s\n"
     ]
    }
   ],
   "source": [
    "\n",
    "tuner = kt.Hyperband(\n",
    "    create_model,\n",
    "    objective=\"val_accuracy\",\n",
    "    max_epochs=30,\n",
    "    hyperband_iterations=2) \n",
    "\n",
    "# Run the kerastuner search for best hyperparameters\n",
    "tuner.search(X_train,y_train,epochs=30,validation_data=(X_test,y_test))"
   ]
  },
  {
   "cell_type": "code",
   "execution_count": 14,
   "id": "0e3b2893-64dc-4b73-84b3-296a63bd0a70",
   "metadata": {
    "tags": []
   },
   "outputs": [
    {
     "data": {
      "text/plain": [
       "{'activation': 'relu',\n",
       " 'first_units': 5,\n",
       " 'num_layers': 2,\n",
       " 'units_0': 50,\n",
       " 'tuner/epochs': 2,\n",
       " 'tuner/initial_epoch': 0,\n",
       " 'tuner/bracket': 3,\n",
       " 'tuner/round': 0,\n",
       " 'units_1': 5}"
      ]
     },
     "execution_count": 14,
     "metadata": {},
     "output_type": "execute_result"
    }
   ],
   "source": [
    "\n",
    "# Get best model hyperparameters\n",
    "best_hyper = tuner.get_best_hyperparameters(1)[0]\n",
    "best_hyper.values"
   ]
  },
  {
   "cell_type": "code",
   "execution_count": 15,
   "id": "494f3a04-7577-453f-8cc1-aad630639d23",
   "metadata": {
    "tags": []
   },
   "outputs": [
    {
     "name": "stdout",
     "output_type": "stream",
     "text": [
      "509/509 - 3s - loss: 0.3510 - accuracy: 0.8885 - 3s/epoch - 6ms/step\n",
      "Loss: 0.35103029012680054, Accuracy: 0.88849276304245\n"
     ]
    }
   ],
   "source": [
    "# Evaluate best model against full test data\n",
    "best_model = tuner.get_best_models(1)[0]\n",
    "model_loss, model_accuracy = best_model.evaluate(X_test,y_test,verbose=2)\n",
    "print(f\"Loss: {model_loss}, Accuracy: {model_accuracy}\")"
   ]
  },
  {
   "cell_type": "code",
   "execution_count": 16,
   "id": "133426ab-5948-4865-bcf1-1c7cbfd3a7d3",
   "metadata": {},
   "outputs": [
    {
     "name": "stdout",
     "output_type": "stream",
     "text": [
      "509/509 [==============================] - 3s 5ms/step\n"
     ]
    }
   ],
   "source": [
    "# Making predictions uisng the testing data\n",
    "predictions =(nn_model.predict(X_test) > 0.5).astype(\"int32\")\n",
    "# Calculating the confusion matrix\n",
    "cm = confusion_matrix(y_test, predictions)\n",
    "cm_df = pd.DataFrame(\n",
    "    cm, index=[\"Actual 0\", \"Actual 1\"], columns=[\"Predicted 0\", \"Predicted 1\"]\n",
    ")\n",
    "\n",
    "# Calculating the accuracy score\n",
    "acc_score3 = accuracy_score(y_test, predictions)"
   ]
  },
  {
   "cell_type": "code",
   "execution_count": 17,
   "id": "d3ab6abe-c916-4c2c-ba9a-e32c9635adee",
   "metadata": {
    "tags": []
   },
   "outputs": [
    {
     "name": "stdout",
     "output_type": "stream",
     "text": [
      "Confusion Matrix\n"
     ]
    },
    {
     "data": {
      "text/html": [
       "<div>\n",
       "<style scoped>\n",
       "    .dataframe tbody tr th:only-of-type {\n",
       "        vertical-align: middle;\n",
       "    }\n",
       "\n",
       "    .dataframe tbody tr th {\n",
       "        vertical-align: top;\n",
       "    }\n",
       "\n",
       "    .dataframe thead th {\n",
       "        text-align: right;\n",
       "    }\n",
       "</style>\n",
       "<table border=\"1\" class=\"dataframe\">\n",
       "  <thead>\n",
       "    <tr style=\"text-align: right;\">\n",
       "      <th></th>\n",
       "      <th>Predicted 0</th>\n",
       "      <th>Predicted 1</th>\n",
       "    </tr>\n",
       "  </thead>\n",
       "  <tbody>\n",
       "    <tr>\n",
       "      <th>Actual 0</th>\n",
       "      <td>14454</td>\n",
       "      <td>0</td>\n",
       "    </tr>\n",
       "    <tr>\n",
       "      <th>Actual 1</th>\n",
       "      <td>1814</td>\n",
       "      <td>0</td>\n",
       "    </tr>\n",
       "  </tbody>\n",
       "</table>\n",
       "</div>"
      ],
      "text/plain": [
       "          Predicted 0  Predicted 1\n",
       "Actual 0        14454            0\n",
       "Actual 1         1814            0"
      ]
     },
     "metadata": {},
     "output_type": "display_data"
    },
    {
     "name": "stdout",
     "output_type": "stream",
     "text": [
      "Accuracy Score : 0.8884927464961888\n",
      "Classification Report\n",
      "              precision    recall  f1-score   support\n",
      "\n",
      "           0       0.89      1.00      0.94     14454\n",
      "           1       0.00      0.00      0.00      1814\n",
      "\n",
      "    accuracy                           0.89     16268\n",
      "   macro avg       0.44      0.50      0.47     16268\n",
      "weighted avg       0.79      0.89      0.84     16268\n",
      "\n"
     ]
    },
    {
     "name": "stderr",
     "output_type": "stream",
     "text": [
      "C:\\Users\\wala2\\anaconda3\\Lib\\site-packages\\sklearn\\metrics\\_classification.py:1471: UndefinedMetricWarning: Precision and F-score are ill-defined and being set to 0.0 in labels with no predicted samples. Use `zero_division` parameter to control this behavior.\n",
      "  _warn_prf(average, modifier, msg_start, len(result))\n",
      "C:\\Users\\wala2\\anaconda3\\Lib\\site-packages\\sklearn\\metrics\\_classification.py:1471: UndefinedMetricWarning: Precision and F-score are ill-defined and being set to 0.0 in labels with no predicted samples. Use `zero_division` parameter to control this behavior.\n",
      "  _warn_prf(average, modifier, msg_start, len(result))\n",
      "C:\\Users\\wala2\\anaconda3\\Lib\\site-packages\\sklearn\\metrics\\_classification.py:1471: UndefinedMetricWarning: Precision and F-score are ill-defined and being set to 0.0 in labels with no predicted samples. Use `zero_division` parameter to control this behavior.\n",
      "  _warn_prf(average, modifier, msg_start, len(result))\n"
     ]
    }
   ],
   "source": [
    "# Displaying results\n",
    "print(\"Confusion Matrix\")\n",
    "display(cm_df)\n",
    "print(f\"Accuracy Score : {acc_score3}\")\n",
    "print(\"Classification Report\")\n",
    "print(classification_report(y_test, predictions))"
   ]
  }
 ],
 "metadata": {
  "kernelspec": {
   "display_name": "Python 3 (ipykernel)",
   "language": "python",
   "name": "python3"
  },
  "language_info": {
   "codemirror_mode": {
    "name": "ipython",
    "version": 3
   },
   "file_extension": ".py",
   "mimetype": "text/x-python",
   "name": "python",
   "nbconvert_exporter": "python",
   "pygments_lexer": "ipython3",
   "version": "3.11.3"
  }
 },
 "nbformat": 4,
 "nbformat_minor": 5
}
