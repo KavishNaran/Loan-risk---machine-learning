{
 "cells": [
  {
   "cell_type": "markdown",
   "id": "04e9d28f-7660-4cae-a824-56410107e056",
   "metadata": {},
   "source": [
    "# Random Forest"
   ]
  },
  {
   "cell_type": "code",
   "execution_count": 4,
   "id": "31f31a14-5803-4105-a0f1-9dc10877bfb5",
   "metadata": {
    "tags": []
   },
   "outputs": [],
   "source": [
    "#Import dependenices\n",
    "import csv\n",
    "import pandas as pd\n",
    "from pathlib import Path\n",
    "import hvplot.pandas\n",
    "import matplotlib.pyplot as plt\n",
    "import seaborn as sns\n",
    "import tensorflow as tf\n",
    "import tensorflow as tfm\n",
    "from sklearn.metrics import confusion_matrix, accuracy_score,classification_report\n",
    "from imblearn.metrics import classification_report_imbalanced\n",
    "from sklearn.metrics import balanced_accuracy_score\n",
    "from sklearn.model_selection import train_test_split\n",
    "from sklearn.metrics import accuracy_score\n",
    "from sklearn.ensemble import RandomForestClassifier\n",
    "from sklearn.preprocessing import StandardScaler\n",
    "from pathlib import Path\n",
    "from sklearn import tree\n",
    "%matplotlib inline"
   ]
  },
  {
   "cell_type": "code",
   "execution_count": 6,
   "id": "b3a26522-8a5d-4a88-b3a0-a3a6506dd8aa",
   "metadata": {
    "tags": []
   },
   "outputs": [
    {
     "name": "stdout",
     "output_type": "stream",
     "text": [
      "(6397, 15)\n",
      "(80683, 15)\n"
     ]
    },
    {
     "data": {
      "text/html": [
       "<div>\n",
       "<style scoped>\n",
       "    .dataframe tbody tr th:only-of-type {\n",
       "        vertical-align: middle;\n",
       "    }\n",
       "\n",
       "    .dataframe tbody tr th {\n",
       "        vertical-align: top;\n",
       "    }\n",
       "\n",
       "    .dataframe thead th {\n",
       "        text-align: right;\n",
       "    }\n",
       "</style>\n",
       "<table border=\"1\" class=\"dataframe\">\n",
       "  <thead>\n",
       "    <tr style=\"text-align: right;\">\n",
       "      <th></th>\n",
       "      <th>Current loan amount</th>\n",
       "      <th>Credit score</th>\n",
       "      <th>Annual income</th>\n",
       "      <th>Monthly debt</th>\n",
       "      <th>Years of credit history</th>\n",
       "      <th>Number of open accounts</th>\n",
       "      <th>Number of credit problems</th>\n",
       "      <th>Current credit balance</th>\n",
       "      <th>Maximum open credit</th>\n",
       "      <th>Long term</th>\n",
       "      <th>Short term</th>\n",
       "      <th>Home mortgage</th>\n",
       "      <th>Own home</th>\n",
       "      <th>Rent</th>\n",
       "      <th>Bankrupt</th>\n",
       "    </tr>\n",
       "  </thead>\n",
       "  <tbody>\n",
       "    <tr>\n",
       "      <th>0</th>\n",
       "      <td>445412.0</td>\n",
       "      <td>709.0</td>\n",
       "      <td>1167493.0</td>\n",
       "      <td>5214.74</td>\n",
       "      <td>17.2</td>\n",
       "      <td>6.0</td>\n",
       "      <td>1.0</td>\n",
       "      <td>228190.0</td>\n",
       "      <td>416746.0</td>\n",
       "      <td>0</td>\n",
       "      <td>1</td>\n",
       "      <td>1</td>\n",
       "      <td>0</td>\n",
       "      <td>0</td>\n",
       "      <td>1</td>\n",
       "    </tr>\n",
       "    <tr>\n",
       "      <th>1</th>\n",
       "      <td>99999999.0</td>\n",
       "      <td>741.0</td>\n",
       "      <td>2231892.0</td>\n",
       "      <td>29200.53</td>\n",
       "      <td>14.9</td>\n",
       "      <td>18.0</td>\n",
       "      <td>1.0</td>\n",
       "      <td>297996.0</td>\n",
       "      <td>750090.0</td>\n",
       "      <td>0</td>\n",
       "      <td>1</td>\n",
       "      <td>0</td>\n",
       "      <td>1</td>\n",
       "      <td>0</td>\n",
       "      <td>0</td>\n",
       "    </tr>\n",
       "    <tr>\n",
       "      <th>2</th>\n",
       "      <td>347666.0</td>\n",
       "      <td>721.0</td>\n",
       "      <td>806949.0</td>\n",
       "      <td>8741.90</td>\n",
       "      <td>12.0</td>\n",
       "      <td>9.0</td>\n",
       "      <td>0.0</td>\n",
       "      <td>256329.0</td>\n",
       "      <td>386958.0</td>\n",
       "      <td>1</td>\n",
       "      <td>0</td>\n",
       "      <td>0</td>\n",
       "      <td>1</td>\n",
       "      <td>0</td>\n",
       "      <td>0</td>\n",
       "    </tr>\n",
       "    <tr>\n",
       "      <th>3</th>\n",
       "      <td>206602.0</td>\n",
       "      <td>7290.0</td>\n",
       "      <td>896857.0</td>\n",
       "      <td>16367.74</td>\n",
       "      <td>17.3</td>\n",
       "      <td>6.0</td>\n",
       "      <td>0.0</td>\n",
       "      <td>215308.0</td>\n",
       "      <td>272448.0</td>\n",
       "      <td>0</td>\n",
       "      <td>1</td>\n",
       "      <td>1</td>\n",
       "      <td>0</td>\n",
       "      <td>0</td>\n",
       "      <td>0</td>\n",
       "    </tr>\n",
       "    <tr>\n",
       "      <th>4</th>\n",
       "      <td>217646.0</td>\n",
       "      <td>730.0</td>\n",
       "      <td>1184194.0</td>\n",
       "      <td>10855.08</td>\n",
       "      <td>19.6</td>\n",
       "      <td>13.0</td>\n",
       "      <td>1.0</td>\n",
       "      <td>122170.0</td>\n",
       "      <td>272052.0</td>\n",
       "      <td>0</td>\n",
       "      <td>1</td>\n",
       "      <td>1</td>\n",
       "      <td>0</td>\n",
       "      <td>0</td>\n",
       "      <td>1</td>\n",
       "    </tr>\n",
       "  </tbody>\n",
       "</table>\n",
       "</div>"
      ],
      "text/plain": [
       "   Current loan amount  Credit score  Annual income  Monthly debt  \\\n",
       "0             445412.0         709.0      1167493.0       5214.74   \n",
       "1           99999999.0         741.0      2231892.0      29200.53   \n",
       "2             347666.0         721.0       806949.0       8741.90   \n",
       "3             206602.0        7290.0       896857.0      16367.74   \n",
       "4             217646.0         730.0      1184194.0      10855.08   \n",
       "\n",
       "   Years of credit history  Number of open accounts  \\\n",
       "0                     17.2                      6.0   \n",
       "1                     14.9                     18.0   \n",
       "2                     12.0                      9.0   \n",
       "3                     17.3                      6.0   \n",
       "4                     19.6                     13.0   \n",
       "\n",
       "   Number of credit problems  Current credit balance  Maximum open credit  \\\n",
       "0                        1.0                228190.0             416746.0   \n",
       "1                        1.0                297996.0             750090.0   \n",
       "2                        0.0                256329.0             386958.0   \n",
       "3                        0.0                215308.0             272448.0   \n",
       "4                        1.0                122170.0             272052.0   \n",
       "\n",
       "   Long term  Short term  Home mortgage  Own home  Rent  Bankrupt  \n",
       "0          0           1              1         0     0         1  \n",
       "1          0           1              0         1     0         0  \n",
       "2          1           0              0         1     0         0  \n",
       "3          0           1              1         0     0         0  \n",
       "4          0           1              1         0     0         1  "
      ]
     },
     "execution_count": 6,
     "metadata": {},
     "output_type": "execute_result"
    }
   ],
   "source": [
    "# Specify the path to your CSV file\n",
    "csv_file_path1 = '../Resources/Clean_test_scaled.csv'\n",
    "csv_file_path2 = '../Resources/Clean_train_scaled.csv'\n",
    "\n",
    "# Read the CSV file into a DataFrame\n",
    "test_df = pd.read_csv(csv_file_path1)\n",
    "train_df = pd.read_csv(csv_file_path2)\n",
    "\n",
    "test_df.dropna(inplace=True)\n",
    "train_df.dropna(inplace=True)\n",
    "\n",
    "#Print size of data set\n",
    "print(test_df.shape)\n",
    "print(train_df.shape)\n",
    "\n",
    "# Display the DataFrame\n",
    "train_df.head(5)"
   ]
  },
  {
   "cell_type": "code",
   "execution_count": 7,
   "id": "01b88805-c91d-4732-8a96-f4395cb0d0b0",
   "metadata": {
    "tags": []
   },
   "outputs": [],
   "source": [
    "# Define features set\n",
    "X_train = train_df.copy()\n",
    "X_train.drop(\"Bankrupt\", axis=1, inplace=True)\n",
    "\n",
    "X_test = test_df.copy()\n",
    "X_test.drop(\"Bankrupt\", axis=1, inplace=True)"
   ]
  },
  {
   "cell_type": "code",
   "execution_count": 8,
   "id": "9b5cbb48-0dcc-4486-bad5-c67b2e00383f",
   "metadata": {
    "tags": []
   },
   "outputs": [],
   "source": [
    "# Define target vector\n",
    "y_train = train_df['Bankrupt'].ravel()\n",
    "y_test = test_df['Bankrupt'].ravel()"
   ]
  },
  {
   "cell_type": "code",
   "execution_count": 9,
   "id": "11178b15-4149-48b6-9089-2d56d5f0b9fb",
   "metadata": {
    "tags": []
   },
   "outputs": [],
   "source": [
    "# Creating the decision tree classifier instance\n",
    "model = tree.DecisionTreeClassifier()"
   ]
  },
  {
   "cell_type": "code",
   "execution_count": 10,
   "id": "7aec6a96-619c-45c9-bf06-e66246698204",
   "metadata": {
    "tags": []
   },
   "outputs": [],
   "source": [
    "# Fitting the model\n",
    "model = model.fit(X_train, y_train)"
   ]
  },
  {
   "cell_type": "code",
   "execution_count": 11,
   "id": "c0ff8383-e8cd-4bf1-8cec-fc6dcafd2ac8",
   "metadata": {
    "tags": []
   },
   "outputs": [],
   "source": [
    "# Create a random forest classifier\n",
    "rf_model = RandomForestClassifier(n_estimators=600, random_state=78)"
   ]
  },
  {
   "cell_type": "code",
   "execution_count": 12,
   "id": "5c77e190-1c94-46e5-850a-1fcafe3b6dc7",
   "metadata": {
    "tags": []
   },
   "outputs": [],
   "source": [
    "# Fitting the model\n",
    "rf_model = rf_model.fit(X_train, y_train)"
   ]
  },
  {
   "cell_type": "code",
   "execution_count": 13,
   "id": "004762e3-27df-421a-90a1-6e6a082dfe45",
   "metadata": {
    "tags": []
   },
   "outputs": [],
   "source": [
    "# Making predictions uisng the testing data\n",
    "predictions = rf_model.predict(X_test)"
   ]
  },
  {
   "cell_type": "code",
   "execution_count": 14,
   "id": "2ad39ae1-eddd-4815-8d00-2532f76c7a3c",
   "metadata": {
    "tags": []
   },
   "outputs": [],
   "source": [
    "# Calculating the confusion matrix\n",
    "cm = confusion_matrix(y_test, predictions)\n",
    "cm_df = pd.DataFrame(\n",
    "    cm, index=[\"Actual 0\", \"Actual 1\"], columns=[\"Predicted 0\", \"Predicted 1\"]\n",
    ")\n",
    "\n",
    "# Calculating the accuracy score\n",
    "acc_score = accuracy_score(y_test, predictions)"
   ]
  },
  {
   "cell_type": "code",
   "execution_count": 15,
   "id": "467b76f4-86a1-4b30-bac4-f3cbb10236a9",
   "metadata": {
    "tags": []
   },
   "outputs": [
    {
     "name": "stdout",
     "output_type": "stream",
     "text": [
      "Confusion Matrix\n"
     ]
    },
    {
     "data": {
      "text/html": [
       "<div>\n",
       "<style scoped>\n",
       "    .dataframe tbody tr th:only-of-type {\n",
       "        vertical-align: middle;\n",
       "    }\n",
       "\n",
       "    .dataframe tbody tr th {\n",
       "        vertical-align: top;\n",
       "    }\n",
       "\n",
       "    .dataframe thead th {\n",
       "        text-align: right;\n",
       "    }\n",
       "</style>\n",
       "<table border=\"1\" class=\"dataframe\">\n",
       "  <thead>\n",
       "    <tr style=\"text-align: right;\">\n",
       "      <th></th>\n",
       "      <th>Predicted 0</th>\n",
       "      <th>Predicted 1</th>\n",
       "    </tr>\n",
       "  </thead>\n",
       "  <tbody>\n",
       "    <tr>\n",
       "      <th>Actual 0</th>\n",
       "      <td>5676</td>\n",
       "      <td>0</td>\n",
       "    </tr>\n",
       "    <tr>\n",
       "      <th>Actual 1</th>\n",
       "      <td>721</td>\n",
       "      <td>0</td>\n",
       "    </tr>\n",
       "  </tbody>\n",
       "</table>\n",
       "</div>"
      ],
      "text/plain": [
       "          Predicted 0  Predicted 1\n",
       "Actual 0         5676            0\n",
       "Actual 1          721            0"
      ]
     },
     "metadata": {},
     "output_type": "display_data"
    },
    {
     "name": "stdout",
     "output_type": "stream",
     "text": [
      "Accuracy Score : 0.8872909176176332\n",
      "Classification Report\n",
      "              precision    recall  f1-score   support\n",
      "\n",
      "           0       0.89      1.00      0.94      5676\n",
      "           1       0.00      0.00      0.00       721\n",
      "\n",
      "    accuracy                           0.89      6397\n",
      "   macro avg       0.44      0.50      0.47      6397\n",
      "weighted avg       0.79      0.89      0.83      6397\n",
      "\n"
     ]
    },
    {
     "name": "stderr",
     "output_type": "stream",
     "text": [
      "/Users/kavishnaran/anaconda3/envs/PythonData/lib/python3.11/site-packages/sklearn/metrics/_classification.py:1344: UndefinedMetricWarning: Precision and F-score are ill-defined and being set to 0.0 in labels with no predicted samples. Use `zero_division` parameter to control this behavior.\n",
      "  _warn_prf(average, modifier, msg_start, len(result))\n",
      "/Users/kavishnaran/anaconda3/envs/PythonData/lib/python3.11/site-packages/sklearn/metrics/_classification.py:1344: UndefinedMetricWarning: Precision and F-score are ill-defined and being set to 0.0 in labels with no predicted samples. Use `zero_division` parameter to control this behavior.\n",
      "  _warn_prf(average, modifier, msg_start, len(result))\n",
      "/Users/kavishnaran/anaconda3/envs/PythonData/lib/python3.11/site-packages/sklearn/metrics/_classification.py:1344: UndefinedMetricWarning: Precision and F-score are ill-defined and being set to 0.0 in labels with no predicted samples. Use `zero_division` parameter to control this behavior.\n",
      "  _warn_prf(average, modifier, msg_start, len(result))\n"
     ]
    }
   ],
   "source": [
    "# Displaying results\n",
    "print(\"Confusion Matrix\")\n",
    "display(cm_df)\n",
    "print(f\"Accuracy Score : {acc_score}\")\n",
    "print(\"Classification Report\")\n",
    "print(classification_report(y_test, predictions))"
   ]
  },
  {
   "cell_type": "code",
   "execution_count": 15,
   "id": "c3a3487c-031c-4676-bb04-5278bd22b88e",
   "metadata": {
    "tags": []
   },
   "outputs": [
    {
     "name": "stdout",
     "output_type": "stream",
     "text": [
      "Confusion Matrix\n"
     ]
    },
    {
     "data": {
      "text/html": [
       "<div>\n",
       "<style scoped>\n",
       "    .dataframe tbody tr th:only-of-type {\n",
       "        vertical-align: middle;\n",
       "    }\n",
       "\n",
       "    .dataframe tbody tr th {\n",
       "        vertical-align: top;\n",
       "    }\n",
       "\n",
       "    .dataframe thead th {\n",
       "        text-align: right;\n",
       "    }\n",
       "</style>\n",
       "<table border=\"1\" class=\"dataframe\">\n",
       "  <thead>\n",
       "    <tr style=\"text-align: right;\">\n",
       "      <th></th>\n",
       "      <th>Predicted 0</th>\n",
       "      <th>Predicted 1</th>\n",
       "    </tr>\n",
       "  </thead>\n",
       "  <tbody>\n",
       "    <tr>\n",
       "      <th>Actual 0</th>\n",
       "      <td>5676</td>\n",
       "      <td>0</td>\n",
       "    </tr>\n",
       "    <tr>\n",
       "      <th>Actual 1</th>\n",
       "      <td>721</td>\n",
       "      <td>0</td>\n",
       "    </tr>\n",
       "  </tbody>\n",
       "</table>\n",
       "</div>"
      ],
      "text/plain": [
       "          Predicted 0  Predicted 1\n",
       "Actual 0         5676            0\n",
       "Actual 1          721            0"
      ]
     },
     "metadata": {},
     "output_type": "display_data"
    },
    {
     "name": "stdout",
     "output_type": "stream",
     "text": [
      "Accuracy Score : 0.8872909176176332\n",
      "Classification Report\n",
      "              precision    recall  f1-score   support\n",
      "\n",
      "           0       0.89      1.00      0.94      5676\n",
      "           1       0.00      0.00      0.00       721\n",
      "\n",
      "    accuracy                           0.89      6397\n",
      "   macro avg       0.44      0.50      0.47      6397\n",
      "weighted avg       0.79      0.89      0.83      6397\n",
      "\n"
     ]
    },
    {
     "name": "stderr",
     "output_type": "stream",
     "text": [
      "/Users/kavishnaran/anaconda3/envs/PythonData/lib/python3.11/site-packages/sklearn/metrics/_classification.py:1344: UndefinedMetricWarning: Precision and F-score are ill-defined and being set to 0.0 in labels with no predicted samples. Use `zero_division` parameter to control this behavior.\n",
      "  _warn_prf(average, modifier, msg_start, len(result))\n",
      "/Users/kavishnaran/anaconda3/envs/PythonData/lib/python3.11/site-packages/sklearn/metrics/_classification.py:1344: UndefinedMetricWarning: Precision and F-score are ill-defined and being set to 0.0 in labels with no predicted samples. Use `zero_division` parameter to control this behavior.\n",
      "  _warn_prf(average, modifier, msg_start, len(result))\n",
      "/Users/kavishnaran/anaconda3/envs/PythonData/lib/python3.11/site-packages/sklearn/metrics/_classification.py:1344: UndefinedMetricWarning: Precision and F-score are ill-defined and being set to 0.0 in labels with no predicted samples. Use `zero_division` parameter to control this behavior.\n",
      "  _warn_prf(average, modifier, msg_start, len(result))\n"
     ]
    }
   ],
   "source": [
    "# Displaying results\n",
    "print(\"Confusion Matrix\")\n",
    "display(cm_df)\n",
    "print(f\"Accuracy Score : {acc_score}\")\n",
    "print(\"Classification Report\")\n",
    "print(classification_report(y_test, predictions))"
   ]
  },
  {
   "cell_type": "code",
   "execution_count": 17,
   "id": "e2676f60-96f7-41e5-a03c-20af6f7f5b9c",
   "metadata": {
    "tags": []
   },
   "outputs": [
    {
     "data": {
      "text/plain": [
       "[(0.7241819055103028, 'Number of credit problems'),\n",
       " (0.046992084255240756, 'Current credit balance'),\n",
       " (0.041352927222157165, 'Maximum open credit'),\n",
       " (0.037382549415704625, 'Years of credit history'),\n",
       " (0.03140359538462273, 'Monthly debt'),\n",
       " (0.031106909528611282, 'Annual income'),\n",
       " (0.028277112542507907, 'Credit score'),\n",
       " (0.026537153658262584, 'Current loan amount'),\n",
       " (0.020192400251676585, 'Number of open accounts'),\n",
       " (0.0030355875506640016, 'Home mortgage'),\n",
       " (0.0030272585985399738, 'Rent'),\n",
       " (0.002225350853046193, 'Long term'),\n",
       " (0.0022089993057301084, 'Short term'),\n",
       " (0.0020761659229332663, 'Own home')]"
      ]
     },
     "execution_count": 17,
     "metadata": {},
     "output_type": "execute_result"
    }
   ],
   "source": [
    "# Random Forests in sklearn will automatically calculate feature importance\n",
    "importances = rf_model.feature_importances_\n",
    "# We can sort the features by their importance\n",
    "sorted(zip(rf_model.feature_importances_, X_train.columns), reverse=True)"
   ]
  },
  {
   "cell_type": "code",
   "execution_count": 18,
   "id": "b6860395-b91d-4682-9cbc-cb5af3138eb0",
   "metadata": {
    "tags": []
   },
   "outputs": [
    {
     "data": {
      "text/plain": [
       "<Axes: title={'center': 'Features Importances'}, ylabel='1'>"
      ]
     },
     "execution_count": 18,
     "metadata": {},
     "output_type": "execute_result"
    },
    {
     "data": {
      "image/png": "[encoded data removed]",
      "text/plain": [
       "<Figure size 640x480 with 1 Axes>"
      ]
     },
     "metadata": {},
     "output_type": "display_data"
    }
   ],
   "source": [
    "# Visualize the features by importance\n",
    "importances_df = pd.DataFrame(sorted(zip(rf_model.feature_importances_, X_train.columns), reverse=True))\n",
    "importances_df.set_index(importances_df[1], inplace=True)\n",
    "importances_df.drop(columns=1, inplace=True)\n",
    "importances_df.rename(columns={0: 'Feature Importances'}, inplace=True)\n",
    "importances_sorted = importances_df.sort_values(by='Feature Importances')\n",
    "importances_sorted.plot(kind='barh', color='lightgreen', title= 'Features Importances', legend=False)"
   ]
  },
  {
   "cell_type": "markdown",
   "id": "ffc7fc63-c6aa-441b-b5f6-dfa651fe6c07",
   "metadata": {
    "tags": []
   },
   "source": [
    "# Random Forest Optimisation"
   ]
  },
  {
   "cell_type": "markdown",
   "id": "a9a8cf89-793e-4805-a236-962ff660a9cb",
   "metadata": {},
   "source": [
    "### Number of trees (n_estimaters)"
   ]
  },
  {
   "cell_type": "code",
   "execution_count": 19,
   "id": "74d504ed-7829-4ad2-a5e6-993de5b73faf",
   "metadata": {
    "tags": []
   },
   "outputs": [],
   "source": [
    "# Create a random forest classifier\n",
    "rf_model = RandomForestClassifier(n_estimators=3000, random_state=78)"
   ]
  },
  {
   "cell_type": "code",
   "execution_count": null,
   "id": "70e42a77-5e9f-420f-9731-41d33ea561f4",
   "metadata": {
    "tags": []
   },
   "outputs": [],
   "source": [
    "# Fitting the model\n",
    "rf_model = rf_model.fit(X_train, y_train)"
   ]
  },
  {
   "cell_type": "code",
   "execution_count": null,
   "id": "348368c1-8c19-4134-a746-95b88f1da497",
   "metadata": {
    "tags": []
   },
   "outputs": [],
   "source": [
    "# Making predictions uisng the testing data\n",
    "predictions = rf_model.predict(X_test)"
   ]
  },
  {
   "cell_type": "code",
   "execution_count": 17,
   "id": "b8c2ff6d-8138-4f5e-8556-8a93d1818399",
   "metadata": {
    "tags": []
   },
   "outputs": [],
   "source": [
    "# Calculating the confusion matrix\n",
    "cm1 = confusion_matrix(y_test, predictions)\n",
    "cm_df1 = pd.DataFrame(\n",
    "    cm1, index=[\"Actual 0\", \"Actual 1\"], columns=[\"Predicted 0\", \"Predicted 1\"]\n",
    ")\n",
    "\n",
    "# Calculating the accuracy score\n",
    "acc_score1 = accuracy_score(y_test, predictions)"
   ]
  },
  {
   "cell_type": "code",
   "execution_count": 18,
   "id": "11ac60e3-81e4-4c0c-8c8b-3158a4e93e6c",
   "metadata": {
    "tags": []
   },
   "outputs": [
    {
     "name": "stdout",
     "output_type": "stream",
     "text": [
      "Confusion Matrix\n"
     ]
    },
    {
     "data": {
      "text/html": [
       "<div>\n",
       "<style scoped>\n",
       "    .dataframe tbody tr th:only-of-type {\n",
       "        vertical-align: middle;\n",
       "    }\n",
       "\n",
       "    .dataframe tbody tr th {\n",
       "        vertical-align: top;\n",
       "    }\n",
       "\n",
       "    .dataframe thead th {\n",
       "        text-align: right;\n",
       "    }\n",
       "</style>\n",
       "<table border=\"1\" class=\"dataframe\">\n",
       "  <thead>\n",
       "    <tr style=\"text-align: right;\">\n",
       "      <th></th>\n",
       "      <th>Predicted 0</th>\n",
       "      <th>Predicted 1</th>\n",
       "    </tr>\n",
       "  </thead>\n",
       "  <tbody>\n",
       "    <tr>\n",
       "      <th>Actual 0</th>\n",
       "      <td>57812</td>\n",
       "      <td>5</td>\n",
       "    </tr>\n",
       "    <tr>\n",
       "      <th>Actual 1</th>\n",
       "      <td>7255</td>\n",
       "      <td>0</td>\n",
       "    </tr>\n",
       "  </tbody>\n",
       "</table>\n",
       "</div>"
      ],
      "text/plain": [
       "          Predicted 0  Predicted 1\n",
       "Actual 0        57812            5\n",
       "Actual 1         7255            0"
      ]
     },
     "metadata": {},
     "output_type": "display_data"
    },
    {
     "name": "stdout",
     "output_type": "stream",
     "text": [
      "Accuracy Score : 0.8884312761249078\n",
      "Classification Report\n",
      "              precision    recall  f1-score   support\n",
      "\n",
      "           0       0.89      1.00      0.94     57817\n",
      "           1       0.00      0.00      0.00      7255\n",
      "\n",
      "    accuracy                           0.89     65072\n",
      "   macro avg       0.44      0.50      0.47     65072\n",
      "weighted avg       0.79      0.89      0.84     65072\n",
      "\n"
     ]
    }
   ],
   "source": [
    "# Displaying results\n",
    "print(\"Confusion Matrix\")\n",
    "display(cm_df1)\n",
    "print(f\"Accuracy Score : {acc_score1}\")\n",
    "print(\"Classification Report\")\n",
    "print(classification_report(y_test, predictions))"
   ]
  },
  {
   "cell_type": "code",
   "execution_count": 19,
   "id": "9d359fa9-c7cf-4a4b-bd95-8877c4dc9c3c",
   "metadata": {
    "tags": []
   },
   "outputs": [
    {
     "name": "stdout",
     "output_type": "stream",
     "text": [
      "Orginal score: 0.8884466437177281\n",
      "Optimised score: 0.8884312761249078\n"
     ]
    }
   ],
   "source": [
    "# Outcome\n",
    "print(f'Orginal score: {acc_score}')\n",
    "print(f'Optimised score: {acc_score1}')"
   ]
  },
  {
   "cell_type": "markdown",
   "id": "cfb545cb-741a-44d4-a560-05c91a32ce4a",
   "metadata": {
    "tags": []
   },
   "source": [
    "# Class weight adjustment"
   ]
  },
  {
   "cell_type": "code",
   "execution_count": 20,
   "id": "742e1713-b5b8-4bf0-9d58-5a4760018626",
   "metadata": {},
   "outputs": [],
   "source": [
    "# Create a random forest classifier\n",
    "rf_model = RandomForestClassifier(n_estimators=3000, class_weight = 'balanced', random_state=78)"
   ]
  },
  {
   "cell_type": "code",
   "execution_count": 21,
   "id": "d87a2498-1e20-4edb-9775-7d8af008d5b2",
   "metadata": {
    "tags": []
   },
   "outputs": [],
   "source": [
    "# Fitting the model\n",
    "rf_model = rf_model.fit(X_train, y_train)"
   ]
  },
  {
   "cell_type": "code",
   "execution_count": 22,
   "id": "f62f1053-5470-4245-a8e3-682dc841f640",
   "metadata": {
    "tags": []
   },
   "outputs": [],
   "source": [
    "# Making predictions uisng the testing data\n",
    "predictions = rf_model.predict(X_test)"
   ]
  },
  {
   "cell_type": "code",
   "execution_count": 23,
   "id": "0dcaacba-f5b6-4b7b-b027-34ade1409cff",
   "metadata": {
    "tags": []
   },
   "outputs": [],
   "source": [
    "# Calculating the confusion matrix\n",
    "cm = confusion_matrix(y_test, predictions)\n",
    "cm_df = pd.DataFrame(\n",
    "    cm, index=[\"Actual 0\", \"Actual 1\"], columns=[\"Predicted 0\", \"Predicted 1\"]\n",
    ")\n",
    "\n",
    "# Calculating the accuracy score\n",
    "acc_score3 = accuracy_score(y_test, predictions)"
   ]
  },
  {
   "cell_type": "code",
   "execution_count": 24,
   "id": "36f790be-fe18-42aa-b3c8-732f1ce27590",
   "metadata": {
    "tags": []
   },
   "outputs": [
    {
     "name": "stdout",
     "output_type": "stream",
     "text": [
      "Confusion Matrix\n"
     ]
    },
    {
     "data": {
      "text/html": [
       "<div>\n",
       "<style scoped>\n",
       "    .dataframe tbody tr th:only-of-type {\n",
       "        vertical-align: middle;\n",
       "    }\n",
       "\n",
       "    .dataframe tbody tr th {\n",
       "        vertical-align: top;\n",
       "    }\n",
       "\n",
       "    .dataframe thead th {\n",
       "        text-align: right;\n",
       "    }\n",
       "</style>\n",
       "<table border=\"1\" class=\"dataframe\">\n",
       "  <thead>\n",
       "    <tr style=\"text-align: right;\">\n",
       "      <th></th>\n",
       "      <th>Predicted 0</th>\n",
       "      <th>Predicted 1</th>\n",
       "    </tr>\n",
       "  </thead>\n",
       "  <tbody>\n",
       "    <tr>\n",
       "      <th>Actual 0</th>\n",
       "      <td>57817</td>\n",
       "      <td>0</td>\n",
       "    </tr>\n",
       "    <tr>\n",
       "      <th>Actual 1</th>\n",
       "      <td>7255</td>\n",
       "      <td>0</td>\n",
       "    </tr>\n",
       "  </tbody>\n",
       "</table>\n",
       "</div>"
      ],
      "text/plain": [
       "          Predicted 0  Predicted 1\n",
       "Actual 0        57817            0\n",
       "Actual 1         7255            0"
      ]
     },
     "metadata": {},
     "output_type": "display_data"
    },
    {
     "name": "stdout",
     "output_type": "stream",
     "text": [
      "Accuracy Score : 0.8884466437177281\n",
      "Classification Report\n",
      "              precision    recall  f1-score   support\n",
      "\n",
      "           0       0.89      1.00      0.94     57817\n",
      "           1       0.00      0.00      0.00      7255\n",
      "\n",
      "    accuracy                           0.89     65072\n",
      "   macro avg       0.44      0.50      0.47     65072\n",
      "weighted avg       0.79      0.89      0.84     65072\n",
      "\n"
     ]
    },
    {
     "name": "stderr",
     "output_type": "stream",
     "text": [
      "/Users/kavishnaran/anaconda3/envs/PythonData/lib/python3.11/site-packages/sklearn/metrics/_classification.py:1344: UndefinedMetricWarning: Precision and F-score are ill-defined and being set to 0.0 in labels with no predicted samples. Use `zero_division` parameter to control this behavior.\n",
      "  _warn_prf(average, modifier, msg_start, len(result))\n",
      "/Users/kavishnaran/anaconda3/envs/PythonData/lib/python3.11/site-packages/sklearn/metrics/_classification.py:1344: UndefinedMetricWarning: Precision and F-score are ill-defined and being set to 0.0 in labels with no predicted samples. Use `zero_division` parameter to control this behavior.\n",
      "  _warn_prf(average, modifier, msg_start, len(result))\n",
      "/Users/kavishnaran/anaconda3/envs/PythonData/lib/python3.11/site-packages/sklearn/metrics/_classification.py:1344: UndefinedMetricWarning: Precision and F-score are ill-defined and being set to 0.0 in labels with no predicted samples. Use `zero_division` parameter to control this behavior.\n",
      "  _warn_prf(average, modifier, msg_start, len(result))\n"
     ]
    }
   ],
   "source": [
    "# Displaying results\n",
    "print(\"Confusion Matrix\")\n",
    "display(cm_df)\n",
    "print(f\"Accuracy Score : {acc_score}\")\n",
    "print(\"Classification Report\")\n",
    "print(classification_report(y_test, predictions))"
   ]
  }
 ],
 "metadata": {
  "kernelspec": {
   "display_name": "Python 3 (ipykernel)",
   "language": "python",
   "name": "python3"
  },
  "language_info": {
   "codemirror_mode": {
    "name": "ipython",
    "version": 3
   },
   "file_extension": ".py",
   "mimetype": "text/x-python",
   "name": "python",
   "nbconvert_exporter": "python",
   "pygments_lexer": "ipython3",
   "version": "3.11.3"
  }
 },
 "nbformat": 4,
 "nbformat_minor": 5
}
